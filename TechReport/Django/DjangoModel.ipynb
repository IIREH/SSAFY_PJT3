{
 "cells": [
  {
   "cell_type": "markdown",
   "id": "011318d0",
   "metadata": {},
   "source": [
    "# Django Model"
   ]
  },
  {
   "cell_type": "markdown",
   "id": "3e5e48ff",
   "metadata": {},
   "source": [
    "### 목차"
   ]
  },
  {
   "cell_type": "markdown",
   "id": "f0c28c61",
   "metadata": {},
   "source": [
    "- Model\n",
    "- ORM\n",
    "- Migrations\n",
    "- Database API\n",
    "- CRUD\n",
    "- Admin Site"
   ]
  },
  {
   "cell_type": "markdown",
   "id": "eb311f3e",
   "metadata": {},
   "source": [
    "  "
   ]
  },
  {
   "cell_type": "markdown",
   "id": "c31a2408",
   "metadata": {},
   "source": [
    "## Model"
   ]
  },
  {
   "cell_type": "markdown",
   "id": "0138d31a",
   "metadata": {},
   "source": [
    "### Model"
   ]
  },
  {
   "cell_type": "markdown",
   "id": "1516a7ea",
   "metadata": {},
   "source": [
    "- 단일한 데이터에 대한 정보를 가짐\n",
    " - 사용자가 지정하는 데이터들의 필수적인 필드들과 동작들을 포함\n",
    "<br><br>\n",
    "- 저장된 데이터베이스의 구조(Layout)\n",
    "<br><br>\n",
    "- Django는 model을 통해 데이터에 접속하고 관리\n",
    "<br><br>\n",
    "- 일반적으로 각각의 model은 하나의 데이터베이스 테이블에 매핑 됨"
   ]
  },
  {
   "cell_type": "markdown",
   "id": "b8e81e9c",
   "metadata": {},
   "source": [
    "### Database"
   ]
  },
  {
   "cell_type": "markdown",
   "id": "97751531",
   "metadata": {},
   "source": [
    "- 데이터베이스(DB)\n",
    " - 체계화된 데이터의 모임\n",
    "<br><br>\n",
    "- 쿼리(Query)\n",
    " - 데이터를 조회하기 위한 명령어\n",
    " - 조건에 맞는 데이터를 추출하거나 조작하는 명령어\n",
    " - \"Query를 날린다.\" → DB를 조작한다."
   ]
  },
  {
   "cell_type": "markdown",
   "id": "cfe32e92",
   "metadata": {},
   "source": [
    "### Database의 기본 구조"
   ]
  },
  {
   "cell_type": "markdown",
   "id": "31e11253",
   "metadata": {},
   "source": [
    "- 스키마(Schema)\n",
    " - 데이터베이스에서 자료의 구조, 표현방법, 관계 등을 정의한 구조 (structure)\n",
    "<br><br>\n",
    "- 테이블(Table)\n",
    " - 열(column) : 필드(field) or 속성\n",
    " - 행(row) : 레코드(record) or 튜플"
   ]
  },
  {
   "cell_type": "markdown",
   "id": "0c1cecd9",
   "metadata": {},
   "source": [
    "![](img/database.png)"
   ]
  },
  {
   "cell_type": "markdown",
   "id": "94e91fff",
   "metadata": {},
   "source": [
    "![](img/database2.png)"
   ]
  },
  {
   "cell_type": "markdown",
   "id": "0ef0a49b",
   "metadata": {},
   "source": [
    "![](img/database3.png)"
   ]
  },
  {
   "cell_type": "markdown",
   "id": "75717786",
   "metadata": {},
   "source": [
    "![](img/database4.png)"
   ]
  },
  {
   "cell_type": "markdown",
   "id": "c948b92b",
   "metadata": {},
   "source": [
    "![](img/database5.png)"
   ]
  },
  {
   "cell_type": "markdown",
   "id": "0c5f2f72",
   "metadata": {},
   "source": [
    "### Model 정리"
   ]
  },
  {
   "cell_type": "markdown",
   "id": "50a9280b",
   "metadata": {},
   "source": [
    "> 웹 애플리케이션의 데이터를 구조화하고 조작하기 위한 도구"
   ]
  },
  {
   "cell_type": "markdown",
   "id": "389737be",
   "metadata": {},
   "source": [
    "  "
   ]
  },
  {
   "cell_type": "markdown",
   "id": "194d4257",
   "metadata": {},
   "source": [
    "## ORM"
   ]
  },
  {
   "cell_type": "markdown",
   "id": "21523e85",
   "metadata": {},
   "source": [
    "### ORM"
   ]
  },
  {
   "cell_type": "markdown",
   "id": "9ea3a0bc",
   "metadata": {},
   "source": [
    "- Object-Relational-Mapping\n",
    "<br><br>\n",
    "- 객체 지향 프로그래밍 언어를 사용하여 호환되지 않는 유형의 시스템 간에(Django - SQL) 데이터를 변화하는 프로그램이 기술\n",
    "<br><br>\n",
    "- OOP 프로그래밍에서 RDBMS를 연동할 때, 데이터베이스와 객체 지향 프로그래밍<br>\n",
    "  언어 간의 호환되지 않는 데이터를 변환하는 프로그래밍 기법\n",
    "<br><br>\n",
    "- Django는 내장 Django ORM을 사용함"
   ]
  },
  {
   "cell_type": "markdown",
   "id": "79ed4829",
   "metadata": {},
   "source": [
    "#### ORM 예시"
   ]
  },
  {
   "cell_type": "markdown",
   "id": "9dd071b4",
   "metadata": {},
   "source": [
    "![](img/orm.png)"
   ]
  },
  {
   "cell_type": "markdown",
   "id": "c2c59057",
   "metadata": {},
   "source": [
    "![](img/orm2.png)"
   ]
  },
  {
   "cell_type": "markdown",
   "id": "15c13a47",
   "metadata": {},
   "source": [
    "### ORM의 장점과 단점"
   ]
  },
  {
   "cell_type": "markdown",
   "id": "806489be",
   "metadata": {},
   "source": [
    "- 장점\n",
    " - SQL을 잘 알지 못해도 DB 조작이 가능\n",
    " - SQL의 절차적 접근이 아닌 객체 지향적 접근으로 인한 높은 생산성\n",
    "<br><br>\n",
    "- 단점\n",
    " - ORM 만으로 완전한 서비스를 구현하기 어려운 경우가 있음\n",
    "<br><br>\n",
    "- 현대 웹 프레임워크의 요점은 웹 개발의 속도를 높이는 것. (생산성)"
   ]
  },
  {
   "cell_type": "markdown",
   "id": "529e3ed1",
   "metadata": {},
   "source": [
    "### 왜 ORM을 사용할까?"
   ]
  },
  {
   "cell_type": "markdown",
   "id": "07943f16",
   "metadata": {},
   "source": [
    "> 우리는 DB 객체(object)로 조작하기 위해 ORM을 사용한다."
   ]
  },
  {
   "cell_type": "markdown",
   "id": "06c234d8",
   "metadata": {},
   "source": [
    "### models.py 작성"
   ]
  },
  {
   "cell_type": "code",
   "execution_count": null,
   "id": "02eb0cb9",
   "metadata": {},
   "outputs": [],
   "source": [
    "# article/models.py\n",
    "\n",
    "class Article(model.Model):\n",
    "    title = model.CharField(max_length=10)\n",
    "    content = model.TextField()"
   ]
  },
  {
   "cell_type": "markdown",
   "id": "ff76e21a",
   "metadata": {},
   "source": [
    "- DB 칼럼과 어떠한 타입으로 정의할 것인지에 대해 django.db라는 모듈의 models를 상속\n",
    " - 각 모델은 django.db.models.Model 클래스의 서브 클래스로 표현\n",
    "<br><br> \n",
    "- title content는 모델의 필드를 나타냄\n",
    " - 각 필드는 클래스 속성으로 지정되어 있으며, 각 속성은 각 데이터베이스의 열에 매핑"
   ]
  },
  {
   "cell_type": "markdown",
   "id": "36b2944b",
   "metadata": {},
   "source": [
    "### 사용 모델 필드"
   ]
  },
  {
   "cell_type": "markdown",
   "id": "a7febeaf",
   "metadata": {},
   "source": [
    "- CharField( max_length=None, **options )\n",
    " - 길이의 제한이 있는 문자열을 넣을 때 사용\n",
    " - CharField max_length는 필수 인자\n",
    " - 필드의 최대 길이(문자), 데이터베이스 레벨과 Django의 유효성을 검사(값을 검증하는 것)에서 활용"
   ]
  },
  {
   "cell_type": "markdown",
   "id": "272f019f",
   "metadata": {},
   "source": [
    "- TextField( **options )\n",
    " - 글자의 수가 많을 때 사용\n",
    " - max_length 옵션 작성시 자동 양식 필드인 textarea 위젯에 반영은 되지만 모델과 데이터베이스 수준에는 적용되지 않음\n",
    " - max_length 사용은 CharField에서 사용해야 함"
   ]
  },
  {
   "cell_type": "markdown",
   "id": "7f6dd94c",
   "metadata": {},
   "source": [
    "  "
   ]
  },
  {
   "cell_type": "markdown",
   "id": "b2b32625",
   "metadata": {},
   "source": [
    "## Migrations"
   ]
  },
  {
   "cell_type": "markdown",
   "id": "b394ea3f",
   "metadata": {},
   "source": [
    "### Migrations"
   ]
  },
  {
   "cell_type": "markdown",
   "id": "7fedfe26",
   "metadata": {},
   "source": [
    "> django가 model에 생긴 변화를 반영하는 방법"
   ]
  },
  {
   "cell_type": "markdown",
   "id": "131cbff7",
   "metadata": {},
   "source": [
    "- Migration(이하 마이그레이션) 실행 및 DB 스키마를 다루기 위한 몇가지 명령어\n",
    " - makemigrations\n",
    " - migrate\n",
    " - sqlmigrate\n",
    " - showmigrations"
   ]
  },
  {
   "cell_type": "markdown",
   "id": "8568c9a2",
   "metadata": {},
   "source": [
    "### Migrations Commands - 1"
   ]
  },
  {
   "cell_type": "markdown",
   "id": "7f6226d6",
   "metadata": {},
   "source": [
    "1. makemigrations\n",
    "- model을 변경한 것에 기반한 새로운 마이그레이션(설계도)을 만들 때 사용\n",
    "<br><br>\n",
    "2. migrate\n",
    "- 마이그레이션을 DB에 반영하기 위해 사용\n",
    "- 설계도를 실제 DB에 반영하는 과정\n",
    "- 모델에서의 변경 사항들과 DB의 스키마가 동기화를 이룸\n",
    "<br><br>\n",
    "3. sqlmigrate\n",
    " - 마이그레이션에 대한 SQL 구문을 보기 위해 사용\n",
    " - 마이그레이션이 SQL 문으로 어떻게 해석되어서 동작할지 미리 확인할 수 있음\n",
    "<br><br>\n",
    "4. showmigrations\n",
    " - 프로젝트 전체의 마이그레이션 상태를 확인하기 위해 사용\n",
    " - 마이그레이션 파일들이 migrate 됐는지 안됐는지 여부를 확인 할 수 있음"
   ]
  },
  {
   "cell_type": "markdown",
   "id": "1a964512",
   "metadata": {},
   "source": [
    "#### [실습] makemigrations"
   ]
  },
  {
   "cell_type": "markdown",
   "id": "a595cedb",
   "metadata": {},
   "source": [
    "![](img/migrations.png)"
   ]
  },
  {
   "cell_type": "markdown",
   "id": "33678884",
   "metadata": {},
   "source": [
    "#### [실습] migrate"
   ]
  },
  {
   "cell_type": "markdown",
   "id": "71f297eb",
   "metadata": {},
   "source": [
    "![](img/migrate.png)"
   ]
  },
  {
   "cell_type": "markdown",
   "id": "d5c651cf",
   "metadata": {},
   "source": [
    "#### [실습] 실제 DB table 확인"
   ]
  },
  {
   "cell_type": "markdown",
   "id": "e5825c4e",
   "metadata": {},
   "source": [
    "![](img/dbtable.png)"
   ]
  },
  {
   "cell_type": "markdown",
   "id": "8066fae2",
   "metadata": {},
   "source": [
    "#### [실습] sqlmigrate"
   ]
  },
  {
   "attachments": {},
   "cell_type": "markdown",
   "id": "eb9d6811",
   "metadata": {},
   "source": [
    "![](img/sqlmigration.png)"
   ]
  },
  {
   "cell_type": "markdown",
   "id": "a44d880c",
   "metadata": {},
   "source": [
    "![](img/dbsql.png)"
   ]
  },
  {
   "cell_type": "markdown",
   "id": "ac0d744a",
   "metadata": {},
   "source": [
    "#### [실습] showmigrations"
   ]
  },
  {
   "cell_type": "markdown",
   "id": "14cdba63",
   "metadata": {},
   "source": [
    "![](img/show.png)"
   ]
  },
  {
   "cell_type": "markdown",
   "id": "d9db6789",
   "metadata": {},
   "source": [
    "![](img/show2.png)"
   ]
  },
  {
   "cell_type": "markdown",
   "id": "68e12f5e",
   "metadata": {},
   "source": [
    "#### [실습] model 수정"
   ]
  },
  {
   "cell_type": "markdown",
   "id": "498d6036",
   "metadata": {},
   "source": [
    "![](img/addmodel.png)"
   ]
  },
  {
   "cell_type": "markdown",
   "id": "9231455f",
   "metadata": {},
   "source": [
    "![](img/create.png)"
   ]
  },
  {
   "cell_type": "markdown",
   "id": "a602559b",
   "metadata": {},
   "source": [
    "![](img/show3.png)"
   ]
  },
  {
   "cell_type": "markdown",
   "id": "a59aed6d",
   "metadata": {},
   "source": [
    "### DateField's options"
   ]
  },
  {
   "cell_type": "markdown",
   "id": "b4c42f00",
   "metadata": {},
   "source": [
    "- auto_now_add\n",
    " - 최초 생성 일자\n",
    " - django ORM이 최초 insert(테이블에 데이터 입력)시에만 현재 날짜와 시가능로 갱신(테이블에 어떤 값을 최초로 넣을 때)\n",
    "<br><br>\n",
    "- auto_now\n",
    " - 최종 수정 일자\n",
    " - django ORM이 save를 할 때마다 현재 날짜와 시간으로 갱신"
   ]
  },
  {
   "cell_type": "markdown",
   "id": "c4d3241c",
   "metadata": {},
   "source": [
    "### 반드시 기억해야 할 migration 3단계"
   ]
  },
  {
   "cell_type": "markdown",
   "id": "d28e54ed",
   "metadata": {},
   "source": [
    "1. models.py\n",
    " - model 변경사항 발생 시\n",
    "<br><br>\n",
    "2. python manage.py makemigrations\n",
    " - migrations 파일 생성\n",
    "<br><br>\n",
    "3. python manage.py migrate\n",
    " - DB 반영(모델 DB의 동기화)"
   ]
  },
  {
   "cell_type": "markdown",
   "id": "a34e4f87",
   "metadata": {},
   "source": [
    "  "
   ]
  },
  {
   "cell_type": "markdown",
   "id": "d227d81b",
   "metadata": {},
   "source": [
    "## Database API"
   ]
  },
  {
   "cell_type": "markdown",
   "id": "26057db7",
   "metadata": {},
   "source": [
    "### DB API"
   ]
  },
  {
   "cell_type": "markdown",
   "id": "4b1485c8",
   "metadata": {},
   "source": [
    "> DB를 조작하기 위한 도구"
   ]
  },
  {
   "cell_type": "markdown",
   "id": "a1f522a8",
   "metadata": {},
   "source": [
    "- django가 기본적으로 ORM을 제공함에 따른 것으로 DB를 편하게 조작할 수 있도록 도움\n",
    "<br><br>\n",
    "- Model을 만들면 django 객체들을 만들고 읽고 수정하고 지울 수 있는 database-abstract API를 자동으로 만듦\n",
    "<br><br>\n",
    "- database-abstract API 혹은 database-access API라고도 함"
   ]
  },
  {
   "cell_type": "markdown",
   "id": "0c2f454e",
   "metadata": {},
   "source": [
    "### DB API 구문 - Making Queries"
   ]
  },
  {
   "cell_type": "markdown",
   "id": "4dddc010",
   "metadata": {},
   "source": [
    "![](img/api.png)"
   ]
  },
  {
   "cell_type": "markdown",
   "id": "5b3e02eb",
   "metadata": {},
   "source": [
    "### DB API"
   ]
  },
  {
   "cell_type": "markdown",
   "id": "3298193f",
   "metadata": {},
   "source": [
    "- Manager\n",
    " - django 모델에 데이터베이스 query 작업이 제공되는 인터페이스\n",
    " - 기본적으로 모든 django 모델 클래스에 object라는 Manager를 추가\n",
    "<br><br>\n",
    "- QuerySet\n",
    " - 데이터베이스로부터 전달받은 객체 목록\n",
    " - queryset 안의 객체는 0개, 1개 혹은 여러 개일 수 있음\n",
    " - 데이터베이스로부터 조회, 필터, 정렬 등을 수행할 수 있음"
   ]
  },
  {
   "cell_type": "markdown",
   "id": "1202acdc",
   "metadata": {},
   "source": [
    "### Django shell"
   ]
  },
  {
   "cell_type": "markdown",
   "id": "81f47251",
   "metadata": {},
   "source": [
    "- 일반 Python shell을 통해서는 장고 프로젝트 환경에 접근할 수 없음\n",
    "- 그래서 장고 프로젝트 설정이 load된 Python shell을 활용해 DB API 구문 테스트 진행\n",
    "<br><br>\n",
    "- 기본 Django shell 보다 더 많은 기능을 제공하는 shell_plus를 사용해서 진행\n",
    " - Django-extensions 라이브러리의 기능 중 하나"
   ]
  },
  {
   "cell_type": "markdown",
   "id": "250fdb8e",
   "metadata": {},
   "source": [
    "#### [실습] 라이브러리 설치"
   ]
  },
  {
   "cell_type": "markdown",
   "id": "99109cb4",
   "metadata": {},
   "source": [
    "![](img/installlib.png)"
   ]
  },
  {
   "cell_type": "markdown",
   "id": "b515b477",
   "metadata": {},
   "source": [
    "![](img/lib.png)"
   ]
  },
  {
   "attachments": {},
   "cell_type": "markdown",
   "id": "754db13b",
   "metadata": {},
   "source": [
    "![](img/lib3.png)"
   ]
  },
  {
   "cell_type": "markdown",
   "id": "302c6cff",
   "metadata": {},
   "source": [
    "  "
   ]
  },
  {
   "cell_type": "markdown",
   "id": "63d3c3ab",
   "metadata": {},
   "source": [
    "## CRUD"
   ]
  },
  {
   "cell_type": "markdown",
   "id": "c3929511",
   "metadata": {},
   "source": []
  },
  {
   "cell_type": "markdown",
   "id": "efe4e8ae",
   "metadata": {},
   "source": []
  },
  {
   "cell_type": "markdown",
   "id": "efb6715e",
   "metadata": {},
   "source": []
  },
  {
   "cell_type": "markdown",
   "id": "7fe033ea",
   "metadata": {},
   "source": []
  },
  {
   "cell_type": "markdown",
   "id": "ded90cb9",
   "metadata": {},
   "source": []
  },
  {
   "cell_type": "markdown",
   "id": "2016876f",
   "metadata": {},
   "source": []
  }
 ],
 "metadata": {
  "kernelspec": {
   "display_name": "Python 3 (ipykernel)",
   "language": "python",
   "name": "python3"
  },
  "language_info": {
   "codemirror_mode": {
    "name": "ipython",
    "version": 3
   },
   "file_extension": ".py",
   "mimetype": "text/x-python",
   "name": "python",
   "nbconvert_exporter": "python",
   "pygments_lexer": "ipython3",
   "version": "3.9.7"
  }
 },
 "nbformat": 4,
 "nbformat_minor": 5
}
