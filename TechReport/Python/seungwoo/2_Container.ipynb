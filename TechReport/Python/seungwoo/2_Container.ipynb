{
 "cells": [
  {
   "cell_type": "markdown",
   "id": "13979d1b",
   "metadata": {},
   "source": [
    "# 컨테이너"
   ]
  },
  {
   "cell_type": "markdown",
   "id": "ee27e6a9",
   "metadata": {},
   "source": [
    "1. 시퀀스형 컨테이너\n",
    "<br><br>\n",
    "2. 비 시퀀스형 컨테이너"
   ]
  },
  {
   "cell_type": "markdown",
   "id": "93684899",
   "metadata": {},
   "source": [
    "### 컨테이너(Container)\n",
    "\n",
    "- 여러 개의 값을 저장할 수 있는 것(객체)    \n",
    "<br><br>\n",
    "- 시퀀스(Sequence)형 순서가 있는(ordered) 데이터  \n",
    " - 순서가 있다 != 정렬되어 있다  \n",
    " - 리스트(list), 튜플(tuple), 레인지(range), 문자형(string), 바이너리(binary)    \n",
    "<br><br>  \n",
    "- 비 시퀀스(non-sequence)형 : 순서가 없는(unordered) 데이터\n",
    " - 세트(set), 딕셔너리(dictionary)"
   ]
  },
  {
   "cell_type": "markdown",
   "id": "80fe46df",
   "metadata": {},
   "source": [
    "  "
   ]
  },
  {
   "cell_type": "markdown",
   "id": "ad5f5ebc",
   "metadata": {},
   "source": [
    "# 1. 시퀀스(sequence)형 순서가 있는(ordered) 데이터"
   ]
  },
  {
   "cell_type": "markdown",
   "id": "fff219a6",
   "metadata": {},
   "source": [
    "## 리스트(List)"
   ]
  },
  {
   "cell_type": "markdown",
   "id": "92ed7b75",
   "metadata": {},
   "source": [
    "- 리스트는 순서가 있는 시퀀스로 인덱스를 통해 접근\n",
    "- 인덱스는 0부터 시작"
   ]
  },
  {
   "cell_type": "markdown",
   "id": "35ffab37",
   "metadata": {},
   "source": [
    "- 리스트는 순서가 있는 시퀀스로 인덱스를 통해 접근\n",
    " - 대괄호([ ]) 혹은 list()를 통해 생성\n",
    " - 값에 대한 접근은 list[i]"
   ]
  },
  {
   "cell_type": "code",
   "execution_count": 15,
   "id": "9ba060c3",
   "metadata": {},
   "outputs": [
    {
     "data": {
      "text/plain": [
       "[1, 2, 3]"
      ]
     },
     "execution_count": 15,
     "metadata": {},
     "output_type": "execute_result"
    }
   ],
   "source": [
    "[1, 2, 3]"
   ]
  },
  {
   "cell_type": "code",
   "execution_count": 16,
   "id": "1ec1ab82",
   "metadata": {},
   "outputs": [
    {
     "data": {
      "text/plain": [
       "[1, 2, 3]"
      ]
     },
     "execution_count": 16,
     "metadata": {},
     "output_type": "execute_result"
    }
   ],
   "source": [
    "list((1, 2, 3))"
   ]
  },
  {
   "cell_type": "code",
   "execution_count": 17,
   "id": "6cb56a4d",
   "metadata": {},
   "outputs": [
    {
     "name": "stdout",
     "output_type": "stream",
     "text": [
      "<class 'list'>\n"
     ]
    }
   ],
   "source": [
    "print(type([1, 2, 3]))"
   ]
  },
  {
   "cell_type": "code",
   "execution_count": 18,
   "id": "a8efe21d",
   "metadata": {},
   "outputs": [
    {
     "name": "stdout",
     "output_type": "stream",
     "text": [
      "1\n"
     ]
    }
   ],
   "source": [
    "# 값 접근\n",
    "a = [1, 2, 3]\n",
    "print(a[0])"
   ]
  },
  {
   "cell_type": "code",
   "execution_count": 20,
   "id": "73805c78",
   "metadata": {},
   "outputs": [
    {
     "name": "stdout",
     "output_type": "stream",
     "text": [
      "['1', 2, 3]\n"
     ]
    }
   ],
   "source": [
    "# 값 변경, 서로 다른 타입의 데이터를 저장할 수 있다\n",
    "a[0] = '1'\n",
    "print(a)"
   ]
  },
  {
   "cell_type": "code",
   "execution_count": 21,
   "id": "5e1e91b9",
   "metadata": {},
   "outputs": [],
   "source": [
    "a=[[1,2], [3,5]]"
   ]
  },
  {
   "cell_type": "code",
   "execution_count": 22,
   "id": "14d675fb",
   "metadata": {},
   "outputs": [
    {
     "data": {
      "text/plain": [
       "2"
      ]
     },
     "execution_count": 22,
     "metadata": {},
     "output_type": "execute_result"
    }
   ],
   "source": [
    "a[0][1]"
   ]
  },
  {
   "cell_type": "markdown",
   "id": "8696c7b8",
   "metadata": {},
   "source": [
    "## 튜플(Tuple)"
   ]
  },
  {
   "cell_type": "markdown",
   "id": "a220e31a",
   "metadata": {},
   "source": [
    "- 튜플은 수정 불가능한(immutable) 시퀀스로 인덱스 접근\n",
    " - 소괄호(( )) 혹은 tuple()을 통해 생성\n",
    " - 값에 대한 접근은 my_tuple[i]"
   ]
  },
  {
   "cell_type": "code",
   "execution_count": 23,
   "id": "bcf2da34",
   "metadata": {},
   "outputs": [
    {
     "data": {
      "text/plain": [
       "(1, 2, 3, 1)"
      ]
     },
     "execution_count": 23,
     "metadata": {},
     "output_type": "execute_result"
    }
   ],
   "source": [
    "(1, 2, 3, 1)"
   ]
  },
  {
   "cell_type": "code",
   "execution_count": 24,
   "id": "455270f0",
   "metadata": {},
   "outputs": [
    {
     "data": {
      "text/plain": [
       "(1, 2, 3, 1)"
      ]
     },
     "execution_count": 24,
     "metadata": {},
     "output_type": "execute_result"
    }
   ],
   "source": [
    "tuple((1, 2, 3, 1))"
   ]
  },
  {
   "cell_type": "code",
   "execution_count": 25,
   "id": "da6d3eb6",
   "metadata": {},
   "outputs": [
    {
     "data": {
      "text/plain": [
       "tuple"
      ]
     },
     "execution_count": 25,
     "metadata": {},
     "output_type": "execute_result"
    }
   ],
   "source": [
    "type((1, 2, 3, 1))"
   ]
  },
  {
   "cell_type": "code",
   "execution_count": 26,
   "id": "e781f731",
   "metadata": {},
   "outputs": [
    {
     "data": {
      "text/plain": [
       "2"
      ]
     },
     "execution_count": 26,
     "metadata": {},
     "output_type": "execute_result"
    }
   ],
   "source": [
    "# 값 접근\n",
    "a = (1, 2, 3, 1)\n",
    "a[1]"
   ]
  },
  {
   "cell_type": "code",
   "execution_count": 27,
   "id": "f5f71af1",
   "metadata": {},
   "outputs": [
    {
     "ename": "TypeError",
     "evalue": "'tuple' object does not support item assignment",
     "output_type": "error",
     "traceback": [
      "\u001b[1;31m---------------------------------------------------------------------------\u001b[0m",
      "\u001b[1;31mTypeError\u001b[0m                                 Traceback (most recent call last)",
      "\u001b[1;32mC:\\Users\\MULTIC~1\\AppData\\Local\\Temp/ipykernel_5320/2610974752.py\u001b[0m in \u001b[0;36m<module>\u001b[1;34m\u001b[0m\n\u001b[0;32m      1\u001b[0m \u001b[1;31m# 값 변경 => 불가능\u001b[0m\u001b[1;33m\u001b[0m\u001b[1;33m\u001b[0m\u001b[0m\n\u001b[1;32m----> 2\u001b[1;33m \u001b[0ma\u001b[0m\u001b[1;33m[\u001b[0m\u001b[1;36m1\u001b[0m\u001b[1;33m]\u001b[0m \u001b[1;33m=\u001b[0m \u001b[1;34m'3'\u001b[0m\u001b[1;33m\u001b[0m\u001b[1;33m\u001b[0m\u001b[0m\n\u001b[0m",
      "\u001b[1;31mTypeError\u001b[0m: 'tuple' object does not support item assignment"
     ]
    }
   ],
   "source": [
    "# 값 변경 => 불가능\n",
    "a[1] = '3'"
   ]
  },
  {
   "cell_type": "markdown",
   "id": "f9cd87e0",
   "metadata": {},
   "source": [
    "- 튜플은 일반적으로 파이썬 내부에서 활용됨  \n",
    " - multiple assignment\n",
    " - 추후 함수에서 복수의 값을 반환하는 경우에도 활용"
   ]
  },
  {
   "cell_type": "code",
   "execution_count": 29,
   "id": "e10b9d08",
   "metadata": {},
   "outputs": [
    {
     "name": "stdout",
     "output_type": "stream",
     "text": [
      "1 2\n"
     ]
    }
   ],
   "source": [
    "x, y = 1, 2\n",
    "print(x, y)"
   ]
  },
  {
   "cell_type": "code",
   "execution_count": 31,
   "id": "2386b9f0",
   "metadata": {},
   "outputs": [
    {
     "name": "stdout",
     "output_type": "stream",
     "text": [
      "1 2\n"
     ]
    }
   ],
   "source": [
    "# 실제로 tuple로 처리\n",
    "x,y = (1, 2)\n",
    "print(x, y)"
   ]
  },
  {
   "cell_type": "code",
   "execution_count": 32,
   "id": "8a1c3e64",
   "metadata": {},
   "outputs": [
    {
     "name": "stdout",
     "output_type": "stream",
     "text": [
      "2 1\n"
     ]
    }
   ],
   "source": [
    "# 두 변수의 값 swap\n",
    "x,y = 1, 2\n",
    "x, y = y, x\n",
    "print(x, y)"
   ]
  },
  {
   "cell_type": "code",
   "execution_count": 33,
   "id": "e01ec1e9",
   "metadata": {},
   "outputs": [
    {
     "name": "stdout",
     "output_type": "stream",
     "text": [
      "(2, 1)\n",
      "2 1\n"
     ]
    }
   ],
   "source": [
    "print(divmod(5, 2))\n",
    "quotient, remainder = divmod(5, 2)\n",
    "print(quotient, remainder)"
   ]
  },
  {
   "cell_type": "code",
   "execution_count": 34,
   "id": "7151baac",
   "metadata": {},
   "outputs": [
    {
     "name": "stdout",
     "output_type": "stream",
     "text": [
      "<class 'tuple'>\n"
     ]
    }
   ],
   "source": [
    "print(type(divmod(5, 2)))"
   ]
  },
  {
   "cell_type": "markdown",
   "id": "26457cd7",
   "metadata": {},
   "source": [
    "- 하나의 항목으로 구성된 튜플은 생성시 값 뒤에 쉼표를 붙여야 한다"
   ]
  },
  {
   "cell_type": "code",
   "execution_count": 35,
   "id": "531f26f4",
   "metadata": {},
   "outputs": [
    {
     "name": "stdout",
     "output_type": "stream",
     "text": [
      "<class 'int'>\n"
     ]
    }
   ],
   "source": [
    "a = (1)\n",
    "print(type(a))"
   ]
  },
  {
   "cell_type": "code",
   "execution_count": 36,
   "id": "4e4ffa27",
   "metadata": {},
   "outputs": [
    {
     "name": "stdout",
     "output_type": "stream",
     "text": [
      "<class 'tuple'>\n"
     ]
    }
   ],
   "source": [
    "b = (1, )\n",
    "print(type(b))"
   ]
  },
  {
   "cell_type": "markdown",
   "id": "93fd345e",
   "metadata": {},
   "source": [
    "## 레인지(Range)"
   ]
  },
  {
   "cell_type": "markdown",
   "id": "c1ca8ac5",
   "metadata": {},
   "source": [
    "- 기본형 : range(n)\n",
    "  - 0부터 n-1까지의 숫자의 시퀀스\n",
    "- 범위 지정 : range(n, m)\n",
    "  - n부터 m-1까지의 숫자의 시퀀스\n",
    "- 범위 및 스텝 지정 : range(n, m, s)\n",
    "  - n부터 m-1까지 s만큼 증가시키며 숫자의 시퀀스"
   ]
  },
  {
   "cell_type": "markdown",
   "id": "e42da337",
   "metadata": {},
   "source": [
    "- range는 숫자의 시퀀스를 나타내기 위해 사용"
   ]
  },
  {
   "cell_type": "code",
   "execution_count": 5,
   "id": "e774ed64",
   "metadata": {},
   "outputs": [
    {
     "data": {
      "text/plain": [
       "range(0, 4)"
      ]
     },
     "execution_count": 5,
     "metadata": {},
     "output_type": "execute_result"
    }
   ],
   "source": [
    "range(4)"
   ]
  },
  {
   "cell_type": "code",
   "execution_count": 3,
   "id": "586a1f91",
   "metadata": {},
   "outputs": [
    {
     "data": {
      "text/plain": [
       "[0, 1, 2, 3]"
      ]
     },
     "execution_count": 3,
     "metadata": {},
     "output_type": "execute_result"
    }
   ],
   "source": [
    "list(range(4))"
   ]
  },
  {
   "cell_type": "code",
   "execution_count": 4,
   "id": "67a7ffaf",
   "metadata": {},
   "outputs": [
    {
     "name": "stdout",
     "output_type": "stream",
     "text": [
      "<class 'range'>\n"
     ]
    }
   ],
   "source": [
    "print(type(range(4)))"
   ]
  },
  {
   "cell_type": "code",
   "execution_count": 6,
   "id": "eb9e9fb6",
   "metadata": {},
   "outputs": [
    {
     "data": {
      "text/plain": [
       "[0, 1, 2]"
      ]
     },
     "execution_count": 6,
     "metadata": {},
     "output_type": "execute_result"
    }
   ],
   "source": [
    "# 0부터 특정 숫자까지\n",
    "list(range(3))"
   ]
  },
  {
   "cell_type": "code",
   "execution_count": 7,
   "id": "f0bbb0ff",
   "metadata": {},
   "outputs": [
    {
     "data": {
      "text/plain": [
       "[1, 2, 3, 4]"
      ]
     },
     "execution_count": 7,
     "metadata": {},
     "output_type": "execute_result"
    }
   ],
   "source": [
    "# 숫자의 범위\n",
    "list(range(1,5))"
   ]
  },
  {
   "cell_type": "code",
   "execution_count": 8,
   "id": "f35ad6d6",
   "metadata": {},
   "outputs": [
    {
     "data": {
      "text/plain": [
       "[1, 3]"
      ]
     },
     "execution_count": 8,
     "metadata": {},
     "output_type": "execute_result"
    }
   ],
   "source": [
    "# steop 활용\n",
    "list(range(1, 5, 2))"
   ]
  },
  {
   "cell_type": "code",
   "execution_count": 10,
   "id": "12af3d8f",
   "metadata": {},
   "outputs": [
    {
     "data": {
      "text/plain": [
       "[6, 5, 4, 3, 2]"
      ]
     },
     "execution_count": 10,
     "metadata": {},
     "output_type": "execute_result"
    }
   ],
   "source": [
    "# 역순\n",
    "list(range(6, 1, -1))"
   ]
  },
  {
   "cell_type": "code",
   "execution_count": 11,
   "id": "437a9662",
   "metadata": {},
   "outputs": [
    {
     "data": {
      "text/plain": [
       "[]"
      ]
     },
     "execution_count": 11,
     "metadata": {},
     "output_type": "execute_result"
    }
   ],
   "source": [
    "list(range(1,3,-1))"
   ]
  },
  {
   "cell_type": "code",
   "execution_count": 12,
   "id": "db725e22",
   "metadata": {},
   "outputs": [
    {
     "data": {
      "text/plain": [
       "[]"
      ]
     },
     "execution_count": 12,
     "metadata": {},
     "output_type": "execute_result"
    }
   ],
   "source": [
    "list(range(6,1,1))"
   ]
  },
  {
   "cell_type": "markdown",
   "id": "6f6eb29f",
   "metadata": {},
   "source": [
    "### 시퀀스에서 활용하는 연산자 / 함수"
   ]
  },
  {
   "cell_type": "markdown",
   "id": "7bcda2e0",
   "metadata": {},
   "source": [
    "#### containment test"
   ]
  },
  {
   "cell_type": "markdown",
   "id": "7d2c64ea",
   "metadata": {},
   "source": [
    "- 시퀀스 포함 여부 확인\n",
    " - in\n",
    " - not in"
   ]
  },
  {
   "cell_type": "code",
   "execution_count": 38,
   "id": "1dad7d3c",
   "metadata": {},
   "outputs": [
    {
     "data": {
      "text/plain": [
       "False"
      ]
     },
     "execution_count": 38,
     "metadata": {},
     "output_type": "execute_result"
    }
   ],
   "source": [
    "# 리스트\n",
    "1 in [3, 2]"
   ]
  },
  {
   "cell_type": "code",
   "execution_count": 39,
   "id": "d92e686f",
   "metadata": {},
   "outputs": [
    {
     "data": {
      "text/plain": [
       "False"
      ]
     },
     "execution_count": 39,
     "metadata": {},
     "output_type": "execute_result"
    }
   ],
   "source": [
    "# 튜플\n",
    "4 in (1, 2, 'hi')"
   ]
  },
  {
   "cell_type": "code",
   "execution_count": 40,
   "id": "d9ed6914",
   "metadata": {},
   "outputs": [
    {
     "data": {
      "text/plain": [
       "False"
      ]
     },
     "execution_count": 40,
     "metadata": {},
     "output_type": "execute_result"
    }
   ],
   "source": [
    "# range\n",
    "-3 in range(3)"
   ]
  },
  {
   "cell_type": "code",
   "execution_count": 41,
   "id": "32c75f86",
   "metadata": {},
   "outputs": [
    {
     "data": {
      "text/plain": [
       "True"
      ]
     },
     "execution_count": 41,
     "metadata": {},
     "output_type": "execute_result"
    }
   ],
   "source": [
    "# 문자열\n",
    "'a' in 'apple'"
   ]
  },
  {
   "cell_type": "code",
   "execution_count": 42,
   "id": "3acc54d5",
   "metadata": {},
   "outputs": [
    {
     "data": {
      "text/plain": [
       "True"
      ]
     },
     "execution_count": 42,
     "metadata": {},
     "output_type": "execute_result"
    }
   ],
   "source": [
    "# not in\n",
    "'b' not in 'apple'"
   ]
  },
  {
   "cell_type": "markdown",
   "id": "5dcc00ed",
   "metadata": {},
   "source": [
    "#### concatenation(+)"
   ]
  },
  {
   "cell_type": "markdown",
   "id": "1e48c315",
   "metadata": {},
   "source": [
    "- 시퀀스 간의 concatenation(연결 / 인쇄)\n",
    " - range는 TypeError 발생"
   ]
  },
  {
   "cell_type": "code",
   "execution_count": 43,
   "id": "c1846851",
   "metadata": {},
   "outputs": [
    {
     "data": {
      "text/plain": [
       "[1, 2, 'a']"
      ]
     },
     "execution_count": 43,
     "metadata": {},
     "output_type": "execute_result"
    }
   ],
   "source": [
    "# 리스트\n",
    "[1, 2] + ['a']"
   ]
  },
  {
   "cell_type": "code",
   "execution_count": 44,
   "id": "dbb7f9dd",
   "metadata": {},
   "outputs": [
    {
     "data": {
      "text/plain": [
       "(1, 2, 'a')"
      ]
     },
     "execution_count": 44,
     "metadata": {},
     "output_type": "execute_result"
    }
   ],
   "source": [
    "# 튜플\n",
    "(1, 2) + ('a',)"
   ]
  },
  {
   "cell_type": "code",
   "execution_count": 45,
   "id": "e9a90ee1",
   "metadata": {},
   "outputs": [
    {
     "ename": "TypeError",
     "evalue": "unsupported operand type(s) for +: 'range' and 'range'",
     "output_type": "error",
     "traceback": [
      "\u001b[1;31m---------------------------------------------------------------------------\u001b[0m",
      "\u001b[1;31mTypeError\u001b[0m                                 Traceback (most recent call last)",
      "\u001b[1;32mC:\\Users\\MULTIC~1\\AppData\\Local\\Temp/ipykernel_5320/3460036021.py\u001b[0m in \u001b[0;36m<module>\u001b[1;34m\u001b[0m\n\u001b[0;32m      1\u001b[0m \u001b[1;31m# range\u001b[0m\u001b[1;33m\u001b[0m\u001b[1;33m\u001b[0m\u001b[0m\n\u001b[1;32m----> 2\u001b[1;33m \u001b[0mrange\u001b[0m\u001b[1;33m(\u001b[0m\u001b[1;36m2\u001b[0m\u001b[1;33m)\u001b[0m \u001b[1;33m+\u001b[0m \u001b[0mrange\u001b[0m\u001b[1;33m(\u001b[0m\u001b[1;36m2\u001b[0m\u001b[1;33m,\u001b[0m \u001b[1;36m5\u001b[0m\u001b[1;33m)\u001b[0m\u001b[1;33m\u001b[0m\u001b[1;33m\u001b[0m\u001b[0m\n\u001b[0m",
      "\u001b[1;31mTypeError\u001b[0m: unsupported operand type(s) for +: 'range' and 'range'"
     ]
    }
   ],
   "source": [
    "# range\n",
    "range(2) + range(2, 5)"
   ]
  },
  {
   "cell_type": "code",
   "execution_count": 46,
   "id": "232b079a",
   "metadata": {},
   "outputs": [
    {
     "data": {
      "text/plain": [
       "'12b'"
      ]
     },
     "execution_count": 46,
     "metadata": {},
     "output_type": "execute_result"
    }
   ],
   "source": [
    "# 문자열\n",
    "'12' + 'b'"
   ]
  },
  {
   "cell_type": "markdown",
   "id": "b1f2a217",
   "metadata": {},
   "source": [
    "#### 시퀀스 반복( * )"
   ]
  },
  {
   "cell_type": "markdown",
   "id": "cc68a252",
   "metadata": {},
   "source": [
    "- 시퀀스를 반복\n",
    " - range는 TypeError"
   ]
  },
  {
   "cell_type": "code",
   "execution_count": 47,
   "id": "cabec86b",
   "metadata": {},
   "outputs": [
    {
     "data": {
      "text/plain": [
       "[0, 0, 0, 0, 0, 0, 0, 0]"
      ]
     },
     "execution_count": 47,
     "metadata": {},
     "output_type": "execute_result"
    }
   ],
   "source": [
    "# 리스트\n",
    "[0] * 8"
   ]
  },
  {
   "cell_type": "code",
   "execution_count": 48,
   "id": "11028b30",
   "metadata": {},
   "outputs": [
    {
     "data": {
      "text/plain": [
       "(1, 2, 1, 2, 1, 2)"
      ]
     },
     "execution_count": 48,
     "metadata": {},
     "output_type": "execute_result"
    }
   ],
   "source": [
    "# 튜플\n",
    "(1, 2) * 3"
   ]
  },
  {
   "cell_type": "code",
   "execution_count": 49,
   "id": "b096bf66",
   "metadata": {},
   "outputs": [
    {
     "ename": "TypeError",
     "evalue": "unsupported operand type(s) for *: 'range' and 'int'",
     "output_type": "error",
     "traceback": [
      "\u001b[1;31m---------------------------------------------------------------------------\u001b[0m",
      "\u001b[1;31mTypeError\u001b[0m                                 Traceback (most recent call last)",
      "\u001b[1;32mC:\\Users\\MULTIC~1\\AppData\\Local\\Temp/ipykernel_5320/3304063449.py\u001b[0m in \u001b[0;36m<module>\u001b[1;34m\u001b[0m\n\u001b[0;32m      1\u001b[0m \u001b[1;31m# range\u001b[0m\u001b[1;33m\u001b[0m\u001b[1;33m\u001b[0m\u001b[0m\n\u001b[1;32m----> 2\u001b[1;33m \u001b[0mrange\u001b[0m\u001b[1;33m(\u001b[0m\u001b[1;36m1\u001b[0m\u001b[1;33m)\u001b[0m \u001b[1;33m*\u001b[0m \u001b[1;36m3\u001b[0m\u001b[1;33m\u001b[0m\u001b[1;33m\u001b[0m\u001b[0m\n\u001b[0m",
      "\u001b[1;31mTypeError\u001b[0m: unsupported operand type(s) for *: 'range' and 'int'"
     ]
    }
   ],
   "source": [
    "# range\n",
    "range(1) * 3"
   ]
  },
  {
   "cell_type": "code",
   "execution_count": 50,
   "id": "7be56c9e",
   "metadata": {},
   "outputs": [
    {
     "data": {
      "text/plain": [
       "'hihihi'"
      ]
     },
     "execution_count": 50,
     "metadata": {},
     "output_type": "execute_result"
    }
   ],
   "source": [
    "# 문자열\n",
    "'hi' * 3"
   ]
  },
  {
   "cell_type": "markdown",
   "id": "c0bb82eb",
   "metadata": {},
   "source": [
    "#### 인덱싱(Indexing)"
   ]
  },
  {
   "cell_type": "markdown",
   "id": "8b5c0d8f",
   "metadata": {},
   "source": [
    "- 시퀀스의 특정 인덱스 값에 접근\n",
    " - 해당 인덱스가 없는 경우 IndexError"
   ]
  },
  {
   "cell_type": "code",
   "execution_count": 52,
   "id": "529fc9b2",
   "metadata": {},
   "outputs": [
    {
     "data": {
      "text/plain": [
       "3"
      ]
     },
     "execution_count": 52,
     "metadata": {},
     "output_type": "execute_result"
    }
   ],
   "source": [
    "# 리스트\n",
    "[1, 2, 3][2]"
   ]
  },
  {
   "cell_type": "code",
   "execution_count": 53,
   "id": "58fbc640",
   "metadata": {},
   "outputs": [
    {
     "data": {
      "text/plain": [
       "1"
      ]
     },
     "execution_count": 53,
     "metadata": {},
     "output_type": "execute_result"
    }
   ],
   "source": [
    "# 튜플\n",
    "(1, 2, 3)[0]"
   ]
  },
  {
   "cell_type": "code",
   "execution_count": 54,
   "id": "afb136f3",
   "metadata": {},
   "outputs": [
    {
     "data": {
      "text/plain": [
       "2"
      ]
     },
     "execution_count": 54,
     "metadata": {},
     "output_type": "execute_result"
    }
   ],
   "source": [
    "# range\n",
    "range(3)[2]"
   ]
  },
  {
   "cell_type": "code",
   "execution_count": 55,
   "id": "f88df1e6",
   "metadata": {},
   "outputs": [
    {
     "data": {
      "text/plain": [
       "'a'"
      ]
     },
     "execution_count": 55,
     "metadata": {},
     "output_type": "execute_result"
    }
   ],
   "source": [
    "# 문자열\n",
    "'abc'[0]"
   ]
  },
  {
   "cell_type": "code",
   "execution_count": 56,
   "id": "2593fe69",
   "metadata": {},
   "outputs": [
    {
     "ename": "IndexError",
     "evalue": "list index out of range",
     "output_type": "error",
     "traceback": [
      "\u001b[1;31m---------------------------------------------------------------------------\u001b[0m",
      "\u001b[1;31mIndexError\u001b[0m                                Traceback (most recent call last)",
      "\u001b[1;32mC:\\Users\\MULTIC~1\\AppData\\Local\\Temp/ipykernel_5320/3538919593.py\u001b[0m in \u001b[0;36m<module>\u001b[1;34m\u001b[0m\n\u001b[1;32m----> 1\u001b[1;33m \u001b[1;33m[\u001b[0m\u001b[1;36m1\u001b[0m\u001b[1;33m,\u001b[0m \u001b[1;36m2\u001b[0m\u001b[1;33m,\u001b[0m \u001b[1;36m3\u001b[0m\u001b[1;33m]\u001b[0m\u001b[1;33m[\u001b[0m\u001b[1;36m100\u001b[0m\u001b[1;33m]\u001b[0m\u001b[1;33m\u001b[0m\u001b[1;33m\u001b[0m\u001b[0m\n\u001b[0m",
      "\u001b[1;31mIndexError\u001b[0m: list index out of range"
     ]
    }
   ],
   "source": [
    "[1, 2, 3][100]"
   ]
  },
  {
   "cell_type": "markdown",
   "id": "1cb9df43",
   "metadata": {},
   "source": [
    "#### 슬라이싱"
   ]
  },
  {
   "cell_type": "markdown",
   "id": "668711ee",
   "metadata": {},
   "source": [
    "- 시퀀스를 특정 단위로 슬라이싱"
   ]
  },
  {
   "cell_type": "code",
   "execution_count": 57,
   "id": "8814ee73",
   "metadata": {},
   "outputs": [
    {
     "data": {
      "text/plain": [
       "[2, 3, 5]"
      ]
     },
     "execution_count": 57,
     "metadata": {},
     "output_type": "execute_result"
    }
   ],
   "source": [
    "# 리스트\n",
    "[1, 2, 3, 5][1:4]"
   ]
  },
  {
   "cell_type": "code",
   "execution_count": 58,
   "id": "4660cef8",
   "metadata": {},
   "outputs": [
    {
     "data": {
      "text/plain": [
       "(1, 2)"
      ]
     },
     "execution_count": 58,
     "metadata": {},
     "output_type": "execute_result"
    }
   ],
   "source": [
    "# 튜플, 앞의 원소가 없다면 처음부터라는 뜻이다\n",
    "(1, 2, 3)[:2]"
   ]
  },
  {
   "cell_type": "code",
   "execution_count": 59,
   "id": "fd236713",
   "metadata": {},
   "outputs": [
    {
     "data": {
      "text/plain": [
       "range(5, 8)"
      ]
     },
     "execution_count": 59,
     "metadata": {},
     "output_type": "execute_result"
    }
   ],
   "source": [
    "# range\n",
    "range(10)[5:8]"
   ]
  },
  {
   "cell_type": "code",
   "execution_count": 60,
   "id": "eb1e2a44",
   "metadata": {},
   "outputs": [
    {
     "data": {
      "text/plain": [
       "'cd'"
      ]
     },
     "execution_count": 60,
     "metadata": {},
     "output_type": "execute_result"
    }
   ],
   "source": [
    "# 문자열\n",
    "'abcd'[2:4]"
   ]
  },
  {
   "cell_type": "markdown",
   "id": "136d0d02",
   "metadata": {},
   "source": [
    "![slicing](img/slicing.png)"
   ]
  },
  {
   "cell_type": "markdown",
   "id": "e02d66eb",
   "metadata": {},
   "source": [
    "- 시퀀스를 k간격으로 특정 단위로 슬라이싱"
   ]
  },
  {
   "cell_type": "code",
   "execution_count": 64,
   "id": "13d2bca9",
   "metadata": {},
   "outputs": [
    {
     "data": {
      "text/plain": [
       "[1, 3]"
      ]
     },
     "execution_count": 64,
     "metadata": {},
     "output_type": "execute_result"
    }
   ],
   "source": [
    "# 리스트\n",
    "[1, 2, 3, 5][0:4:2]"
   ]
  },
  {
   "cell_type": "code",
   "execution_count": 67,
   "id": "763175c7",
   "metadata": {},
   "outputs": [
    {
     "data": {
      "text/plain": [
       "(1, 3)"
      ]
     },
     "execution_count": 67,
     "metadata": {},
     "output_type": "execute_result"
    }
   ],
   "source": [
    "# 튜플\n",
    "(1, 2, 3, 5)[0:4:2]"
   ]
  },
  {
   "cell_type": "code",
   "execution_count": 68,
   "id": "5e6e3510",
   "metadata": {},
   "outputs": [
    {
     "data": {
      "text/plain": [
       "range(1, 5, 3)"
      ]
     },
     "execution_count": 68,
     "metadata": {},
     "output_type": "execute_result"
    }
   ],
   "source": [
    "# range\n",
    "range(10)[1:5:3]"
   ]
  },
  {
   "cell_type": "code",
   "execution_count": 69,
   "id": "5ce3b346",
   "metadata": {},
   "outputs": [
    {
     "data": {
      "text/plain": [
       "'b'"
      ]
     },
     "execution_count": 69,
     "metadata": {},
     "output_type": "execute_result"
    }
   ],
   "source": [
    "# 문자열\n",
    "'abcdefg'[1:3:2]"
   ]
  },
  {
   "cell_type": "markdown",
   "id": "941eab4b",
   "metadata": {},
   "source": [
    "#### 길이"
   ]
  },
  {
   "cell_type": "markdown",
   "id": "4805bd8a",
   "metadata": {},
   "source": [
    "- 시퀀스의 길이"
   ]
  },
  {
   "cell_type": "code",
   "execution_count": 71,
   "id": "1131a198",
   "metadata": {},
   "outputs": [
    {
     "data": {
      "text/plain": [
       "3"
      ]
     },
     "execution_count": 71,
     "metadata": {},
     "output_type": "execute_result"
    }
   ],
   "source": [
    "# 리스트\n",
    "len([1, 2, 3])"
   ]
  },
  {
   "cell_type": "code",
   "execution_count": 72,
   "id": "5143bdbb",
   "metadata": {},
   "outputs": [
    {
     "data": {
      "text/plain": [
       "3"
      ]
     },
     "execution_count": 72,
     "metadata": {},
     "output_type": "execute_result"
    }
   ],
   "source": [
    "# 튜플\n",
    "len((1, 2, 3))"
   ]
  },
  {
   "cell_type": "code",
   "execution_count": 73,
   "id": "6bd26bf8",
   "metadata": {},
   "outputs": [
    {
     "data": {
      "text/plain": [
       "100"
      ]
     },
     "execution_count": 73,
     "metadata": {},
     "output_type": "execute_result"
    }
   ],
   "source": [
    "# range\n",
    "len(range(100))"
   ]
  },
  {
   "cell_type": "code",
   "execution_count": 74,
   "id": "1a3e5bc2",
   "metadata": {},
   "outputs": [
    {
     "data": {
      "text/plain": [
       "5"
      ]
     },
     "execution_count": 74,
     "metadata": {},
     "output_type": "execute_result"
    }
   ],
   "source": [
    "# 문자열\n",
    "len('apple')"
   ]
  },
  {
   "cell_type": "markdown",
   "id": "ce6cd604",
   "metadata": {},
   "source": [
    "#### 최소 / 최대"
   ]
  },
  {
   "cell_type": "markdown",
   "id": "70af4aae",
   "metadata": {},
   "source": [
    "- 시퀀스에서의 최소 / 최대값\n",
    " - 문자열은 ascii 코드에 따름\n",
    " - ord 함수 활용하여 확인 가능"
   ]
  },
  {
   "cell_type": "code",
   "execution_count": 75,
   "id": "269ccefb",
   "metadata": {},
   "outputs": [
    {
     "data": {
      "text/plain": [
       "1"
      ]
     },
     "execution_count": 75,
     "metadata": {},
     "output_type": "execute_result"
    }
   ],
   "source": [
    "# 리스트\n",
    "min([1, 100, 59])"
   ]
  },
  {
   "cell_type": "code",
   "execution_count": 76,
   "id": "7a9ff533",
   "metadata": {},
   "outputs": [
    {
     "data": {
      "text/plain": [
       "20"
      ]
     },
     "execution_count": 76,
     "metadata": {},
     "output_type": "execute_result"
    }
   ],
   "source": [
    "# 튜플\n",
    "max((-10, 20, 5))"
   ]
  },
  {
   "cell_type": "code",
   "execution_count": 77,
   "id": "5562e7e1",
   "metadata": {},
   "outputs": [
    {
     "data": {
      "text/plain": [
       "1"
      ]
     },
     "execution_count": 77,
     "metadata": {},
     "output_type": "execute_result"
    }
   ],
   "source": [
    "# range\n",
    "max(range(-100, 2))"
   ]
  },
  {
   "cell_type": "code",
   "execution_count": 78,
   "id": "beedc60d",
   "metadata": {},
   "outputs": [
    {
     "data": {
      "text/plain": [
       "'d'"
      ]
     },
     "execution_count": 78,
     "metadata": {},
     "output_type": "execute_result"
    }
   ],
   "source": [
    "# 문자열\n",
    "max('abcd1234%^!')"
   ]
  },
  {
   "cell_type": "code",
   "execution_count": 79,
   "id": "11a7e938",
   "metadata": {},
   "outputs": [
    {
     "data": {
      "text/plain": [
       "'!'"
      ]
     },
     "execution_count": 79,
     "metadata": {},
     "output_type": "execute_result"
    }
   ],
   "source": [
    "min('abcd1234%^!')"
   ]
  },
  {
   "cell_type": "markdown",
   "id": "dc8fedb3",
   "metadata": {},
   "source": [
    "#### count"
   ]
  },
  {
   "cell_type": "markdown",
   "id": "cd8dfe9a",
   "metadata": {},
   "source": [
    "- 시퀀스에서의 특정 원소의 개수\n",
    " - 시퀀스에 등장하지 않는 경우 0 반환"
   ]
  },
  {
   "cell_type": "code",
   "execution_count": 82,
   "id": "8e3437d6",
   "metadata": {},
   "outputs": [
    {
     "data": {
      "text/plain": [
       "2"
      ]
     },
     "execution_count": 82,
     "metadata": {},
     "output_type": "execute_result"
    }
   ],
   "source": [
    "# 리스트\n",
    "[1, 2, 1, 2, 4].count(1)"
   ]
  },
  {
   "cell_type": "code",
   "execution_count": 83,
   "id": "10f78853",
   "metadata": {},
   "outputs": [
    {
     "data": {
      "text/plain": [
       "3"
      ]
     },
     "execution_count": 83,
     "metadata": {},
     "output_type": "execute_result"
    }
   ],
   "source": [
    "# 튜플\n",
    "(1, 2, 3, 1, 1).count(1)"
   ]
  },
  {
   "cell_type": "code",
   "execution_count": 84,
   "id": "b7df6753",
   "metadata": {},
   "outputs": [
    {
     "data": {
      "text/plain": [
       "0"
      ]
     },
     "execution_count": 84,
     "metadata": {},
     "output_type": "execute_result"
    }
   ],
   "source": [
    "# range\n",
    "range(5).count(5)"
   ]
  },
  {
   "cell_type": "code",
   "execution_count": 85,
   "id": "4158a8e3",
   "metadata": {},
   "outputs": [
    {
     "data": {
      "text/plain": [
       "2"
      ]
     },
     "execution_count": 85,
     "metadata": {},
     "output_type": "execute_result"
    }
   ],
   "source": [
    "# 문자열\n",
    "'apple'.count('p')"
   ]
  },
  {
   "cell_type": "markdown",
   "id": "4aed1a5b",
   "metadata": {},
   "source": [
    "- 실습 문제"
   ]
  },
  {
   "cell_type": "code",
   "execution_count": 86,
   "id": "15f24d6c",
   "metadata": {},
   "outputs": [
    {
     "data": {
      "text/plain": [
       "False"
      ]
     },
     "execution_count": 86,
     "metadata": {},
     "output_type": "execute_result"
    }
   ],
   "source": [
    "([1, 2]*2 + ['apple', 'banana'])[4].count('a') in range(2, 5)"
   ]
  },
  {
   "cell_type": "markdown",
   "id": "9f698f4c",
   "metadata": {},
   "source": [
    "  "
   ]
  },
  {
   "cell_type": "markdown",
   "id": "4fb0f326",
   "metadata": {},
   "source": [
    "# 2. 비시퀀스(non-sequence)형 순서가 없는(unordered) 데이터"
   ]
  },
  {
   "cell_type": "markdown",
   "id": "2532d59f",
   "metadata": {},
   "source": [
    "### 세트(Set)"
   ]
  },
  {
   "cell_type": "markdown",
   "id": "822013dd",
   "metadata": {},
   "source": [
    "- 순서가 없는 자료구조\n",
    " - 중괄호({ }) 혹은 set( )를 통해 생성\n",
    "   - 빈 세트를 만들기 위해서는 set( )을 반드시 활용해야 한다. 그렇지 않으면 딕셔너리로 생성된다.\n",
    " - 순서가 없어 별도의 값에 접근할 수 없음\n",
    "<br><br> \n",
    "- 수학에서의 집합과 동일한 구조를 가짐\n",
    " - 집합 연산이 가능\n",
    " - 중복된 값이 존재하지 않음"
   ]
  },
  {
   "cell_type": "code",
   "execution_count": 1,
   "id": "36748773",
   "metadata": {},
   "outputs": [
    {
     "data": {
      "text/plain": [
       "{1, 2, 3}"
      ]
     },
     "execution_count": 1,
     "metadata": {},
     "output_type": "execute_result"
    }
   ],
   "source": [
    "{1, 2, 3, 1, 2}"
   ]
  },
  {
   "cell_type": "code",
   "execution_count": 2,
   "id": "eff7fa7e",
   "metadata": {},
   "outputs": [
    {
     "name": "stdout",
     "output_type": "stream",
     "text": [
      "<class 'set'>\n"
     ]
    }
   ],
   "source": [
    "print(type({1, 2, 3}))"
   ]
  },
  {
   "cell_type": "code",
   "execution_count": 3,
   "id": "a8b1bb73",
   "metadata": {},
   "outputs": [
    {
     "name": "stdout",
     "output_type": "stream",
     "text": [
      "<class 'dict'>\n"
     ]
    }
   ],
   "source": [
    "# 빈 중괄호는 딕셔너리\n",
    "blank = {}\n",
    "print(type(blank))"
   ]
  },
  {
   "cell_type": "code",
   "execution_count": 4,
   "id": "6853e09e",
   "metadata": {},
   "outputs": [
    {
     "name": "stdout",
     "output_type": "stream",
     "text": [
      "<class 'set'>\n"
     ]
    }
   ],
   "source": [
    "blank_set = set()\n",
    "print(type(set()))"
   ]
  },
  {
   "cell_type": "code",
   "execution_count": 5,
   "id": "ab9a8562",
   "metadata": {},
   "outputs": [
    {
     "name": "stderr",
     "output_type": "stream",
     "text": [
      "<>:1: SyntaxWarning: 'set' object is not subscriptable; perhaps you missed a comma?\n",
      "<>:1: SyntaxWarning: 'set' object is not subscriptable; perhaps you missed a comma?\n",
      "C:\\Users\\MULTIC~1\\AppData\\Local\\Temp/ipykernel_3372/1785148519.py:1: SyntaxWarning: 'set' object is not subscriptable; perhaps you missed a comma?\n",
      "  {1, 2, 3}[0]\n"
     ]
    },
    {
     "ename": "TypeError",
     "evalue": "'set' object is not subscriptable",
     "output_type": "error",
     "traceback": [
      "\u001b[1;31m---------------------------------------------------------------------------\u001b[0m",
      "\u001b[1;31mTypeError\u001b[0m                                 Traceback (most recent call last)",
      "\u001b[1;32mC:\\Users\\MULTIC~1\\AppData\\Local\\Temp/ipykernel_3372/1785148519.py\u001b[0m in \u001b[0;36m<module>\u001b[1;34m\u001b[0m\n\u001b[1;32m----> 1\u001b[1;33m \u001b[1;33m{\u001b[0m\u001b[1;36m1\u001b[0m\u001b[1;33m,\u001b[0m \u001b[1;36m2\u001b[0m\u001b[1;33m,\u001b[0m \u001b[1;36m3\u001b[0m\u001b[1;33m}\u001b[0m\u001b[1;33m[\u001b[0m\u001b[1;36m0\u001b[0m\u001b[1;33m]\u001b[0m\u001b[1;33m\u001b[0m\u001b[1;33m\u001b[0m\u001b[0m\n\u001b[0m",
      "\u001b[1;31mTypeError\u001b[0m: 'set' object is not subscriptable"
     ]
    }
   ],
   "source": [
    "# 순서가 없어 인덱스 접근 등 특정한 값에 접근할 수 없다\n",
    "{1, 2, 3}[0]"
   ]
  },
  {
   "cell_type": "markdown",
   "id": "6cf2b5bb",
   "metadata": {},
   "source": [
    "- 집합 연산자"
   ]
  },
  {
   "cell_type": "code",
   "execution_count": 7,
   "id": "d521494c",
   "metadata": {},
   "outputs": [],
   "source": [
    "set_a = {1, 2, 3}\n",
    "set_b = {3, 6, 9}"
   ]
  },
  {
   "cell_type": "code",
   "execution_count": 8,
   "id": "99b6fe77",
   "metadata": {},
   "outputs": [
    {
     "name": "stdout",
     "output_type": "stream",
     "text": [
      "{1, 2}\n"
     ]
    }
   ],
   "source": [
    "# 차집합\n",
    "print(set_a - set_b)"
   ]
  },
  {
   "cell_type": "code",
   "execution_count": 9,
   "id": "ebccbd3d",
   "metadata": {},
   "outputs": [
    {
     "name": "stdout",
     "output_type": "stream",
     "text": [
      "{1, 2, 3, 6, 9}\n"
     ]
    }
   ],
   "source": [
    "# 합집합\n",
    "print(set_a | set_b)"
   ]
  },
  {
   "cell_type": "code",
   "execution_count": 10,
   "id": "bce076c9",
   "metadata": {},
   "outputs": [
    {
     "name": "stdout",
     "output_type": "stream",
     "text": [
      "{3}\n"
     ]
    }
   ],
   "source": [
    "# 교집합\n",
    "print(set_a & set_b)"
   ]
  },
  {
   "cell_type": "markdown",
   "id": "34358027",
   "metadata": {},
   "source": [
    "- 세트를 활용하면 다른 컨테이너에서 중복된 값을 쉽게 제거할 수 있다\n",
    " - 단, 이후 순서가 무시되므로 순서가 중요한 경우 사용할 수 없다"
   ]
  },
  {
   "cell_type": "markdown",
   "id": "4d3454f4",
   "metadata": {},
   "source": [
    "- 아래의 리스트에서 고유한 지역의 개수는?"
   ]
  },
  {
   "cell_type": "code",
   "execution_count": 11,
   "id": "5ec75d17",
   "metadata": {},
   "outputs": [],
   "source": [
    "my_list = ['서울', '서울', '대전', '광주',\n",
    "           '서울', '대전', '부산', '부산']"
   ]
  },
  {
   "cell_type": "code",
   "execution_count": 13,
   "id": "e244d3f0",
   "metadata": {},
   "outputs": [
    {
     "data": {
      "text/plain": [
       "4"
      ]
     },
     "execution_count": 13,
     "metadata": {},
     "output_type": "execute_result"
    }
   ],
   "source": [
    "len(set(my_list))"
   ]
  },
  {
   "cell_type": "markdown",
   "id": "1752383c",
   "metadata": {},
   "source": [
    "- 아래의 리스트에서 고유한 지역을 등장한 순서대로 출력하시오. => set 사용 불가"
   ]
  },
  {
   "cell_type": "code",
   "execution_count": 15,
   "id": "04fc9f3c",
   "metadata": {},
   "outputs": [
    {
     "data": {
      "text/plain": [
       "{'광주', '대전', '부산', '서울'}"
      ]
     },
     "execution_count": 15,
     "metadata": {},
     "output_type": "execute_result"
    }
   ],
   "source": [
    "# 서울이 먼저 나와야 하지만 set는 순서를 고려하지 않는다\n",
    "set(my_list)"
   ]
  },
  {
   "cell_type": "markdown",
   "id": "ff6c6510",
   "metadata": {},
   "source": [
    "### 딕셔너리(Dictionary)"
   ]
  },
  {
   "cell_type": "markdown",
   "id": "430f9026",
   "metadata": {},
   "source": [
    "- key와 value가 쌍으로 이루어진 자료구조\n",
    " - 중괄호({ }) 혹은 dict( )을 통해 생성\n",
    " - key를 통해 value에 접근"
   ]
  },
  {
   "cell_type": "code",
   "execution_count": 16,
   "id": "2e267177",
   "metadata": {},
   "outputs": [
    {
     "name": "stdout",
     "output_type": "stream",
     "text": [
      "<class 'dict'>\n"
     ]
    }
   ],
   "source": [
    "dict_a = {}\n",
    "print(type(dict_a))"
   ]
  },
  {
   "cell_type": "code",
   "execution_count": 18,
   "id": "a8e69cff",
   "metadata": {},
   "outputs": [
    {
     "name": "stdout",
     "output_type": "stream",
     "text": [
      "<class 'dict'>\n"
     ]
    }
   ],
   "source": [
    "dict_b = dict()\n",
    "print(type(dict_b))"
   ]
  },
  {
   "cell_type": "code",
   "execution_count": 19,
   "id": "a0bef933",
   "metadata": {},
   "outputs": [],
   "source": [
    "dict_a = {'a': 'apple', 'b': 'banana', 'list':[1, 2, 3]}"
   ]
  },
  {
   "cell_type": "code",
   "execution_count": 20,
   "id": "896085fb",
   "metadata": {},
   "outputs": [
    {
     "data": {
      "text/plain": [
       "{'a': 'apple', 'b': 'banana', 'list': [1, 2, 3]}"
      ]
     },
     "execution_count": 20,
     "metadata": {},
     "output_type": "execute_result"
    }
   ],
   "source": [
    "dict_a"
   ]
  },
  {
   "cell_type": "code",
   "execution_count": 21,
   "id": "d7006b3d",
   "metadata": {},
   "outputs": [
    {
     "data": {
      "text/plain": [
       "[1, 2, 3]"
      ]
     },
     "execution_count": 21,
     "metadata": {},
     "output_type": "execute_result"
    }
   ],
   "source": [
    "dict_a['list']"
   ]
  },
  {
   "cell_type": "code",
   "execution_count": 24,
   "id": "f7113efc",
   "metadata": {},
   "outputs": [],
   "source": [
    "dict_b = dict(a='apple', b='banana', list=[1, 2, 3])"
   ]
  },
  {
   "cell_type": "code",
   "execution_count": 25,
   "id": "6bc0c999",
   "metadata": {},
   "outputs": [
    {
     "data": {
      "text/plain": [
       "{'a': 'apple', 'b': 'banana', 'list': [1, 2, 3]}"
      ]
     },
     "execution_count": 25,
     "metadata": {},
     "output_type": "execute_result"
    }
   ],
   "source": [
    "dict_b"
   ]
  },
  {
   "cell_type": "markdown",
   "id": "5bdc2344",
   "metadata": {},
   "source": [
    "- key와 value가 쌍으로 이루어진 자료구조\n",
    " - key는 변경 불가능한 데이터(immutable)만 활용 가능\n",
    "   - string, integer, float, boolean, tuple, range\n",
    " - value는 모든 값으로 설정 가능 (리스트, 딕셔너리 등)"
   ]
  },
  {
   "cell_type": "code",
   "execution_count": 26,
   "id": "62aec8d2",
   "metadata": {},
   "outputs": [
    {
     "ename": "TypeError",
     "evalue": "unhashable type: 'list'",
     "output_type": "error",
     "traceback": [
      "\u001b[1;31m---------------------------------------------------------------------------\u001b[0m",
      "\u001b[1;31mTypeError\u001b[0m                                 Traceback (most recent call last)",
      "\u001b[1;32mC:\\Users\\MULTIC~1\\AppData\\Local\\Temp/ipykernel_3372/1815571446.py\u001b[0m in \u001b[0;36m<module>\u001b[1;34m\u001b[0m\n\u001b[1;32m----> 1\u001b[1;33m \u001b[0mdict_c\u001b[0m \u001b[1;33m=\u001b[0m \u001b[1;33m{\u001b[0m\u001b[1;33m[\u001b[0m\u001b[1;36m1\u001b[0m\u001b[1;33m,\u001b[0m \u001b[1;36m2\u001b[0m\u001b[1;33m,\u001b[0m \u001b[1;36m3\u001b[0m\u001b[1;33m]\u001b[0m\u001b[1;33m:\u001b[0m \u001b[1;34m'hi'\u001b[0m\u001b[1;33m}\u001b[0m\u001b[1;33m\u001b[0m\u001b[1;33m\u001b[0m\u001b[0m\n\u001b[0m",
      "\u001b[1;31mTypeError\u001b[0m: unhashable type: 'list'"
     ]
    }
   ],
   "source": [
    "dict_c = {[1, 2, 3]: 'hi'}"
   ]
  },
  {
   "cell_type": "code",
   "execution_count": 27,
   "id": "83138bf3",
   "metadata": {},
   "outputs": [],
   "source": [
    "dict_d = {'a': 'apple', 3: '삼', '지역' : ['서울', '광주']}"
   ]
  },
  {
   "cell_type": "code",
   "execution_count": 28,
   "id": "0a3dbc4d",
   "metadata": {},
   "outputs": [
    {
     "data": {
      "text/plain": [
       "'서울'"
      ]
     },
     "execution_count": 28,
     "metadata": {},
     "output_type": "execute_result"
    }
   ],
   "source": [
    "dict_d['지역'][0]"
   ]
  },
  {
   "cell_type": "markdown",
   "id": "8e4e6a29",
   "metadata": {},
   "source": [
    "#### 리스트 딕셔너리 실습문제"
   ]
  },
  {
   "cell_type": "markdown",
   "id": "ecabfb8f",
   "metadata": {},
   "source": [
    "- 다음의 구조에서 드라마를 출력하는 코드를 작성하시오"
   ]
  },
  {
   "cell_type": "code",
   "execution_count": 30,
   "id": "730aca88",
   "metadata": {},
   "outputs": [],
   "source": [
    "movie = {\n",
    "    'adult': False,\n",
    "    'genres': [\n",
    "        '드라마',\n",
    "        '스릴러'\n",
    "    ],\n",
    "    'id': 278,\n",
    "    'original_language': 'en',\n",
    "    'original_title': 'The Shawshank Redemption',\n",
    "    'overview': '촉망받는 은행 간부 앤디 듀프레인은 아내와 그녀의 정부를 살해했다는 누명을 쓴다.',\n",
    "    'popularity': 67.931,\n",
    "    'release_date': '1995-01-28',\n",
    "    'title': '쇼생크 탈출',\n",
    "    'vote_average': 8.7,\n",
    "    'vote_count': 18040\n",
    "}"
   ]
  },
  {
   "cell_type": "code",
   "execution_count": 31,
   "id": "700dbe45",
   "metadata": {},
   "outputs": [
    {
     "data": {
      "text/plain": [
       "['드라마', '스릴러']"
      ]
     },
     "execution_count": 31,
     "metadata": {},
     "output_type": "execute_result"
    }
   ],
   "source": [
    "movie['genres']"
   ]
  },
  {
   "cell_type": "code",
   "execution_count": 32,
   "id": "5e48c4ca",
   "metadata": {},
   "outputs": [
    {
     "data": {
      "text/plain": [
       "'드라마'"
      ]
     },
     "execution_count": 32,
     "metadata": {},
     "output_type": "execute_result"
    }
   ],
   "source": [
    "movie['genres'][0]"
   ]
  },
  {
   "cell_type": "markdown",
   "id": "958c06ad",
   "metadata": {},
   "source": [
    "  "
   ]
  },
  {
   "cell_type": "markdown",
   "id": "2324ae59",
   "metadata": {},
   "source": [
    "## 컨터이너 특징"
   ]
  },
  {
   "cell_type": "markdown",
   "id": "03096b7e",
   "metadata": {},
   "source": [
    "### 컨테이너 형 변환"
   ]
  },
  {
   "cell_type": "markdown",
   "id": "c763995b",
   "metadata": {},
   "source": [
    "- 컨테이너 간의 형 변환은 아래와 같이 가능"
   ]
  },
  {
   "cell_type": "markdown",
   "id": "6fae38fd",
   "metadata": {},
   "source": [
    "![](img/container.png)"
   ]
  },
  {
   "cell_type": "markdown",
   "id": "7348bb3c",
   "metadata": {},
   "source": [
    "### 컨테이너 분류"
   ]
  },
  {
   "cell_type": "markdown",
   "id": "76563eca",
   "metadata": {},
   "source": [
    "- 변경 불가능한 데이터(immutable)\n",
    " - 리터럴(literal) - 숫자(Number), 문자열(String), 참/거짓(Bool)\n",
    " - range\n",
    " - tuple"
   ]
  },
  {
   "cell_type": "markdown",
   "id": "1932ac5b",
   "metadata": {},
   "source": [
    "- 변경 불가능한 데이터(immutable)의 복사\n",
    " - b = a를 하면 같은 값이 공유되며,\n",
    " - b = 10을 통해 재할당이 발생"
   ]
  },
  {
   "cell_type": "markdown",
   "id": "2f199967",
   "metadata": {},
   "source": [
    "- 변경이 가능한 데이터(mutable)\n",
    " - list\n",
    " - set\n",
    " - dictionary"
   ]
  },
  {
   "cell_type": "markdown",
   "id": "b8f9d89e",
   "metadata": {},
   "source": [
    "변수 시각화 사이트: https://pythontutor.com/live.html#mode=edit"
   ]
  },
  {
   "cell_type": "code",
   "execution_count": 38,
   "id": "5c64acfc",
   "metadata": {},
   "outputs": [
    {
     "name": "stdout",
     "output_type": "stream",
     "text": [
      "20\n",
      "10\n"
     ]
    }
   ],
   "source": [
    "a = 20\n",
    "b = a\n",
    "b = 10\n",
    "\n",
    "print(a)\n",
    "print(b)"
   ]
  },
  {
   "cell_type": "markdown",
   "id": "d1c81042",
   "metadata": {},
   "source": [
    "![](img/var.png)"
   ]
  },
  {
   "cell_type": "code",
   "execution_count": 37,
   "id": "d1b6aab2",
   "metadata": {},
   "outputs": [
    {
     "name": "stdout",
     "output_type": "stream",
     "text": [
      "[100, 2, 3, 4]\n",
      "[100, 2, 3, 4]\n"
     ]
    }
   ],
   "source": [
    "num1 = [1, 2, 3, 4]\n",
    "num2 = num1\n",
    "num2[0] = 100\n",
    "\n",
    "print(num1)\n",
    "print(num2)"
   ]
  },
  {
   "cell_type": "markdown",
   "id": "13ca8230",
   "metadata": {},
   "source": [
    "![](img/list.png)"
   ]
  },
  {
   "cell_type": "markdown",
   "id": "f08a06b0",
   "metadata": {},
   "source": [
    "![](img/container2.png)"
   ]
  }
 ],
 "metadata": {
  "kernelspec": {
   "display_name": "Python 3 (ipykernel)",
   "language": "python",
   "name": "python3"
  },
  "language_info": {
   "codemirror_mode": {
    "name": "ipython",
    "version": 3
   },
   "file_extension": ".py",
   "mimetype": "text/x-python",
   "name": "python",
   "nbconvert_exporter": "python",
   "pygments_lexer": "ipython3",
   "version": "3.9.7"
  }
 },
 "nbformat": 4,
 "nbformat_minor": 5
}
