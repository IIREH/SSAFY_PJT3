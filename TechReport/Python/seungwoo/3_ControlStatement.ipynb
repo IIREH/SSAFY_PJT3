{
 "cells": [
  {
   "cell_type": "markdown",
   "id": "534eb70b",
   "metadata": {},
   "source": [
    "# 제어문"
   ]
  },
  {
   "cell_type": "markdown",
   "id": "a18fb3a7",
   "metadata": {},
   "source": [
    "- 조건문\n",
    "<br><br>\n",
    "- 반복문"
   ]
  },
  {
   "cell_type": "markdown",
   "id": "768ef30d",
   "metadata": {},
   "source": [
    "# 제어문(Control Statement)"
   ]
  },
  {
   "cell_type": "markdown",
   "id": "826cab9b",
   "metadata": {},
   "source": [
    "- 파이썬은 기본적으로 위에서부터 아래로 순차적으로 명령을 수행\n",
    "- 특정 상황에 따라 코드를 선택적으로 실행(분기 / 조건)하거나 계속하여 실행(반복)하는 제어가 필요함\n",
    "- 제어문은 순서도(flow chart)로 표현이 가능"
   ]
  },
  {
   "cell_type": "markdown",
   "id": "4db0ffe0",
   "metadata": {},
   "source": [
    "## 조건문(Conditional Statement)"
   ]
  },
  {
   "cell_type": "markdown",
   "id": "861dd421",
   "metadata": {},
   "source": [
    "- if문은 참/거짓을 판단할 수 있는 조건식과 함께 사용\n",
    " - expression에는 참/거짓에 대한 조건식\n",
    " - 조건이 참인 경우 이후 들여쓰기 되어있는 코드 블록을 실행\n",
    " - 이외의 경우 else 이후 들여쓰기 되어있는 코드 블록을 실행\n",
    "   - else는 선택적으로 활용 가능함"
   ]
  },
  {
   "cell_type": "markdown",
   "id": "980030c8",
   "metadata": {},
   "source": [
    "- 들여쓰기 주의할 것 ! 4space 사용"
   ]
  },
  {
   "cell_type": "markdown",
   "id": "b208c424",
   "metadata": {},
   "source": [
    "![](img/condition.png)"
   ]
  },
  {
   "cell_type": "markdown",
   "id": "d3bced66",
   "metadata": {},
   "source": [
    "#### 조건문"
   ]
  },
  {
   "cell_type": "markdown",
   "id": "27ae5b46",
   "metadata": {},
   "source": [
    "![](img/flow.png)"
   ]
  },
  {
   "cell_type": "code",
   "execution_count": 3,
   "id": "1a461aa3",
   "metadata": {},
   "outputs": [
    {
     "name": "stdout",
     "output_type": "stream",
     "text": [
      "5 이하\n",
      "5\n"
     ]
    }
   ],
   "source": [
    "a = 5\n",
    "\n",
    "if a > 5:\n",
    "    print('5 초과')\n",
    "else:\n",
    "    print('5 이하')\n",
    "    \n",
    "print(a)"
   ]
  },
  {
   "cell_type": "markdown",
   "id": "7fdb0fa9",
   "metadata": {},
   "source": [
    "#### 조건문 실습문제 "
   ]
  },
  {
   "cell_type": "markdown",
   "id": "7e394e03",
   "metadata": {},
   "source": [
    "- 조건문을 통해 변수 num의 값의 홀수 / 짝수 여부를 출력하시오\n",
    " - 이때 num은 input을 통해 사용자로부터 입력을 받으시오"
   ]
  },
  {
   "cell_type": "code",
   "execution_count": 4,
   "id": "3ff0f695",
   "metadata": {},
   "outputs": [
    {
     "name": "stdout",
     "output_type": "stream",
     "text": [
      "숫자 입력: 2\n",
      "짝수입니다.\n"
     ]
    }
   ],
   "source": [
    "num = int(input('숫자 입력: '))\n",
    "if num % 2: #if num % 2 == 1:\n",
    "    print('홀수입니다.')\n",
    "else:\n",
    "    print('짝수입니다.')"
   ]
  },
  {
   "cell_type": "markdown",
   "id": "c0a4eb7d",
   "metadata": {},
   "source": [
    "### 복수 조건문"
   ]
  },
  {
   "cell_type": "markdown",
   "id": "0bbc77f6",
   "metadata": {},
   "source": [
    "- 복수의 조건식을 활용할 경우 elif를 활용하여 표현한다"
   ]
  },
  {
   "cell_type": "markdown",
   "id": "f7b6784e",
   "metadata": {},
   "source": [
    "![](img/condition2.png)"
   ]
  },
  {
   "cell_type": "markdown",
   "id": "127d1862",
   "metadata": {},
   "source": [
    "#### 복수 조건문 실습 문제"
   ]
  },
  {
   "cell_type": "markdown",
   "id": "60c89b87",
   "metadata": {},
   "source": [
    "- 다음은 미세먼지 농도에 따른 등급일 때, dust 값에 따라 등급을 출력하는 조건식을 작성하시오"
   ]
  },
  {
   "cell_type": "markdown",
   "id": "90fb57e1",
   "metadata": {},
   "source": [
    "![](img/question.png)"
   ]
  },
  {
   "cell_type": "code",
   "execution_count": 6,
   "id": "cc2e78f5",
   "metadata": {},
   "outputs": [
    {
     "name": "stdout",
     "output_type": "stream",
     "text": [
      "나쁨\n"
     ]
    }
   ],
   "source": [
    "dust = 140\n",
    "\n",
    "if dust > 150:\n",
    "    print('매우나쁨')\n",
    "elif dust > 80:\n",
    "    print('나쁨')\n",
    "elif dust > 30:\n",
    "    print('보통')\n",
    "else:\n",
    "    print('좋음')"
   ]
  },
  {
   "cell_type": "markdown",
   "id": "356aa2d9",
   "metadata": {},
   "source": [
    "### 중첩 조건문(Nexted Conditional Statement)"
   ]
  },
  {
   "cell_type": "markdown",
   "id": "cbf2716f",
   "metadata": {},
   "source": [
    "- 조건문은 다른 조건문에 중첩되어 사용될 수 있음\n",
    " - 들여쓰기를 유의하여 작성할 것"
   ]
  },
  {
   "cell_type": "markdown",
   "id": "9ad87cb0",
   "metadata": {},
   "source": [
    "![](img/condition3.png)"
   ]
  },
  {
   "cell_type": "markdown",
   "id": "6e6211cb",
   "metadata": {},
   "source": [
    "#### 중첩 조건문 실습 문제"
   ]
  },
  {
   "cell_type": "markdown",
   "id": "3dafe6f1",
   "metadata": {},
   "source": [
    "- 아래 코드에서 중첩 조건문을 활용하여 미세먼지 농도(dust 값)가 300이 넘는 경우 '실외 활동을 자제하세요'를<br>\n",
    "  추가적으로 출력하고 음수인 경우 '값이 잘못 되었습니다'를 출력하세요"
   ]
  },
  {
   "cell_type": "code",
   "execution_count": 10,
   "id": "bfc74bf1",
   "metadata": {},
   "outputs": [
    {
     "name": "stdout",
     "output_type": "stream",
     "text": [
      "매우나쁨\n",
      "실외 활동을 자제하세요.\n"
     ]
    }
   ],
   "source": [
    "dust = 500\n",
    "\n",
    "if dust > 150:\n",
    "    print('매우나쁨')\n",
    "    if dust > 300:\n",
    "        print('실외 활동을 자제하세요.')\n",
    "elif dust > 80:\n",
    "    print('나쁨')\n",
    "elif dust > 30:\n",
    "    print('보통')\n",
    "else:\n",
    "    if dust >= 0:\n",
    "        print('좋음')\n",
    "    else:\n",
    "        print('값이 잘못 되었습니다.')"
   ]
  },
  {
   "cell_type": "markdown",
   "id": "cdca4055",
   "metadata": {},
   "source": [
    "### 조건 표현식(Condition Expression)"
   ]
  },
  {
   "cell_type": "markdown",
   "id": "df8c22a0",
   "metadata": {},
   "source": [
    "- 조건 표현식은 일반적으로 조건에 따라 값을 정할 때 활용\n",
    "- 삼항 연산자(Ternary Operator)로 부르기도 함"
   ]
  },
  {
   "cell_type": "markdown",
   "id": "384b7194",
   "metadata": {},
   "source": [
    "![](img/expression.png)"
   ]
  },
  {
   "cell_type": "markdown",
   "id": "4fcef86c",
   "metadata": {},
   "source": [
    "#### 조건 표현식 실습 문제"
   ]
  },
  {
   "cell_type": "markdown",
   "id": "6136197a",
   "metadata": {},
   "source": [
    "- num이 정수일 때, 아래의 코드는 무엇을 위한 코드일까요?"
   ]
  },
  {
   "cell_type": "code",
   "execution_count": 13,
   "id": "3effb540",
   "metadata": {},
   "outputs": [],
   "source": [
    " value = num if num >= 0 else -num     # 절댓값을 저장하기 위한 코드"
   ]
  },
  {
   "cell_type": "markdown",
   "id": "88078ed2",
   "metadata": {},
   "source": [
    "- 다음의 코드와 동일한 조건 표현식을 작성하시오"
   ]
  },
  {
   "cell_type": "code",
   "execution_count": 14,
   "id": "bd1ae466",
   "metadata": {},
   "outputs": [
    {
     "name": "stdout",
     "output_type": "stream",
     "text": [
      "짝수입니다.\n"
     ]
    }
   ],
   "source": [
    "num = 2\n",
    "\n",
    "if num % 2:\n",
    "    result = '홀수입니다.'\n",
    "else:\n",
    "    result = '짝수입니다.'\n",
    "    \n",
    "print(result)"
   ]
  },
  {
   "cell_type": "code",
   "execution_count": 16,
   "id": "3403bdd5",
   "metadata": {},
   "outputs": [
    {
     "name": "stdout",
     "output_type": "stream",
     "text": [
      "짝수입니다.\n"
     ]
    }
   ],
   "source": [
    "result = '홀수입니다.' if num % 2 else '짝수입니다.'\n",
    "\n",
    "print(result)"
   ]
  },
  {
   "cell_type": "markdown",
   "id": "ce6031fd",
   "metadata": {},
   "source": [
    "  "
   ]
  },
  {
   "cell_type": "markdown",
   "id": "d8dde551",
   "metadata": {},
   "source": [
    "## 반복문(Loop Statement)"
   ]
  },
  {
   "cell_type": "markdown",
   "id": "9fefb630",
   "metadata": {},
   "source": [
    "- while 문\n",
    " - 종료 조건에 해당하는 코드를 통해 반복문을 종료시켜야 함\n",
    "<br><br>\n",
    "- for 문\n",
    " - 반복 가능(iterable)한 객체를 모두 순회하면 종료 (별도의 종료 조건이 필요 없음)\n",
    "<br><br>\n",
    "- 반복 제어\n",
    " - break, continue, for-else"
   ]
  },
  {
   "cell_type": "markdown",
   "id": "1572c17c",
   "metadata": {},
   "source": [
    "### while 문"
   ]
  },
  {
   "cell_type": "markdown",
   "id": "9fb86654",
   "metadata": {},
   "source": [
    "- while 문은 조건식이 참인 경우 반복적으로 코드를 실행\n",
    " - 조건이 참인 경우 들여쓰기 되어 있는 코드 블록이 실행 됨\n",
    " - 코드 블록이 모두 실행되고, 다시 조건식을 검사하며 반복적으로 실행됨\n",
    " - while 문은 무한 루프를 하지 않도록 종료 조건이 반드시 필요"
   ]
  },
  {
   "cell_type": "markdown",
   "id": "1dbc55bb",
   "metadata": {},
   "source": [
    "![](img/while.png)"
   ]
  },
  {
   "cell_type": "markdown",
   "id": "631eb794",
   "metadata": {},
   "source": [
    "- 아래의 순서도를 코드로 나타내시오"
   ]
  },
  {
   "cell_type": "markdown",
   "id": "66093af3",
   "metadata": {},
   "source": [
    "![](img/whileflow.png)"
   ]
  },
  {
   "cell_type": "code",
   "execution_count": 17,
   "id": "59d02b96",
   "metadata": {},
   "outputs": [
    {
     "name": "stdout",
     "output_type": "stream",
     "text": [
      "0\n",
      "1\n",
      "2\n",
      "3\n",
      "4\n",
      "끝\n"
     ]
    }
   ],
   "source": [
    "a = 0\n",
    "\n",
    "while a < 5:\n",
    "    print(a)\n",
    "    a += 1\n",
    "\n",
    "print('끝')"
   ]
  },
  {
   "cell_type": "markdown",
   "id": "32606a37",
   "metadata": {},
   "source": [
    "#### while문 실습 문제"
   ]
  },
  {
   "cell_type": "markdown",
   "id": "d4b68d25",
   "metadata": {},
   "source": [
    "- 1부터 사용자가 입력한 양의 정수까지의 총합을 구하는 코드를 작성하시오"
   ]
  },
  {
   "cell_type": "code",
   "execution_count": 22,
   "id": "18486a44",
   "metadata": {},
   "outputs": [
    {
     "name": "stdout",
     "output_type": "stream",
     "text": [
      "5\n"
     ]
    }
   ],
   "source": [
    "# 값 초기화\n",
    "n = 0\n",
    "total = 0\n",
    "user_input = int(input())"
   ]
  },
  {
   "cell_type": "code",
   "execution_count": 23,
   "id": "329c335b",
   "metadata": {},
   "outputs": [
    {
     "name": "stdout",
     "output_type": "stream",
     "text": [
      "15\n"
     ]
    }
   ],
   "source": [
    "# 반복문\n",
    "while n <= user_input:\n",
    "    total += n\n",
    "    n += 1\n",
    "    \n",
    "print(total)"
   ]
  },
  {
   "cell_type": "markdown",
   "id": "51c2559e",
   "metadata": {},
   "source": [
    "### for 문"
   ]
  },
  {
   "cell_type": "markdown",
   "id": "bcda5df4",
   "metadata": {},
   "source": [
    "- for문은 시퀀스(string, tuple, list, range)를 포함한 iterable한 객체 요소를 모두 순회함\n",
    " - 처음부터 끝까지 모두 순회하므로 별도의 종료 조건이 필요하지 않음"
   ]
  },
  {
   "cell_type": "markdown",
   "id": "ab1f9dba",
   "metadata": {},
   "source": [
    "![](img/for.png)"
   ]
  },
  {
   "cell_type": "markdown",
   "id": "23a012ca",
   "metadata": {},
   "source": [
    "- 아래의 순서도를 코드로 나타내시오"
   ]
  },
  {
   "cell_type": "markdown",
   "id": "63735952",
   "metadata": {},
   "source": [
    "![](img/forflow.png)"
   ]
  },
  {
   "cell_type": "code",
   "execution_count": 26,
   "id": "9ac1c760",
   "metadata": {},
   "outputs": [
    {
     "name": "stdout",
     "output_type": "stream",
     "text": [
      "apple\n",
      "mango\n",
      "banana\n",
      "끝\n"
     ]
    }
   ],
   "source": [
    "for fruit in ['apple', 'mango', 'banana']:\n",
    "    print(fruit)\n",
    "    \n",
    "print('끝')"
   ]
  },
  {
   "cell_type": "markdown",
   "id": "0b9427f5",
   "metadata": {},
   "source": [
    "#### for문 실습 문제"
   ]
  },
  {
   "cell_type": "markdown",
   "id": "402134a7",
   "metadata": {},
   "source": [
    "- 사용자가 입력한 문자를 한 글자씩 출력하시오"
   ]
  },
  {
   "cell_type": "code",
   "execution_count": 28,
   "id": "857ca628",
   "metadata": {},
   "outputs": [
    {
     "name": "stdout",
     "output_type": "stream",
     "text": [
      "happy\n"
     ]
    }
   ],
   "source": [
    "chars = input()"
   ]
  },
  {
   "cell_type": "code",
   "execution_count": 29,
   "id": "c851cd59",
   "metadata": {},
   "outputs": [
    {
     "name": "stdout",
     "output_type": "stream",
     "text": [
      "h\n",
      "a\n",
      "p\n",
      "p\n",
      "y\n"
     ]
    }
   ],
   "source": [
    "for char in chars:\n",
    "    print(char)"
   ]
  },
  {
   "cell_type": "markdown",
   "id": "660dc692",
   "metadata": {},
   "source": [
    "#### 조건 / 반복문 실습문제"
   ]
  },
  {
   "cell_type": "markdown",
   "id": "5966928b",
   "metadata": {},
   "source": [
    "- 반복문과 조건문만 활용하여 1~30까지 숫자 중에 홀수만 출력하시요"
   ]
  },
  {
   "cell_type": "code",
   "execution_count": 30,
   "id": "ffd100cf",
   "metadata": {},
   "outputs": [
    {
     "name": "stdout",
     "output_type": "stream",
     "text": [
      "1\n",
      "3\n",
      "5\n",
      "7\n",
      "9\n",
      "11\n",
      "13\n",
      "15\n",
      "17\n",
      "19\n",
      "21\n",
      "23\n",
      "25\n",
      "27\n",
      "29\n"
     ]
    }
   ],
   "source": [
    "for i in range(1, 31):\n",
    "    if i % 2:\n",
    "        print(i)"
   ]
  },
  {
   "cell_type": "markdown",
   "id": "a6a9922f",
   "metadata": {},
   "source": [
    "#### 리스트 순회하기 - range"
   ]
  },
  {
   "cell_type": "markdown",
   "id": "bf6f9060",
   "metadata": {},
   "source": [
    "- 리스트를 순회하면서 index 값을 같이 출력하기 위해서 어떻게 해야 할까?\n",
    " - 리스트의 길이(n)를 range로 하여 0 ~ n-1까지 숫자를 반복\n",
    " - 반복문 코드 블록에서 index값과 리스트에 index 접근을 통해 활용"
   ]
  },
  {
   "cell_type": "code",
   "execution_count": 31,
   "id": "e8d79f39",
   "metadata": {},
   "outputs": [],
   "source": [
    "members = ['민수', '영희', '철수']"
   ]
  },
  {
   "cell_type": "code",
   "execution_count": 33,
   "id": "138516d3",
   "metadata": {},
   "outputs": [
    {
     "name": "stdout",
     "output_type": "stream",
     "text": [
      "1번 민수\n",
      "2번 영희\n",
      "3번 철수\n"
     ]
    }
   ],
   "source": [
    "for i in range(len(members)):\n",
    "    print(f'{i+1}번 {members[i]}')"
   ]
  },
  {
   "cell_type": "markdown",
   "id": "6cef0084",
   "metadata": {},
   "source": [
    "#### 리스트 순회하기 - enumerate"
   ]
  },
  {
   "cell_type": "markdown",
   "id": "3221bcf8",
   "metadata": {},
   "source": [
    "- 리스트를 순회하면서 index 값을 같이 출력하기 위해서 어떻게 해야 할까?\n",
    " - 내장 함수 enumerate의 경우 (index, value) 형태의 tuple로 구성된 열거 객체를 반환"
   ]
  },
  {
   "cell_type": "code",
   "execution_count": 34,
   "id": "b10ea67c",
   "metadata": {},
   "outputs": [],
   "source": [
    "members = ['민수', '영희', '철수']"
   ]
  },
  {
   "cell_type": "code",
   "execution_count": 37,
   "id": "c055763f",
   "metadata": {},
   "outputs": [
    {
     "name": "stdout",
     "output_type": "stream",
     "text": [
      "1 민수\n",
      "2 영희\n",
      "3 철수\n"
     ]
    }
   ],
   "source": [
    "for idx, member in enumerate(members, start=1):\n",
    "    print(idx, member)"
   ]
  },
  {
   "cell_type": "markdown",
   "id": "d864bd5b",
   "metadata": {},
   "source": [
    "- 파이썬 문서에서 확인하기 (https://docs.python.org/ko/3/library/functions.html#enumerate)"
   ]
  },
  {
   "cell_type": "markdown",
   "id": "6fc30463",
   "metadata": {},
   "source": [
    "![](img/document.png)"
   ]
  },
  {
   "cell_type": "code",
   "execution_count": 39,
   "id": "96b46659",
   "metadata": {},
   "outputs": [
    {
     "data": {
      "text/plain": [
       "<enumerate at 0x11b7faf52c0>"
      ]
     },
     "execution_count": 39,
     "metadata": {},
     "output_type": "execute_result"
    }
   ],
   "source": [
    "enumerate(members)"
   ]
  },
  {
   "cell_type": "code",
   "execution_count": 40,
   "id": "ef424396",
   "metadata": {},
   "outputs": [
    {
     "data": {
      "text/plain": [
       "[(0, '민수'), (1, '영희'), (2, '철수')]"
      ]
     },
     "execution_count": 40,
     "metadata": {},
     "output_type": "execute_result"
    }
   ],
   "source": [
    "list(enumerate(members))"
   ]
  },
  {
   "cell_type": "code",
   "execution_count": 41,
   "id": "962b1ba2",
   "metadata": {},
   "outputs": [
    {
     "data": {
      "text/plain": [
       "[(1, '민수'), (2, '영희'), (3, '철수')]"
      ]
     },
     "execution_count": 41,
     "metadata": {},
     "output_type": "execute_result"
    }
   ],
   "source": [
    "list(enumerate(members, start=1))"
   ]
  },
  {
   "cell_type": "markdown",
   "id": "f583c309",
   "metadata": {},
   "source": [
    "## 반복문 제어"
   ]
  },
  {
   "cell_type": "markdown",
   "id": "31cd4a61",
   "metadata": {},
   "source": [
    "- break\n",
    " - 반복문을 종료\n",
    "<br><br>\n",
    "- continue\n",
    " - continue 이후의 코드 블록은 수행하지 않고, 다음 반복을 수행\n",
    "<br><br>\n",
    "- for - else\n",
    " - 끝까지 반복문을 실행한 이후에 else문 실행\n",
    "   - break를 통해 중간에 종료되는 경우 else 문은 실행되지 않음 "
   ]
  },
  {
   "cell_type": "markdown",
   "id": "24ed1e81",
   "metadata": {},
   "source": [
    "### 반복문 제어 - break"
   ]
  },
  {
   "cell_type": "markdown",
   "id": "ebc80056",
   "metadata": {},
   "source": [
    "- break문을 만나면 반복문은 종료됨"
   ]
  },
  {
   "cell_type": "code",
   "execution_count": 43,
   "id": "234c7505",
   "metadata": {},
   "outputs": [
    {
     "name": "stdout",
     "output_type": "stream",
     "text": [
      "0\n",
      "1\n",
      "2\n"
     ]
    }
   ],
   "source": [
    "n = 0\n",
    "\n",
    "while True:\n",
    "    if n == 3:\n",
    "        break\n",
    "    print(n)\n",
    "    n += 1"
   ]
  },
  {
   "cell_type": "code",
   "execution_count": 44,
   "id": "a786f4de",
   "metadata": {},
   "outputs": [
    {
     "name": "stdout",
     "output_type": "stream",
     "text": [
      "0\n",
      "1\n",
      "0과 1만 필요해!\n"
     ]
    }
   ],
   "source": [
    "for i in range(10):\n",
    "    if i > 1:\n",
    "        print('0과 1만 필요해!')\n",
    "        break\n",
    "    print(i)"
   ]
  },
  {
   "cell_type": "markdown",
   "id": "1c59d234",
   "metadata": {},
   "source": [
    "### 반복문 제어 - continue"
   ]
  },
  {
   "cell_type": "markdown",
   "id": "729bf8d6",
   "metadata": {},
   "source": [
    "- continue 이후의 코드 블록은 수행하지 않고, 다음 반복을 수행"
   ]
  },
  {
   "cell_type": "code",
   "execution_count": 46,
   "id": "3067b402",
   "metadata": {},
   "outputs": [
    {
     "name": "stdout",
     "output_type": "stream",
     "text": [
      "1\n",
      "3\n",
      "5\n"
     ]
    }
   ],
   "source": [
    "for i in range(6):\n",
    "    if i % 2 == 0:\n",
    "        continue\n",
    "    print(i)"
   ]
  },
  {
   "cell_type": "markdown",
   "id": "370af9f4",
   "metadata": {},
   "source": [
    "### 반복문 제어 - else"
   ]
  },
  {
   "cell_type": "markdown",
   "id": "134c4a6c",
   "metadata": {},
   "source": [
    "- 끝까지 반복문을 실행한 이후에 else문 실행"
   ]
  },
  {
   "cell_type": "code",
   "execution_count": 48,
   "id": "9d2e7bf7",
   "metadata": {},
   "outputs": [
    {
     "name": "stdout",
     "output_type": "stream",
     "text": [
      "b가 없습니다.\n"
     ]
    }
   ],
   "source": [
    "for char in 'apple':\n",
    "    if char == 'b':\n",
    "        print('b!')\n",
    "        break\n",
    "else:\n",
    "    print('b가 없습니다.')"
   ]
  },
  {
   "cell_type": "code",
   "execution_count": 49,
   "id": "1b0ccd5e",
   "metadata": {},
   "outputs": [
    {
     "name": "stdout",
     "output_type": "stream",
     "text": [
      "b!\n"
     ]
    }
   ],
   "source": [
    "for char in 'banana':\n",
    "    if char == 'b':\n",
    "        print('b!')\n",
    "        break\n",
    "else:\n",
    "    print('b가 없습니다.')"
   ]
  },
  {
   "cell_type": "markdown",
   "id": "43c31539",
   "metadata": {},
   "source": [
    "### pass문"
   ]
  },
  {
   "cell_type": "markdown",
   "id": "b706f82f",
   "metadata": {},
   "source": [
    "- 아무것도 하지 않음\n",
    " - 특별히 할 일이 없을 때 자리를 채우는 용동로 사용\n",
    " - 반복문이 아니어도 사용 가능"
   ]
  },
  {
   "cell_type": "code",
   "execution_count": 50,
   "id": "bb3be0b5",
   "metadata": {},
   "outputs": [
    {
     "name": "stdout",
     "output_type": "stream",
     "text": [
      "0\n",
      "1\n",
      "2\n",
      "3\n",
      "4\n"
     ]
    }
   ],
   "source": [
    "for i in range(5):\n",
    "    if i == 3:\n",
    "        pass\n",
    "    print(i)"
   ]
  },
  {
   "cell_type": "code",
   "execution_count": 51,
   "id": "c40d0936",
   "metadata": {},
   "outputs": [
    {
     "name": "stdout",
     "output_type": "stream",
     "text": [
      "0\n",
      "1\n",
      "2\n",
      "4\n"
     ]
    }
   ],
   "source": [
    "for i in range(5):\n",
    "    if i == 3:\n",
    "        continue\n",
    "    print(i)"
   ]
  }
 ],
 "metadata": {
  "kernelspec": {
   "display_name": "Python 3 (ipykernel)",
   "language": "python",
   "name": "python3"
  },
  "language_info": {
   "codemirror_mode": {
    "name": "ipython",
    "version": 3
   },
   "file_extension": ".py",
   "mimetype": "text/x-python",
   "name": "python",
   "nbconvert_exporter": "python",
   "pygments_lexer": "ipython3",
   "version": "3.9.7"
  }
 },
 "nbformat": 4,
 "nbformat_minor": 5
}
