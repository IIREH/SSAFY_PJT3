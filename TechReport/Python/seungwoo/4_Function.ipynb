{
 "cells": [
  {
   "cell_type": "markdown",
   "id": "29e46e50",
   "metadata": {},
   "source": [
    "# 함수"
   ]
  },
  {
   "cell_type": "markdown",
   "id": "476163d4",
   "metadata": {},
   "source": [
    "- 목차\n",
    " - 함수 기초\n",
    " - 함수 output\n",
    " - 함수 input\n",
    " - 재귀 함수"
   ]
  },
  {
   "cell_type": "markdown",
   "id": "4df230c6",
   "metadata": {},
   "source": [
    "## 함수 기초"
   ]
  },
  {
   "cell_type": "markdown",
   "id": "ef80dc37",
   "metadata": {},
   "source": [
    "### 함수(Function)"
   ]
  },
  {
   "cell_type": "markdown",
   "id": "2cd917c1",
   "metadata": {},
   "source": [
    "- 특정한 기능을 하는 코드의 조각(묶음) \n",
    "<br><br>\n",
    "- 하나의 큰 프로그램을 여러 부분으로 나누어 같은 함수를 여러 상황에서 호출하고(높은 재사용성),<br>\n",
    "  일부분을 수정하기 쉽다(유지보수 용이)는 장점을 가짐\n",
    "<br><br>\n",
    "- 함수의 특징\n",
    " - 함수의 이름\n",
    " - 함수의 매개변수(parameters)\n",
    " - 함수의 바디(body) - Docstring(선택적) 및 코드셋\n",
    " - 함수의 반환 값(return)"
   ]
  },
  {
   "cell_type": "code",
   "execution_count": 2,
   "id": "52a6d8e4",
   "metadata": {},
   "outputs": [
    {
     "name": "stdout",
     "output_type": "stream",
     "text": [
      "hi\n"
     ]
    }
   ],
   "source": [
    "print('hi')"
   ]
  },
  {
   "cell_type": "code",
   "execution_count": 3,
   "id": "d098c635",
   "metadata": {},
   "outputs": [
    {
     "name": "stdout",
     "output_type": "stream",
     "text": [
      "-3 3\n"
     ]
    }
   ],
   "source": [
    "x = -3\n",
    "y = abs(x)\n",
    "print(x, y)"
   ]
  },
  {
   "cell_type": "code",
   "execution_count": 4,
   "id": "ef9c3361",
   "metadata": {},
   "outputs": [
    {
     "name": "stdout",
     "output_type": "stream",
     "text": [
      "9\n"
     ]
    }
   ],
   "source": [
    "y = abs(-3) + sum([1, 2, 3])\n",
    "print(y)"
   ]
  },
  {
   "cell_type": "markdown",
   "id": "5e674c5a",
   "metadata": {},
   "source": [
    "###  함수를 사용해야 하는 이유"
   ]
  },
  {
   "cell_type": "markdown",
   "id": "38b79c9e",
   "metadata": {},
   "source": [
    "- 조건문 / 반복문 활용\n",
    " - 어떠한 로직일까요?"
   ]
  },
  {
   "cell_type": "code",
   "execution_count": 11,
   "id": "ea00d09d",
   "metadata": {},
   "outputs": [
    {
     "name": "stdout",
     "output_type": "stream",
     "text": [
      "14.499760534421096\n"
     ]
    }
   ],
   "source": [
    "values = [100, 75, 85, 90, 65, 95, 90, 60, 85, 50, 90, 80]\n",
    "\n",
    "total = 0\n",
    "cnt = 0\n",
    "\n",
    "for value in values:\n",
    "    total += value\n",
    "    cnt += 1\n",
    "    \n",
    "mean = total / cnt\n",
    "\n",
    "total_var = 0\n",
    "\n",
    "for value in values:\n",
    "    total_var += (value - mean) ** 2\n",
    "\n",
    "sum_var = total_var / cnt\n",
    "\n",
    "target = sum_var\n",
    "\n",
    "count = 0\n",
    "\n",
    "while True:\n",
    "    count += 1\n",
    "    root = 0.5 * (target + (sum_var / target))\n",
    "    if (abs(root - target) < 0.00000000000001):\n",
    "        break\n",
    "    target = root\n",
    "    \n",
    "std_dev = target\n",
    "\n",
    "print(std_dev)"
   ]
  },
  {
   "cell_type": "markdown",
   "id": "c41f82f8",
   "metadata": {},
   "source": [
    "![](img/function.png)"
   ]
  },
  {
   "cell_type": "markdown",
   "id": "ccefdf49",
   "metadata": {},
   "source": [
    "- 내장 함수 활용"
   ]
  },
  {
   "cell_type": "code",
   "execution_count": 6,
   "id": "44ead764",
   "metadata": {},
   "outputs": [
    {
     "name": "stdout",
     "output_type": "stream",
     "text": [
      "14.499760534421096\n"
     ]
    }
   ],
   "source": [
    "import math\n",
    "\n",
    "values = [100, 75, 85, 90, 65, 95, 90, 60, 85, 50, 90, 80]\n",
    "cnt = len(values)\n",
    "mean = sum(values) / cnt\n",
    "sum_var = sum(pow(value - mean, 2) for value in values) / cnt\n",
    "std_dev = math.sqrt(sum_var)\n",
    "\n",
    "print(std_dev)"
   ]
  },
  {
   "cell_type": "markdown",
   "id": "615054bc",
   "metadata": {},
   "source": [
    "- pstdev 함수 (파이썬 표준 라이브러리 - statistics) (https://docs.python.org/3/library/statistics.html#statistics.pvariance)"
   ]
  },
  {
   "cell_type": "code",
   "execution_count": 12,
   "id": "072d7e68",
   "metadata": {},
   "outputs": [
    {
     "data": {
      "text/plain": [
       "14.499760534421096"
      ]
     },
     "execution_count": 12,
     "metadata": {},
     "output_type": "execute_result"
    }
   ],
   "source": [
    "import statistics\n",
    "\n",
    "values = [100, 75, 85, 90, 65, 95, 90, 60, 85, 50, 90, 80]\n",
    "statistics.pstdev(values)"
   ]
  },
  {
   "cell_type": "markdown",
   "id": "f65d3031",
   "metadata": {},
   "source": [
    "![](img/document2.png)"
   ]
  },
  {
   "cell_type": "markdown",
   "id": "2e57e0ca",
   "metadata": {},
   "source": [
    "- 함수\n",
    " - 이름\n",
    " - 매개변수\n",
    " - 함수 바디\n",
    " - 반환 값"
   ]
  },
  {
   "cell_type": "markdown",
   "id": "ec0281fa",
   "metadata": {},
   "source": [
    "![](img/function2.png)"
   ]
  },
  {
   "cell_type": "markdown",
   "id": "477808f0",
   "metadata": {},
   "source": [
    "#### DocString (Document String)"
   ]
  },
  {
   "cell_type": "markdown",
   "id": "a2d7a145",
   "metadata": {},
   "source": [
    "- 함수나 클래스의 설명"
   ]
  },
  {
   "cell_type": "markdown",
   "id": "311e5c76",
   "metadata": {},
   "source": [
    "#### 함수에 커서를 두고 Shift + tab을 하면 Docstring을 볼 수 있다."
   ]
  },
  {
   "cell_type": "code",
   "execution_count": 17,
   "id": "0d9f313f",
   "metadata": {},
   "outputs": [
    {
     "data": {
      "text/plain": [
       "<function statistics.pstdev(data, mu=None)>"
      ]
     },
     "execution_count": 17,
     "metadata": {},
     "output_type": "execute_result"
    }
   ],
   "source": [
    "statistics.pstdev"
   ]
  },
  {
   "cell_type": "code",
   "execution_count": 16,
   "id": "e9b8b30a",
   "metadata": {},
   "outputs": [
    {
     "data": {
      "text/plain": [
       "'Return the square root of the population variance.\\n\\n    See ``pvariance`` for arguments and other details.\\n\\n    >>> pstdev([1.5, 2.5, 2.5, 2.75, 3.25, 4.75])\\n    0.986893273527251\\n\\n    '"
      ]
     },
     "execution_count": 16,
     "metadata": {},
     "output_type": "execute_result"
    }
   ],
   "source": [
    "statistics.pstdev.__doc__"
   ]
  },
  {
   "cell_type": "markdown",
   "id": "a87b237f",
   "metadata": {},
   "source": [
    "#### 내장 함수(Built-in Functions)"
   ]
  },
  {
   "cell_type": "markdown",
   "id": "ea54e7bb",
   "metadata": {},
   "source": [
    "- 파이썬 인터프리터에는 항상 사용할 수 있는 많은 함수와 형(type)이 내장되어 있음"
   ]
  },
  {
   "cell_type": "markdown",
   "id": "bb94be72",
   "metadata": {},
   "source": [
    "![](img/built-in.png)"
   ]
  },
  {
   "cell_type": "markdown",
   "id": "f2887403",
   "metadata": {},
   "source": [
    "### 함수의 선언"
   ]
  },
  {
   "cell_type": "markdown",
   "id": "3ab42b26",
   "metadata": {},
   "source": [
    "- 함수의 선언은 def 키워드를 활용한다\n",
    "- 들여쓰기를 통해 함수 body(실행될 코드 블록)를 작성함\n",
    " - Docstring은 함수 body 앞에 선택적으로 작성 가능\n",
    "   - 작성시에는 body 첫번째 줄에 큰 따옴표 3개나 작은 따옴표 3개로 작성<br>\n",
    "     \"\"\" docstring \"\"\"\n",
    " - 함수에는 매개변수(parameter)를 넘겨줄 수도 있음\n",
    " - 함수는 동작 후에 return을 통해 결과 값을 전달함\n",
    "   - 반드시 하나의 객체를 반환"
   ]
  },
  {
   "cell_type": "markdown",
   "id": "3ce61048",
   "metadata": {},
   "source": [
    "### 함수의 호출"
   ]
  },
  {
   "cell_type": "markdown",
   "id": "9a95cdb8",
   "metadata": {},
   "source": [
    "- 함수는 함수명( )으로 호축\n",
    " - 매개변수가 있는 경우, 함수명(값1, 값2, ...)로 호출"
   ]
  },
  {
   "cell_type": "markdown",
   "id": "4bedf029",
   "metadata": {},
   "source": [
    "![](img/funtion3.png)"
   ]
  },
  {
   "cell_type": "markdown",
   "id": "1b9074a3",
   "metadata": {},
   "source": [
    "### 함수의 선언과 호출 예시"
   ]
  },
  {
   "cell_type": "code",
   "execution_count": 18,
   "id": "fb1eecd6",
   "metadata": {},
   "outputs": [
    {
     "name": "stdout",
     "output_type": "stream",
     "text": [
      "9\n"
     ]
    }
   ],
   "source": [
    "num1 = 0\n",
    "num2 = 1\n",
    "\n",
    "def func1(a, b):\n",
    "    return a + b\n",
    "\n",
    "def func2(a, b):\n",
    "    return a - b\n",
    "\n",
    "def func3(a, b):\n",
    "    return func1(a, 5) + func2(5, b)\n",
    "\n",
    "result = func3(num1, num2)\n",
    "\n",
    "print(result)"
   ]
  },
  {
   "cell_type": "markdown",
   "id": "5e49b849",
   "metadata": {},
   "source": [
    "![](img/functioncall.png)"
   ]
  },
  {
   "cell_type": "markdown",
   "id": "e9bf6302",
   "metadata": {},
   "source": [
    "#### 함수 실습 문제 - 세제곱 함수"
   ]
  },
  {
   "cell_type": "markdown",
   "id": "4d4a5af5",
   "metadata": {},
   "source": [
    "- 입력 받은 수를 세제곱하여 반환하는 함수 cube를 작성하시오"
   ]
  },
  {
   "cell_type": "code",
   "execution_count": 20,
   "id": "42a4e206",
   "metadata": {},
   "outputs": [],
   "source": [
    "def cube(num):\n",
    "    return num ** 3"
   ]
  },
  {
   "cell_type": "markdown",
   "id": "bbd92869",
   "metadata": {},
   "source": [
    "- 함수 cube를 활용하여 2의 세제곱, 100의 세제곱을 구하시오"
   ]
  },
  {
   "cell_type": "code",
   "execution_count": 21,
   "id": "a8f977af",
   "metadata": {},
   "outputs": [
    {
     "name": "stdout",
     "output_type": "stream",
     "text": [
      "8\n",
      "1000000\n"
     ]
    }
   ],
   "source": [
    "print(cube(2))\n",
    "print(cube(100))"
   ]
  },
  {
   "cell_type": "code",
   "execution_count": null,
   "id": "7d40e4cc",
   "metadata": {},
   "outputs": [],
   "source": []
  },
  {
   "cell_type": "markdown",
   "id": "232a4100",
   "metadata": {},
   "source": [
    "## 재귀 함수(recursive function)"
   ]
  },
  {
   "cell_type": "markdown",
   "id": "2604165d",
   "metadata": {},
   "source": [
    "- 자기 자신을 호출하는 함수\n",
    "<br><br>\n",
    "- 무한한 호출을 목표로 하는 것이 아니며, 알고리즘 설계 및 구혀에서 유용하게 활용\n",
    " - 알고리즘 중 재귀 함수로 로직을 표현하기 쉬운 경우가 있음(예 - 점화식)\n",
    " - 변수의 사용이 줄어들며, 코드의 가독성이 높아짐\n",
    "<br><br>\n",
    "- 1개 이상의 base case(종료되는 상황)가 존재하고, 수렴하도록 작성\n",
    " - 같은 문제를 다른 Input 값을 통해서 해결하는 과정\n",
    "   - 큰 문제를 해결하기 위해 작은 문제로 좁히고, 작은 문제의 해답을 이용하여 해결\n",
    " - 작은 문제는 base case에 도달하여 재귀 함수가 끝날 수 있도록 한다"
   ]
  },
  {
   "cell_type": "markdown",
   "id": "e1cd8c77",
   "metadata": {},
   "source": [
    "#### 재귀함수 실습 문제 1"
   ]
  },
  {
   "cell_type": "markdown",
   "id": "2e116687",
   "metadata": {},
   "source": [
    "- 팩토리얼 계산을 위한 코드를 반복문으로 작성하시오"
   ]
  },
  {
   "cell_type": "code",
   "execution_count": 3,
   "id": "26ea7da6",
   "metadata": {},
   "outputs": [
    {
     "name": "stdout",
     "output_type": "stream",
     "text": [
      "6\n",
      "24\n"
     ]
    }
   ],
   "source": [
    "def fact(n):\n",
    "    result = 1\n",
    "    while n > 1:\n",
    "        result *= n\n",
    "        n -= 1\n",
    "    return result\n",
    "        \n",
    "\n",
    "print(fact(3)) # 6\n",
    "print(fact(4)) # 24"
   ]
  },
  {
   "cell_type": "markdown",
   "id": "4b002bfb",
   "metadata": {},
   "source": [
    "#### 팩토리얼 재귀"
   ]
  },
  {
   "cell_type": "markdown",
   "id": "e2cc1b04",
   "metadata": {},
   "source": [
    "![](img/factrecur.png)"
   ]
  },
  {
   "cell_type": "markdown",
   "id": "91143d49",
   "metadata": {},
   "source": [
    "![](img/fact1.png)"
   ]
  },
  {
   "cell_type": "markdown",
   "id": "2e7251fb",
   "metadata": {},
   "source": [
    "![](img/fact1.png)"
   ]
  },
  {
   "cell_type": "markdown",
   "id": "d1efb67f",
   "metadata": {},
   "source": [
    "![](img/fact2.png)"
   ]
  },
  {
   "cell_type": "markdown",
   "id": "0bd9ac8a",
   "metadata": {},
   "source": [
    "![](img/fact3.png)"
   ]
  },
  {
   "cell_type": "code",
   "execution_count": null,
   "id": "a5697147",
   "metadata": {},
   "outputs": [],
   "source": [
    "def factorial(n):\n",
    "    if n== 1:\n",
    "        return n\n",
    "    else:\n",
    "        return n * factorial(n-1)\n",
    "        \n",
    "print(factorial(4))"
   ]
  },
  {
   "cell_type": "markdown",
   "id": "e31585c9",
   "metadata": {},
   "source": [
    "### 팩토리얼 - 재귀함수"
   ]
  },
  {
   "cell_type": "markdown",
   "id": "6c468e52",
   "metadata": {},
   "source": [
    "- 반복문\n",
    " - n이 1보다 큰 경우 반복문 실행, n은 1씩 감소\n",
    " - 마지막에 n이 1이면 더 이상 반복문을 돌지 않음\n",
    "<br><br>\n",
    "- 재귀 함수\n",
    " - 재귀 함수를 호출하며, n은 1씩 감소\n",
    " - 마지막에 n이 1이면 더 이상 추가 함수를 호출하지 않음 (base case)"
   ]
  },
  {
   "cell_type": "markdown",
   "id": "e5dcfe49",
   "metadata": {},
   "source": [
    "### 재귀 함수 주의 사항"
   ]
  },
  {
   "cell_type": "markdown",
   "id": "0d331339",
   "metadata": {},
   "source": [
    "- 재귀 함수는 base case에 도달할 때까지 함수를 호출함\n",
    "- 메모리 스택이 넘치게 되면(stack overflow) 프로그램이 동작하지 않게 됨\n",
    "- 파이썬에서는 최대 재귀 깊이(maximum recursion depth)가 1000번으로, 호출 횟수가 이를 넘어가게 되면 Recursion Error 발생"
   ]
  },
  {
   "cell_type": "code",
   "execution_count": null,
   "id": "3a4dd77c",
   "metadata": {},
   "outputs": [],
   "source": [
    "def hello():\n",
    "    hello()\n",
    "    \n",
    "hello()"
   ]
  },
  {
   "cell_type": "markdown",
   "id": "63c84d05",
   "metadata": {},
   "source": [
    "####  재귀 함수 실습 문제 3"
   ]
  },
  {
   "cell_type": "markdown",
   "id": "7513b375",
   "metadata": {},
   "source": [
    "- 피보나치 수열을 계산하는 함수를 반복문과 재귀 함수를 활용하여 작성하시오"
   ]
  },
  {
   "cell_type": "code",
   "execution_count": null,
   "id": "d344afae",
   "metadata": {},
   "outputs": [],
   "source": [
    "def fib(n):\n",
    "    # base case\n",
    "    if n < 2:\n",
    "        return n\n",
    "    else:\n",
    "        return fib(n-1) + fib(n-2)"
   ]
  },
  {
   "cell_type": "markdown",
   "id": "98a9211d",
   "metadata": {},
   "source": [
    "- 재귀 함수로 작성된 경우 4번째 항의 값을 구하기 위해 호출되는 함수의 개수를 작성하시오"
   ]
  },
  {
   "cell_type": "markdown",
   "id": "05096ae3",
   "metadata": {},
   "source": [
    "![](img/fibo.png)"
   ]
  },
  {
   "cell_type": "code",
   "execution_count": 3,
   "id": "227f4c9d",
   "metadata": {},
   "outputs": [
    {
     "name": "stdout",
     "output_type": "stream",
     "text": [
      "3\n"
     ]
    }
   ],
   "source": [
    "# Fibo 반복문\n",
    "def fibo_for(n):\n",
    "    if n < 2:\n",
    "        return n\n",
    "    \n",
    "    a, b = 0, 1\n",
    "    \n",
    "    for i in range(n-1):\n",
    "        a, b = b, a+b\n",
    "    return b\n",
    "\n",
    "print(fibo_for(4))"
   ]
  },
  {
   "cell_type": "code",
   "execution_count": null,
   "id": "1cfd0cc0",
   "metadata": {},
   "outputs": [],
   "source": []
  }
 ],
 "metadata": {
  "kernelspec": {
   "display_name": "Python 3 (ipykernel)",
   "language": "python",
   "name": "python3"
  },
  "language_info": {
   "codemirror_mode": {
    "name": "ipython",
    "version": 3
   },
   "file_extension": ".py",
   "mimetype": "text/x-python",
   "name": "python",
   "nbconvert_exporter": "python",
   "pygments_lexer": "ipython3",
   "version": "3.9.7"
  }
 },
 "nbformat": 4,
 "nbformat_minor": 5
}
