{
 "cells": [
  {
   "cell_type": "markdown",
   "id": "1f29d87d",
   "metadata": {},
   "source": [
    "# 데이터 구조"
   ]
  },
  {
   "cell_type": "markdown",
   "id": "17fb39fd",
   "metadata": {},
   "source": [
    "목차\n",
    "\n",
    "- 문자열\n",
    "- 리스트\n",
    "- 세트\n",
    "- 딕셔너리"
   ]
  },
  {
   "cell_type": "markdown",
   "id": "ebc2d9fc",
   "metadata": {},
   "source": [
    "![](img/datastructures.png)"
   ]
  },
  {
   "cell_type": "markdown",
   "id": "8de8052a",
   "metadata": {},
   "source": [
    "- Niklaus Wirth\n",
    " - Algorithms + Data Structures = Programs\n",
    "<br><br> \n",
    "- 프로그래밍 언어 파스칼 설계 (1969)\n",
    "<br><br>\n",
    "- 1984년 튜링상 수상"
   ]
  },
  {
   "cell_type": "markdown",
   "id": "6db88e94",
   "metadata": {},
   "source": [
    "### 데이터 구조"
   ]
  },
  {
   "cell_type": "markdown",
   "id": "920e1ea6",
   "metadata": {},
   "source": [
    "- 데이터에 편리하게 접근하고, 변경하기 위해 데이터를 저장하거나 조작하는 법\n",
    " - '자료구조'라고도 함\n",
    "<br><br>\n",
    "- 순서가 있는 데이터 구조\n",
    " - 문자열(String)\n",
    " - 리스트(List)\n",
    "<br><br>\n",
    "- 순서가 없는 데이터구조\n",
    " - 세트(Set)\n",
    " - 딕셔너리(Dictionary)"
   ]
  },
  {
   "cell_type": "markdown",
   "id": "821efc54",
   "metadata": {},
   "source": [
    "### 문자열"
   ]
  },
  {
   "cell_type": "markdown",
   "id": "731c178f",
   "metadata": {},
   "source": [
    "- 문자들의 나열(sequence of characters)\n",
    "- 문자열의 특징\n",
    " - 변경할 수 없고(Immutable)\n",
    " - 순서가 있고(Ordered)\n",
    " - 순회 가능한(Iterable)"
   ]
  },
  {
   "cell_type": "markdown",
   "id": "05d23236",
   "metadata": {},
   "source": [
    "- Immutable"
   ]
  },
  {
   "cell_type": "code",
   "execution_count": 1,
   "id": "728acb51",
   "metadata": {},
   "outputs": [
    {
     "ename": "TypeError",
     "evalue": "'str' object does not support item assignment",
     "output_type": "error",
     "traceback": [
      "\u001b[1;31m---------------------------------------------------------------------------\u001b[0m",
      "\u001b[1;31mTypeError\u001b[0m                                 Traceback (most recent call last)",
      "\u001b[1;32mC:\\Users\\MULTIC~1\\AppData\\Local\\Temp/ipykernel_2288/3372803344.py\u001b[0m in \u001b[0;36m<module>\u001b[1;34m\u001b[0m\n\u001b[0;32m      1\u001b[0m \u001b[0ma\u001b[0m \u001b[1;33m=\u001b[0m \u001b[1;34m'my string?'\u001b[0m\u001b[1;33m\u001b[0m\u001b[1;33m\u001b[0m\u001b[0m\n\u001b[1;32m----> 2\u001b[1;33m \u001b[0ma\u001b[0m\u001b[1;33m[\u001b[0m\u001b[1;33m-\u001b[0m\u001b[1;36m1\u001b[0m\u001b[1;33m]\u001b[0m \u001b[1;33m=\u001b[0m \u001b[1;34m'!'\u001b[0m\u001b[1;33m\u001b[0m\u001b[1;33m\u001b[0m\u001b[0m\n\u001b[0m",
      "\u001b[1;31mTypeError\u001b[0m: 'str' object does not support item assignment"
     ]
    }
   ],
   "source": [
    "a = 'my string?'\n",
    "a[-1] = '!'"
   ]
  },
  {
   "cell_type": "markdown",
   "id": "be057079",
   "metadata": {},
   "source": [
    "- Iterable"
   ]
  },
  {
   "cell_type": "code",
   "execution_count": 2,
   "id": "10808888",
   "metadata": {},
   "outputs": [
    {
     "name": "stdout",
     "output_type": "stream",
     "text": [
      "1\n",
      "2\n",
      "3\n"
     ]
    }
   ],
   "source": [
    "a = '123'\n",
    "for char in a:\n",
    "    print(char)"
   ]
  },
  {
   "cell_type": "markdown",
   "id": "c38865e4",
   "metadata": {},
   "source": [
    "### 문자열 인덱스(Index)"
   ]
  },
  {
   "cell_type": "code",
   "execution_count": 3,
   "id": "c1ff148e",
   "metadata": {},
   "outputs": [
    {
     "ename": "SyntaxError",
     "evalue": "invalid syntax (Temp/ipykernel_2288/1516707766.py, line 1)",
     "output_type": "error",
     "traceback": [
      "\u001b[1;36m  File \u001b[1;32m\"C:\\Users\\MULTIC~1\\AppData\\Local\\Temp/ipykernel_2288/1516707766.py\"\u001b[1;36m, line \u001b[1;32m1\u001b[0m\n\u001b[1;33m    - 파이썬에서 문자열은 아래와 같이 접근할 수 있음\u001b[0m\n\u001b[1;37m            ^\u001b[0m\n\u001b[1;31mSyntaxError\u001b[0m\u001b[1;31m:\u001b[0m invalid syntax\n"
     ]
    }
   ],
   "source": [
    "- 파이썬에서 문자열은 아래와 같이 접근할 수 있음"
   ]
  },
  {
   "cell_type": "markdown",
   "id": "6fa59b42",
   "metadata": {},
   "source": [
    "![](img/range.png)"
   ]
  },
  {
   "cell_type": "markdown",
   "id": "6c9f42bf",
   "metadata": {},
   "source": [
    "### 문자열 자르기(Slicing)"
   ]
  },
  {
   "cell_type": "markdown",
   "id": "89eb9fcf",
   "metadata": {},
   "source": [
    "- 파이썬에서 문자열은 아래와 같이 자를 수 있음"
   ]
  },
  {
   "cell_type": "markdown",
   "id": "38c18b1d",
   "metadata": {},
   "source": [
    "![](img/slicing2.png)"
   ]
  },
  {
   "cell_type": "code",
   "execution_count": 11,
   "id": "985bc9e3",
   "metadata": {},
   "outputs": [
    {
     "name": "stdout",
     "output_type": "stream",
     "text": [
      "cde\n",
      "defg\n",
      "cde\n",
      "ce\n",
      "dg\n",
      "\n",
      "fed\n",
      "abc\n",
      "fghi\n",
      "abcdefghi\n",
      "ihgfedcba\n"
     ]
    }
   ],
   "source": [
    "s = 'abcdefghi'\n",
    "\n",
    "print(s[2:5])\n",
    "print(s[-6:-2])\n",
    "print(s[2:-4])\n",
    "\n",
    "print(s[2:5:2])\n",
    "print(s[-6:-1:3])\n",
    "print(s[2:5:-1])\n",
    "print(s[5:2:-1])\n",
    "\n",
    "print(s[:3])\n",
    "print(s[5:])\n",
    "\n",
    "print(s[::]) # s[0:len(s):1]과 동일\n",
    "print(s[::-1]) # s[-1:-(len(s)+1):-1]과 동일 => 뒤집기"
   ]
  },
  {
   "cell_type": "markdown",
   "id": "4df775d9",
   "metadata": {},
   "source": [
    "#### 문자열 조회 / 탐색"
   ]
  },
  {
   "cell_type": "markdown",
   "id": "af1d6ca1",
   "metadata": {},
   "source": [
    "#### <span style=\"color:green\"> .find(x) </span>"
   ]
  },
  {
   "cell_type": "markdown",
   "id": "e8411b0b",
   "metadata": {},
   "source": [
    "- x의 첫번째 위치를 반환, 없으면 -1을 반환"
   ]
  },
  {
   "cell_type": "code",
   "execution_count": 12,
   "id": "2b27ad45",
   "metadata": {},
   "outputs": [
    {
     "data": {
      "text/plain": [
       "1"
      ]
     },
     "execution_count": 12,
     "metadata": {},
     "output_type": "execute_result"
    }
   ],
   "source": [
    "'apple'.find('p')"
   ]
  },
  {
   "cell_type": "code",
   "execution_count": 13,
   "id": "dc837302",
   "metadata": {},
   "outputs": [
    {
     "data": {
      "text/plain": [
       "-1"
      ]
     },
     "execution_count": 13,
     "metadata": {},
     "output_type": "execute_result"
    }
   ],
   "source": [
    "'apple'.find('k')"
   ]
  },
  {
   "cell_type": "markdown",
   "id": "9c351777",
   "metadata": {},
   "source": [
    "#### <span style=\"color:green\"> .index(x) </span>"
   ]
  },
  {
   "cell_type": "markdown",
   "id": "b965ced6",
   "metadata": {},
   "source": [
    "- x의 첫 번째 위치를 반환, 없으면, ValueError 일으킴"
   ]
  },
  {
   "cell_type": "code",
   "execution_count": 14,
   "id": "fc983115",
   "metadata": {},
   "outputs": [
    {
     "data": {
      "text/plain": [
       "1"
      ]
     },
     "execution_count": 14,
     "metadata": {},
     "output_type": "execute_result"
    }
   ],
   "source": [
    "'apple'.index('p')"
   ]
  },
  {
   "cell_type": "code",
   "execution_count": 15,
   "id": "984421ef",
   "metadata": {},
   "outputs": [
    {
     "ename": "ValueError",
     "evalue": "substring not found",
     "output_type": "error",
     "traceback": [
      "\u001b[1;31m---------------------------------------------------------------------------\u001b[0m",
      "\u001b[1;31mValueError\u001b[0m                                Traceback (most recent call last)",
      "\u001b[1;32mC:\\Users\\MULTIC~1\\AppData\\Local\\Temp/ipykernel_2288/1912778221.py\u001b[0m in \u001b[0;36m<module>\u001b[1;34m\u001b[0m\n\u001b[1;32m----> 1\u001b[1;33m \u001b[1;34m'apple'\u001b[0m\u001b[1;33m.\u001b[0m\u001b[0mindex\u001b[0m\u001b[1;33m(\u001b[0m\u001b[1;34m'k'\u001b[0m\u001b[1;33m)\u001b[0m\u001b[1;33m\u001b[0m\u001b[1;33m\u001b[0m\u001b[0m\n\u001b[0m",
      "\u001b[1;31mValueError\u001b[0m: substring not found"
     ]
    }
   ],
   "source": [
    "'apple'.index('k')"
   ]
  },
  {
   "cell_type": "markdown",
   "id": "d71372fa",
   "metadata": {},
   "source": [
    "#### <span style=\"color:green\"> .replace( old, new [ , count ] ) </span>    [ ]는 BNF; Backus-Naur Form에 따르면 '선택적'이라는 뜻이다"
   ]
  },
  {
   "cell_type": "markdown",
   "id": "58150227",
   "metadata": {},
   "source": [
    "- 바꿀 대상 글자를 새로운 글자로 바꿔서 변환(복사본 반환)\n",
    "- count를 지정하면, 해당 개수만큼만 시행"
   ]
  },
  {
   "cell_type": "code",
   "execution_count": 16,
   "id": "a49b1805",
   "metadata": {},
   "outputs": [
    {
     "data": {
      "text/plain": [
       "'caane'"
      ]
     },
     "execution_count": 16,
     "metadata": {},
     "output_type": "execute_result"
    }
   ],
   "source": [
    "'coone'.replace('o', 'a')"
   ]
  },
  {
   "cell_type": "code",
   "execution_count": 19,
   "id": "8f5d983d",
   "metadata": {},
   "outputs": [
    {
     "data": {
      "text/plain": [
       "'w!!ooowoo'"
      ]
     },
     "execution_count": 19,
     "metadata": {},
     "output_type": "execute_result"
    }
   ],
   "source": [
    "'wooooowoo'.replace('o', '!', 2)"
   ]
  },
  {
   "cell_type": "markdown",
   "id": "a424d59f",
   "metadata": {},
   "source": [
    "#### 문자열 변경"
   ]
  },
  {
   "cell_type": "markdown",
   "id": "06244626",
   "metadata": {},
   "source": [
    "#### <span style=\"color:green\"> .strip( [ chars ] ) </span>"
   ]
  },
  {
   "cell_type": "markdown",
   "id": "f92e2f0c",
   "metadata": {},
   "source": [
    "- 특정한 문자들을 지정하면,\n",
    " - 양쪽을 제거하거나(strip), 왼쪽을 제거하거나(lstrip), 오른족을 제거(rstrip)\n",
    "- 문자열을 지정하지 않으면 공백을 제거함"
   ]
  },
  {
   "cell_type": "code",
   "execution_count": 20,
   "id": "8f469002",
   "metadata": {},
   "outputs": [
    {
     "data": {
      "text/plain": [
       "'와우!'"
      ]
     },
     "execution_count": 20,
     "metadata": {},
     "output_type": "execute_result"
    }
   ],
   "source": [
    "'     와우!\\n'.strip()"
   ]
  },
  {
   "cell_type": "code",
   "execution_count": 21,
   "id": "d56c0b8d",
   "metadata": {},
   "outputs": [
    {
     "data": {
      "text/plain": [
       "'와우!\\n'"
      ]
     },
     "execution_count": 21,
     "metadata": {},
     "output_type": "execute_result"
    }
   ],
   "source": [
    "'     와우!\\n'.lstrip()"
   ]
  },
  {
   "cell_type": "code",
   "execution_count": 22,
   "id": "28e8a3d1",
   "metadata": {},
   "outputs": [
    {
     "data": {
      "text/plain": [
       "'     와우!'"
      ]
     },
     "execution_count": 22,
     "metadata": {},
     "output_type": "execute_result"
    }
   ],
   "source": [
    "'     와우!\\n'.rstrip()"
   ]
  },
  {
   "cell_type": "code",
   "execution_count": 23,
   "id": "0730a827",
   "metadata": {},
   "outputs": [
    {
     "data": {
      "text/plain": [
       "'안녕하세요'"
      ]
     },
     "execution_count": 23,
     "metadata": {},
     "output_type": "execute_result"
    }
   ],
   "source": [
    "'안녕하세요?????????'.strip('?')"
   ]
  },
  {
   "cell_type": "markdown",
   "id": "c99d05e0",
   "metadata": {},
   "source": [
    "#### <span style=\"color:green\"> .split( sep = None ) </span>"
   ]
  },
  {
   "cell_type": "markdown",
   "id": "6d7b41bb",
   "metadata": {},
   "source": [
    "- 문자열을 특정한 단위로 나눠 리스트로 반환"
   ]
  },
  {
   "cell_type": "code",
   "execution_count": 24,
   "id": "987edc54",
   "metadata": {},
   "outputs": [
    {
     "data": {
      "text/plain": [
       "['a, b, c']"
      ]
     },
     "execution_count": 24,
     "metadata": {},
     "output_type": "execute_result"
    }
   ],
   "source": [
    "'a, b, c'.split('_')"
   ]
  },
  {
   "cell_type": "code",
   "execution_count": 26,
   "id": "93e707ac",
   "metadata": {},
   "outputs": [
    {
     "data": {
      "text/plain": [
       "['a', 'b', 'c']"
      ]
     },
     "execution_count": 26,
     "metadata": {},
     "output_type": "execute_result"
    }
   ],
   "source": [
    "'a b c'.split()"
   ]
  },
  {
   "cell_type": "markdown",
   "id": "1ef13606",
   "metadata": {},
   "source": [
    "#### <span style=\"color:green\"> 'separator'.join( iterable ) </span>"
   ]
  },
  {
   "cell_type": "markdown",
   "id": "d06518d3",
   "metadata": {},
   "source": [
    "- 반복 가능한(iterable) 컨테이너 요소들을 separator(구분자)로 합쳐 문자열 반환"
   ]
  },
  {
   "cell_type": "code",
   "execution_count": 27,
   "id": "e4e0f65b",
   "metadata": {},
   "outputs": [
    {
     "data": {
      "text/plain": [
       "'w!o!r!l!d'"
      ]
     },
     "execution_count": 27,
     "metadata": {},
     "output_type": "execute_result"
    }
   ],
   "source": [
    "'!'.join('world')"
   ]
  },
  {
   "cell_type": "code",
   "execution_count": 28,
   "id": "8df3147f",
   "metadata": {},
   "outputs": [
    {
     "data": {
      "text/plain": [
       "'3 5'"
      ]
     },
     "execution_count": 28,
     "metadata": {},
     "output_type": "execute_result"
    }
   ],
   "source": [
    "' '.join(['3', '5'])"
   ]
  },
  {
   "cell_type": "markdown",
   "id": "645b0b4e",
   "metadata": {},
   "source": [
    "#### <span style=\"color:green\"> .capitalize() </span> : 첫 문자를 대문자, 나머지는 소문자\n",
    "#### <span style=\"color:green\"> .title </span> : ' 나 공백 이후의 단어 첫 문자를 대문자로\n",
    "#### <span style=\"color:green\"> .upper </span> : 모두 대문자로\n",
    "#### <span style=\"color:green\"> .lower </span> : 모두 소문자로\n",
    "#### <span style=\"color:green\"> .swapcase() </span> : 대 <- -> 소 문자로 면경하여"
   ]
  },
  {
   "cell_type": "code",
   "execution_count": 29,
   "id": "d41989c5",
   "metadata": {},
   "outputs": [
    {
     "name": "stdout",
     "output_type": "stream",
     "text": [
      "hi! Everyone, I'm happy\n",
      "Hi! everyone, i'm happy\n",
      "Hi! Everyone, I'M Happy\n",
      "HI! EVERYONE, I'M HAPPY\n",
      "hi! everyone, i'm happy\n",
      "HI! eVERYONE, i'M HAPPY\n"
     ]
    }
   ],
   "source": [
    "msg = 'hi! Everyone, I\\'m happy'\n",
    "\n",
    "print(msg)\n",
    "print(msg.capitalize())\n",
    "print(msg.title())\n",
    "print(msg.upper())\n",
    "print(msg.lower())\n",
    "print(msg.swapcase())"
   ]
  },
  {
   "cell_type": "markdown",
   "id": "a47d5bab",
   "metadata": {},
   "source": [
    "### 문자열 관련 검증 메서드"
   ]
  },
  {
   "cell_type": "markdown",
   "id": "dbed6f4d",
   "metadata": {},
   "source": [
    "#### <span style=\"color:green\"> .isalpha </span> : 알파벳 문자 여부     *단순 알파벳이아닌 유니코드 상 Letter(한국어도 포함)\n",
    "#### <span style=\"color:green\"> .isupper </span> : 대문자 여부\n",
    "#### <span style=\"color:green\"> .islower </span> : 소문자 여부\n",
    "#### <span style=\"color:green\"> .istitle </span> : 타이틀 형식 여부"
   ]
  },
  {
   "cell_type": "code",
   "execution_count": 31,
   "id": "3d90896c",
   "metadata": {},
   "outputs": [
    {
     "data": {
      "text/plain": [
       "True"
      ]
     },
     "execution_count": 31,
     "metadata": {},
     "output_type": "execute_result"
    }
   ],
   "source": [
    "'abc'.isalpha()"
   ]
  },
  {
   "cell_type": "code",
   "execution_count": 32,
   "id": "a71fb206",
   "metadata": {},
   "outputs": [
    {
     "data": {
      "text/plain": [
       "True"
      ]
     },
     "execution_count": 32,
     "metadata": {},
     "output_type": "execute_result"
    }
   ],
   "source": [
    "'ㄱㄴㄷ'.isalpha()"
   ]
  },
  {
   "cell_type": "code",
   "execution_count": 33,
   "id": "78ef8468",
   "metadata": {},
   "outputs": [
    {
     "data": {
      "text/plain": [
       "False"
      ]
     },
     "execution_count": 33,
     "metadata": {},
     "output_type": "execute_result"
    }
   ],
   "source": [
    "'Ab'.isupper()"
   ]
  },
  {
   "cell_type": "code",
   "execution_count": 34,
   "id": "e0ac4c74",
   "metadata": {},
   "outputs": [
    {
     "data": {
      "text/plain": [
       "True"
      ]
     },
     "execution_count": 34,
     "metadata": {},
     "output_type": "execute_result"
    }
   ],
   "source": [
    "'ab'.islower()"
   ]
  },
  {
   "cell_type": "code",
   "execution_count": 36,
   "id": "4d71a557",
   "metadata": {},
   "outputs": [
    {
     "data": {
      "text/plain": [
       "True"
      ]
     },
     "execution_count": 36,
     "metadata": {},
     "output_type": "execute_result"
    }
   ],
   "source": [
    "'Title Title!'.istitle()"
   ]
  },
  {
   "cell_type": "markdown",
   "id": "05ea14cb",
   "metadata": {},
   "source": [
    "#### <span style=\"color:green\"> .isdecimal() < .isdigit() < .isnumeric() </span>"
   ]
  },
  {
   "cell_type": "markdown",
   "id": "74ac0297",
   "metadata": {},
   "source": [
    "![](img/isfunc.png)"
   ]
  },
  {
   "cell_type": "code",
   "execution_count": 37,
   "id": "23aa9cf1",
   "metadata": {},
   "outputs": [
    {
     "data": {
      "text/plain": [
       "False"
      ]
     },
     "execution_count": 37,
     "metadata": {},
     "output_type": "execute_result"
    }
   ],
   "source": [
    "'↉'.isdecimal()"
   ]
  },
  {
   "cell_type": "code",
   "execution_count": 38,
   "id": "8e70ec4b",
   "metadata": {},
   "outputs": [
    {
     "data": {
      "text/plain": [
       "False"
      ]
     },
     "execution_count": 38,
     "metadata": {},
     "output_type": "execute_result"
    }
   ],
   "source": [
    "'↉'.isdigit()"
   ]
  },
  {
   "cell_type": "code",
   "execution_count": 39,
   "id": "1742240f",
   "metadata": {},
   "outputs": [
    {
     "data": {
      "text/plain": [
       "True"
      ]
     },
     "execution_count": 39,
     "metadata": {},
     "output_type": "execute_result"
    }
   ],
   "source": [
    "'↉'.isnumeric()"
   ]
  },
  {
   "cell_type": "code",
   "execution_count": 40,
   "id": "b74f7d9e",
   "metadata": {},
   "outputs": [
    {
     "data": {
      "text/plain": [
       "False"
      ]
     },
     "execution_count": 40,
     "metadata": {},
     "output_type": "execute_result"
    }
   ],
   "source": [
    "'⑨④'.isdecimal()"
   ]
  },
  {
   "cell_type": "code",
   "execution_count": 42,
   "id": "ebc72ab1",
   "metadata": {},
   "outputs": [
    {
     "data": {
      "text/plain": [
       "True"
      ]
     },
     "execution_count": 42,
     "metadata": {},
     "output_type": "execute_result"
    }
   ],
   "source": [
    "'⑨④'.isdigit()"
   ]
  },
  {
   "cell_type": "code",
   "execution_count": 43,
   "id": "f7d179c4",
   "metadata": {},
   "outputs": [
    {
     "data": {
      "text/plain": [
       "True"
      ]
     },
     "execution_count": 43,
     "metadata": {},
     "output_type": "execute_result"
    }
   ],
   "source": [
    "'⑨④'.isnumeric()"
   ]
  },
  {
   "cell_type": "markdown",
   "id": "81d61310",
   "metadata": {},
   "source": [
    "### 리스트"
   ]
  },
  {
   "cell_type": "markdown",
   "id": "ad135fcd",
   "metadata": {},
   "source": [
    "- 순서가 있는 시퀀스, 인덱스로 접근\n",
    "<br><br>\n",
    "- 리스트의 특징\n",
    " - 변경 가능하고(Mutable)\n",
    " - 순서가 있고(Ordered)\n",
    " - 순회 가능한(Iterable)"
   ]
  },
  {
   "cell_type": "markdown",
   "id": "379ddd2c",
   "metadata": {},
   "source": [
    "#### 값 추가 및 삭제"
   ]
  },
  {
   "cell_type": "markdown",
   "id": "f8949cb1",
   "metadata": {},
   "source": [
    "#### <span style=\"color:green\"> .append( x ) </span>"
   ]
  },
  {
   "cell_type": "markdown",
   "id": "e86a2700",
   "metadata": {},
   "source": [
    "- 리스트의 끝에 값을 추가함"
   ]
  },
  {
   "cell_type": "code",
   "execution_count": 44,
   "id": "4684cf9c",
   "metadata": {},
   "outputs": [
    {
     "name": "stdout",
     "output_type": "stream",
     "text": [
      "['starbucks', 'tomntoms', 'hollys']\n",
      "['starbucks', 'tomntoms', 'hollys', 'banapresso']\n"
     ]
    }
   ],
   "source": [
    "cafe = ['starbucks', 'tomntoms', 'hollys']\n",
    "print(cafe)\n",
    "cafe.append('banapresso')\n",
    "print(cafe)"
   ]
  },
  {
   "cell_type": "markdown",
   "id": "c4829cfc",
   "metadata": {},
   "source": [
    "#### <span style=\"color:green\"> .extend( iterable ) </span>"
   ]
  },
  {
   "cell_type": "markdown",
   "id": "98d9c601",
   "metadata": {},
   "source": [
    "- 리스트에 iterable의 항목을 추가함"
   ]
  },
  {
   "cell_type": "code",
   "execution_count": 47,
   "id": "b2e04810",
   "metadata": {},
   "outputs": [
    {
     "name": "stdout",
     "output_type": "stream",
     "text": [
      "['starbucks', 'tomntoms', 'hollys']\n",
      "['starbucks', 'tomntoms', 'hollys', 'banapresso']\n"
     ]
    }
   ],
   "source": [
    "cafe = ['starbucks', 'tomntoms', 'hollys']\n",
    "print(cafe)\n",
    "cafe.extend(['banapresso'])\n",
    "print(cafe)"
   ]
  },
  {
   "cell_type": "code",
   "execution_count": 48,
   "id": "f833dd44",
   "metadata": {},
   "outputs": [
    {
     "name": "stdout",
     "output_type": "stream",
     "text": [
      "['starbucks', 'tomntoms', 'hollys']\n",
      "['starbucks', 'tomntoms', 'hollys', 'banapresso']\n"
     ]
    }
   ],
   "source": [
    "cafe = ['starbucks', 'tomntoms', 'hollys']\n",
    "print(cafe)\n",
    "cafe += ['banapresso']\n",
    "print(cafe)"
   ]
  },
  {
   "cell_type": "code",
   "execution_count": 45,
   "id": "ff2ada6a",
   "metadata": {},
   "outputs": [
    {
     "name": "stdout",
     "output_type": "stream",
     "text": [
      "['starbucks', 'tomntoms', 'hollys']\n",
      "['starbucks', 'tomntoms', 'hollys', 'b', 'a', 'n', 'a', 'p', 'r', 'e', 's', 's', 'o']\n"
     ]
    }
   ],
   "source": [
    "cafe = ['starbucks', 'tomntoms', 'hollys']\n",
    "print(cafe)\n",
    "cafe.extend('banapresso')\n",
    "print(cafe)"
   ]
  },
  {
   "cell_type": "markdown",
   "id": "d7965cac",
   "metadata": {},
   "source": [
    "#### <span style=\"color:green\"> .insert( i, x ) </span>"
   ]
  },
  {
   "cell_type": "markdown",
   "id": "9856d8d0",
   "metadata": {},
   "source": [
    "- 정해진 위치 i에 값 x를 추가함"
   ]
  },
  {
   "cell_type": "code",
   "execution_count": 49,
   "id": "13b255f5",
   "metadata": {},
   "outputs": [
    {
     "name": "stdout",
     "output_type": "stream",
     "text": [
      "['starbucks', 'tomntoms', 'hollys']\n",
      "['banapresso', 'starbucks', 'tomntoms', 'hollys']\n"
     ]
    }
   ],
   "source": [
    "cafe = ['starbucks', 'tomntoms', 'hollys']\n",
    "print(cafe)\n",
    "cafe.insert(0, 'banapresso')\n",
    "print(cafe)"
   ]
  },
  {
   "cell_type": "code",
   "execution_count": 50,
   "id": "e82eb33e",
   "metadata": {},
   "outputs": [
    {
     "name": "stdout",
     "output_type": "stream",
     "text": [
      "['starbucks', 'tomntoms', 'hollys']\n",
      "['starbucks', 'tomntoms', 'hollys', 'banapresso']\n"
     ]
    }
   ],
   "source": [
    "cafe = ['starbucks', 'tomntoms', 'hollys']\n",
    "print(cafe)\n",
    "cafe.insert(len(cafe), 'banapresso') # 리스트 길이보다 큰 경우 맨 뒤\n",
    "print(cafe)"
   ]
  },
  {
   "cell_type": "code",
   "execution_count": 52,
   "id": "c4f12915",
   "metadata": {},
   "outputs": [
    {
     "name": "stdout",
     "output_type": "stream",
     "text": [
      "['starbucks', 'tomntoms', 'hollys']\n",
      "['starbucks', 'tomntoms', 'hollys', 'banapresso']\n"
     ]
    }
   ],
   "source": [
    "cafe = ['starbucks', 'tomntoms', 'hollys']\n",
    "print(cafe)\n",
    "cafe.insert(1000, 'banapresso') # 리스트 길이보다 큰 경우 맨 뒤\n",
    "print(cafe)"
   ]
  },
  {
   "cell_type": "markdown",
   "id": "012e4b64",
   "metadata": {},
   "source": [
    "#### <span style=\"color:green\"> .remove( x ) </span>"
   ]
  },
  {
   "cell_type": "markdown",
   "id": "c922e633",
   "metadata": {},
   "source": [
    "- 리스트에서 값이 x인 첫번재 항목 삭제"
   ]
  },
  {
   "cell_type": "code",
   "execution_count": 53,
   "id": "0292095f",
   "metadata": {},
   "outputs": [
    {
     "name": "stdout",
     "output_type": "stream",
     "text": [
      "[1, 2, 3, 'hi']\n",
      "[1, 2, 3]\n"
     ]
    }
   ],
   "source": [
    "numbers = [1, 2, 3, 'hi']\n",
    "print(numbers)\n",
    "numbers.remove('hi')\n",
    "print(numbers)"
   ]
  },
  {
   "cell_type": "code",
   "execution_count": 54,
   "id": "1b8c8988",
   "metadata": {},
   "outputs": [
    {
     "ename": "ValueError",
     "evalue": "list.remove(x): x not in list",
     "output_type": "error",
     "traceback": [
      "\u001b[1;31m---------------------------------------------------------------------------\u001b[0m",
      "\u001b[1;31mValueError\u001b[0m                                Traceback (most recent call last)",
      "\u001b[1;32mC:\\Users\\MULTIC~1\\AppData\\Local\\Temp/ipykernel_2288/1382364336.py\u001b[0m in \u001b[0;36m<module>\u001b[1;34m\u001b[0m\n\u001b[1;32m----> 1\u001b[1;33m \u001b[0mnumbers\u001b[0m\u001b[1;33m.\u001b[0m\u001b[0mremove\u001b[0m\u001b[1;33m(\u001b[0m\u001b[1;34m'hi'\u001b[0m\u001b[1;33m)\u001b[0m \u001b[1;31m# 없는 경우 Error\u001b[0m\u001b[1;33m\u001b[0m\u001b[1;33m\u001b[0m\u001b[0m\n\u001b[0m",
      "\u001b[1;31mValueError\u001b[0m: list.remove(x): x not in list"
     ]
    }
   ],
   "source": [
    "numbers.remove('hi') # 없는 경우 Error"
   ]
  },
  {
   "cell_type": "markdown",
   "id": "d78a9f93",
   "metadata": {},
   "source": [
    "#### <span style=\"color:green\"> .pop( i ) </span>"
   ]
  },
  {
   "cell_type": "markdown",
   "id": "63feb070",
   "metadata": {},
   "source": [
    "- 정해진 i에 있는 값을 삭제하고, 그 학목을 반환함\n",
    "- i가 지정되지 않으면, 마지막 항목을 삭제하고 반환함"
   ]
  },
  {
   "cell_type": "code",
   "execution_count": 55,
   "id": "2e2a7fdc",
   "metadata": {},
   "outputs": [
    {
     "name": "stdout",
     "output_type": "stream",
     "text": [
      "['hi', 1, 2, 3]\n",
      "['hi', 1, 2]\n"
     ]
    }
   ],
   "source": [
    "numbers = ['hi', 1, 2, 3]\n",
    "print(numbers)\n",
    "numbers.pop()\n",
    "print(numbers)"
   ]
  },
  {
   "cell_type": "code",
   "execution_count": 56,
   "id": "7018a836",
   "metadata": {},
   "outputs": [
    {
     "name": "stdout",
     "output_type": "stream",
     "text": [
      "['hi', 1, 2, 3]\n",
      "[1, 2, 3]\n"
     ]
    }
   ],
   "source": [
    "numbers = ['hi', 1, 2, 3]\n",
    "print(numbers)\n",
    "numbers.pop(0)\n",
    "print(numbers)"
   ]
  },
  {
   "cell_type": "markdown",
   "id": "f9f19733",
   "metadata": {},
   "source": [
    "#### <span style=\"color:green\"> .clear( ) </span>"
   ]
  },
  {
   "cell_type": "markdown",
   "id": "cd965592",
   "metadata": {},
   "source": [
    "- 모든 항목을 삭제함"
   ]
  },
  {
   "cell_type": "code",
   "execution_count": 57,
   "id": "db52334b",
   "metadata": {},
   "outputs": [
    {
     "name": "stdout",
     "output_type": "stream",
     "text": [
      "[1, 2, 3]\n",
      "[]\n"
     ]
    }
   ],
   "source": [
    "numbers = [1, 2, 3]\n",
    "print(numbers)\n",
    "numbers.clear()\n",
    "print(numbers)"
   ]
  },
  {
   "cell_type": "markdown",
   "id": "6c7b1b6d",
   "metadata": {},
   "source": [
    "#### 탐색 및 정렬"
   ]
  },
  {
   "cell_type": "markdown",
   "id": "fff1850a",
   "metadata": {},
   "source": [
    "#### <span style=\"color:green\"> .index( x ) </span>"
   ]
  },
  {
   "cell_type": "markdown",
   "id": "8baea802",
   "metadata": {},
   "source": [
    "- 첫번째 x값을 찾아 해당 index 값을 반환"
   ]
  },
  {
   "cell_type": "code",
   "execution_count": 59,
   "id": "56b0a663",
   "metadata": {},
   "outputs": [
    {
     "name": "stdout",
     "output_type": "stream",
     "text": [
      "[1, 2, 3, 4]\n",
      "2\n"
     ]
    },
    {
     "ename": "ValueError",
     "evalue": "100 is not in list",
     "output_type": "error",
     "traceback": [
      "\u001b[1;31m---------------------------------------------------------------------------\u001b[0m",
      "\u001b[1;31mValueError\u001b[0m                                Traceback (most recent call last)",
      "\u001b[1;32mC:\\Users\\MULTIC~1\\AppData\\Local\\Temp/ipykernel_2288/2797936187.py\u001b[0m in \u001b[0;36m<module>\u001b[1;34m\u001b[0m\n\u001b[0;32m      2\u001b[0m \u001b[0mprint\u001b[0m\u001b[1;33m(\u001b[0m\u001b[0mnumbers\u001b[0m\u001b[1;33m)\u001b[0m\u001b[1;33m\u001b[0m\u001b[1;33m\u001b[0m\u001b[0m\n\u001b[0;32m      3\u001b[0m \u001b[0mprint\u001b[0m\u001b[1;33m(\u001b[0m\u001b[0mnumbers\u001b[0m\u001b[1;33m.\u001b[0m\u001b[0mindex\u001b[0m\u001b[1;33m(\u001b[0m\u001b[1;36m3\u001b[0m\u001b[1;33m)\u001b[0m\u001b[1;33m)\u001b[0m\u001b[1;33m\u001b[0m\u001b[1;33m\u001b[0m\u001b[0m\n\u001b[1;32m----> 4\u001b[1;33m \u001b[0mprint\u001b[0m\u001b[1;33m(\u001b[0m\u001b[0mnumbers\u001b[0m\u001b[1;33m.\u001b[0m\u001b[0mindex\u001b[0m\u001b[1;33m(\u001b[0m\u001b[1;36m100\u001b[0m\u001b[1;33m)\u001b[0m\u001b[1;33m)\u001b[0m \u001b[1;31m# 없는 경우 Error\u001b[0m\u001b[1;33m\u001b[0m\u001b[1;33m\u001b[0m\u001b[0m\n\u001b[0m",
      "\u001b[1;31mValueError\u001b[0m: 100 is not in list"
     ]
    }
   ],
   "source": [
    "numbers = [1, 2, 3, 4]\n",
    "print(numbers)\n",
    "print(numbers.index(3))\n",
    "print(numbers.index(100)) # 없는 경우 Error"
   ]
  },
  {
   "cell_type": "markdown",
   "id": "bd978067",
   "metadata": {},
   "source": [
    "#### <span style=\"color:green\"> .count( x ) </span>"
   ]
  },
  {
   "cell_type": "markdown",
   "id": "eb26615f",
   "metadata": {},
   "source": [
    "- 원하는 값 x의 개수를 반환함"
   ]
  },
  {
   "cell_type": "code",
   "execution_count": 60,
   "id": "ff68fa6f",
   "metadata": {},
   "outputs": [
    {
     "data": {
      "text/plain": [
       "3"
      ]
     },
     "execution_count": 60,
     "metadata": {},
     "output_type": "execute_result"
    }
   ],
   "source": [
    "numbers = [1, 2, 3, 1, 1]\n",
    "numbers.count(1)"
   ]
  },
  {
   "cell_type": "code",
   "execution_count": 61,
   "id": "f8565e5e",
   "metadata": {},
   "outputs": [
    {
     "data": {
      "text/plain": [
       "0"
      ]
     },
     "execution_count": 61,
     "metadata": {},
     "output_type": "execute_result"
    }
   ],
   "source": [
    "numbers = [1, 2, 3, 1, 1]\n",
    "numbers.count(100)"
   ]
  },
  {
   "cell_type": "markdown",
   "id": "9066023e",
   "metadata": {},
   "source": [
    "#### <span style=\"color:green\"> .sort( x ) </span>"
   ]
  },
  {
   "cell_type": "markdown",
   "id": "1a7c1be9",
   "metadata": {},
   "source": [
    "- 원본 리스트를 정렬함. None을 반환\n",
    "- sorted 함수와 비교할 것"
   ]
  },
  {
   "cell_type": "code",
   "execution_count": 62,
   "id": "5b4d3b61",
   "metadata": {},
   "outputs": [
    {
     "name": "stdout",
     "output_type": "stream",
     "text": [
      "[1, 2, 3, 5] None\n"
     ]
    }
   ],
   "source": [
    "numbers = [3, 2, 5, 1]\n",
    "result = numbers.sort()\n",
    "print(numbers, result)"
   ]
  },
  {
   "cell_type": "code",
   "execution_count": 63,
   "id": "9ad3ebd6",
   "metadata": {},
   "outputs": [
    {
     "name": "stdout",
     "output_type": "stream",
     "text": [
      "[3, 2, 5, 1] [1, 2, 3, 5]\n"
     ]
    }
   ],
   "source": [
    "numbers = [3, 2, 5, 1]\n",
    "result = sorted(numbers)\n",
    "print(numbers, result)"
   ]
  },
  {
   "cell_type": "markdown",
   "id": "32ab7921",
   "metadata": {},
   "source": [
    "#### <span style=\"color:green\"> .reverse( x ) </span>"
   ]
  },
  {
   "cell_type": "markdown",
   "id": "33d411b6",
   "metadata": {},
   "source": [
    "- 순서를 반대로 뒤집음(정렬하는 것이 아님)"
   ]
  },
  {
   "cell_type": "code",
   "execution_count": 65,
   "id": "029759b8",
   "metadata": {},
   "outputs": [
    {
     "name": "stdout",
     "output_type": "stream",
     "text": [
      "[1, 5, 2, 3] None\n"
     ]
    }
   ],
   "source": [
    "numbers = [3, 2, 5, 1]\n",
    "result = numbers.reverse()\n",
    "print(numbers, result)"
   ]
  },
  {
   "cell_type": "markdown",
   "id": "bc2b7a6a",
   "metadata": {},
   "source": [
    "#### 리스트 복사"
   ]
  },
  {
   "cell_type": "markdown",
   "id": "63450002",
   "metadata": {},
   "source": [
    "- 리스트 복사 확인하기"
   ]
  },
  {
   "cell_type": "code",
   "execution_count": 66,
   "id": "6249d891",
   "metadata": {},
   "outputs": [
    {
     "name": "stdout",
     "output_type": "stream",
     "text": [
      "[1, 2, 3] [1, 2, 3]\n"
     ]
    }
   ],
   "source": [
    "original_list = [1, 2, 3]\n",
    "copy_list = original_list\n",
    "print(original_list, copy_list)"
   ]
  },
  {
   "cell_type": "code",
   "execution_count": 68,
   "id": "62436371",
   "metadata": {},
   "outputs": [
    {
     "name": "stdout",
     "output_type": "stream",
     "text": [
      "['hello', 2, 3] ['hello', 2, 3]\n"
     ]
    }
   ],
   "source": [
    "copy_list[0] = 'hello'\n",
    "print(original_list, copy_list) # 리스트의 복사는 같은 리스트의 주소를 참조"
   ]
  },
  {
   "cell_type": "markdown",
   "id": "40026ec1",
   "metadata": {},
   "source": [
    "![](img/deepcopy.png)"
   ]
  },
  {
   "cell_type": "markdown",
   "id": "658bc6a6",
   "metadata": {},
   "source": [
    "#### 리스트 복사 - 얕은 복사(Shallow copy) 1"
   ]
  },
  {
   "cell_type": "markdown",
   "id": "9f942675",
   "metadata": {},
   "source": [
    "- slice 연산자를 활용하여 같은 원소를 가진 리스트지만 연산된 결과를 복사 (다른 주소)"
   ]
  },
  {
   "cell_type": "code",
   "execution_count": 69,
   "id": "fb41bdf0",
   "metadata": {},
   "outputs": [
    {
     "name": "stdout",
     "output_type": "stream",
     "text": [
      "[1, 2, 3] [5, 2, 3]\n"
     ]
    }
   ],
   "source": [
    "a = [1, 2, 3]\n",
    "b = a[:]\n",
    "b[0] = 5\n",
    "print(a, b)"
   ]
  },
  {
   "attachments": {},
   "cell_type": "markdown",
   "id": "1d7dd632",
   "metadata": {},
   "source": [
    "![](img/shallowcopy.png)"
   ]
  },
  {
   "cell_type": "markdown",
   "id": "15ea73cb",
   "metadata": {},
   "source": [
    "#### 리스트 복사 - 얕은 복사(Shallow copy) 2"
   ]
  },
  {
   "cell_type": "markdown",
   "id": "b6ef5686",
   "metadata": {},
   "source": [
    "- list( )를 활용하여 같은 원소를 가진 리스트지만 연산된 결과를 복사 (다른 주소)"
   ]
  },
  {
   "cell_type": "code",
   "execution_count": 70,
   "id": "405d79d6",
   "metadata": {},
   "outputs": [
    {
     "name": "stdout",
     "output_type": "stream",
     "text": [
      "[1, 2, 3] [1, 2, 3]\n",
      "[1, 2, 3] [5, 2, 3]\n"
     ]
    }
   ],
   "source": [
    "a = [1, 2, 3]\n",
    "b = list(a)\n",
    "print(a, b)\n",
    "b[0] = 5\n",
    "print(a, b)"
   ]
  },
  {
   "cell_type": "markdown",
   "id": "60643371",
   "metadata": {},
   "source": [
    "![](img/shallowcopy.png)"
   ]
  },
  {
   "cell_type": "markdown",
   "id": "afc9fed1",
   "metadata": {},
   "source": [
    "#### 리스트 복사 - 얕은 복사 주의사항"
   ]
  },
  {
   "cell_type": "code",
   "execution_count": 71,
   "id": "9c8a6141",
   "metadata": {},
   "outputs": [
    {
     "name": "stdout",
     "output_type": "stream",
     "text": [
      "[1, 2, ['a', 'b']] [1, 2, ['a', 'b']]\n",
      "[1, 2, [0, 'b']] [1, 2, [0, 'b']]\n"
     ]
    }
   ],
   "source": [
    "a = [1, 2, ['a', 'b']]\n",
    "b = a[:]\n",
    "print(a, b)\n",
    "b[2][0] = 0\n",
    "print(a, b)"
   ]
  },
  {
   "cell_type": "markdown",
   "id": "df489336",
   "metadata": {},
   "source": [
    "![](img/shallowcau.png)"
   ]
  },
  {
   "cell_type": "markdown",
   "id": "6d1b6b0d",
   "metadata": {},
   "source": [
    "#### 리스트 복사 - 깊은 복사(Deep copy)"
   ]
  },
  {
   "cell_type": "markdown",
   "id": "7a747a18",
   "metadata": {},
   "source": [
    "- 리스트 복사 확인하기"
   ]
  },
  {
   "cell_type": "code",
   "execution_count": 77,
   "id": "079c46fd",
   "metadata": {},
   "outputs": [
    {
     "name": "stdout",
     "output_type": "stream",
     "text": [
      "[1, 2, ['a', 'b']] [1, 2, ['a', 'b']]\n",
      "[1, 2, ['a', 'b']] [1, 2, [0, 'b']]\n"
     ]
    }
   ],
   "source": [
    "import copy\n",
    "\n",
    "a = [1, 2, ['a', 'b']]\n",
    "b = copy.deepcopy(a)\n",
    "print(a, b)\n",
    "b[2][0] = 0\n",
    "print(a, b)"
   ]
  },
  {
   "cell_type": "markdown",
   "id": "511f6333",
   "metadata": {},
   "source": [
    "![](img/deepcopy2.png)"
   ]
  },
  {
   "cell_type": "code",
   "execution_count": null,
   "id": "e69469fd",
   "metadata": {},
   "outputs": [],
   "source": []
  }
 ],
 "metadata": {
  "kernelspec": {
   "display_name": "Python 3 (ipykernel)",
   "language": "python",
   "name": "python3"
  },
  "language_info": {
   "codemirror_mode": {
    "name": "ipython",
    "version": 3
   },
   "file_extension": ".py",
   "mimetype": "text/x-python",
   "name": "python",
   "nbconvert_exporter": "python",
   "pygments_lexer": "ipython3",
   "version": "3.9.7"
  }
 },
 "nbformat": 4,
 "nbformat_minor": 5
}
