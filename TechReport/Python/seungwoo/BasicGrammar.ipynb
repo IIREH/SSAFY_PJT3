{
 "cells": [
  {
   "cell_type": "markdown",
   "id": "2f2995a4",
   "metadata": {},
   "source": [
    "# 기초 문법"
   ]
  },
  {
   "cell_type": "markdown",
   "id": "7b72fc9a",
   "metadata": {},
   "source": [
    "## 코드 스타일 가이드"
   ]
  },
  {
   "cell_type": "markdown",
   "id": "0bd3fdb3",
   "metadata": {},
   "source": [
    "- 코드를 '어떻게 작성할지'에 대한 가이드라인\n",
    " - PEP8 (https://peps.python.org/pep-0008/) - 파이썬에서 제안하는 스타일 가이드\n",
    " - Google Style Guide (https://google.github.io/styleguide/pyguide.html)등 기업, 오픈소스 등에서 사용되는 스타일 가이드"
   ]
  },
  {
   "cell_type": "markdown",
   "id": "e58bf485",
   "metadata": {},
   "source": [
    "### 주석(Comment)"
   ]
  },
  {
   "cell_type": "markdown",
   "id": "84f521dd",
   "metadata": {},
   "source": [
    "- 한 줄 주석은 #으로 표현한다.\n",
    "- 여러 줄의 주석은 한 줄씩 #을 사용하거나, \"\"\"또는 \"\"\"으로 표현한다.\n",
    "- 다만 \"\"\" 또는 \"\"\"으로 표현하는 방법은 docstring을 위해 사용한다."
   ]
  },
  {
   "cell_type": "code",
   "execution_count": 1,
   "id": "49da9bfb",
   "metadata": {},
   "outputs": [
    {
     "name": "stdout",
     "output_type": "stream",
     "text": [
      "world\n"
     ]
    }
   ],
   "source": [
    "# 이것은 주석(Comment) 입니다.\n",
    "\n",
    "# print('hello')\n",
    "print('world')"
   ]
  },
  {
   "cell_type": "code",
   "execution_count": 3,
   "id": "0e160472",
   "metadata": {},
   "outputs": [
    {
     "name": "stdout",
     "output_type": "stream",
     "text": [
      "world\n"
     ]
    }
   ],
   "source": [
    "\"\"\"\n",
    "multiline comment\n",
    "docstring을 위해 활용\n",
    "\"\"\"\n",
    "print('world')"
   ]
  },
  {
   "cell_type": "markdown",
   "id": "eac4f605",
   "metadata": {},
   "source": [
    "- 특수한 형태의 주석 - docstring\n",
    " - 함수/클래스의 설명을 작성"
   ]
  },
  {
   "cell_type": "code",
   "execution_count": 6,
   "id": "06a441ad",
   "metadata": {},
   "outputs": [],
   "source": [
    "def foo():\n",
    "    \"\"\"이 함수는 foo입니다.\n",
    "    docstring으로 함수나 클래스의 기능을 설명합니다.\"\"\""
   ]
  },
  {
   "cell_type": "code",
   "execution_count": 7,
   "id": "ec9d471e",
   "metadata": {},
   "outputs": [
    {
     "data": {
      "text/plain": [
       "'이 함수는 foo입니다.\\n    docstring으로 함수나 클래스의 기능을 설명합니다.'"
      ]
     },
     "execution_count": 7,
     "metadata": {},
     "output_type": "execute_result"
    }
   ],
   "source": [
    "foo.__doc__"
   ]
  },
  {
   "cell_type": "code",
   "execution_count": 8,
   "id": "8dab358a",
   "metadata": {},
   "outputs": [
    {
     "data": {
      "text/plain": [
       "<function __main__.foo()>"
      ]
     },
     "execution_count": 8,
     "metadata": {},
     "output_type": "execute_result"
    }
   ],
   "source": [
    "foo"
   ]
  },
  {
   "cell_type": "markdown",
   "id": "5e5de55d",
   "metadata": {},
   "source": [
    "- 코드는 1줄에 1문장(statement)이 원칙\n",
    "- 문장(statement)은 파이썬이 실행 가능(excutable)한 최소한의 코드 단위\n",
    " - 기본적으로 파이썬에서는 세미콜론(;)을 작성하지 않음\n",
    " - 한 줄로 표기할 때는 세미콜론(;)를 작성하여 표기할 수 있음"
   ]
  },
  {
   "cell_type": "code",
   "execution_count": 9,
   "id": "8b5c3518",
   "metadata": {},
   "outputs": [
    {
     "name": "stdout",
     "output_type": "stream",
     "text": [
      "hello\n",
      "world\n"
     ]
    }
   ],
   "source": [
    "print('hello')\n",
    "print('world')"
   ]
  },
  {
   "cell_type": "code",
   "execution_count": 10,
   "id": "6e159892",
   "metadata": {},
   "outputs": [
    {
     "ename": "SyntaxError",
     "evalue": "invalid syntax (Temp/ipykernel_2464/3663863333.py, line 1)",
     "output_type": "error",
     "traceback": [
      "\u001b[1;36m  File \u001b[1;32m\"C:\\Users\\MULTIC~1\\AppData\\Local\\Temp/ipykernel_2464/3663863333.py\"\u001b[1;36m, line \u001b[1;32m1\u001b[0m\n\u001b[1;33m    print('hello')print('world')\u001b[0m\n\u001b[1;37m                  ^\u001b[0m\n\u001b[1;31mSyntaxError\u001b[0m\u001b[1;31m:\u001b[0m invalid syntax\n"
     ]
    }
   ],
   "source": [
    "print('hello')print('world')"
   ]
  },
  {
   "cell_type": "code",
   "execution_count": 12,
   "id": "ef207cc0",
   "metadata": {},
   "outputs": [
    {
     "name": "stdout",
     "output_type": "stream",
     "text": [
      "hello\n",
      "world\n"
     ]
    }
   ],
   "source": [
    "# 굳이 이런 식으로 사용되지는 않는다\n",
    "print('hello');print('world')"
   ]
  },
  {
   "cell_type": "markdown",
   "id": "79a6b787",
   "metadata": {},
   "source": [
    "  "
   ]
  },
  {
   "cell_type": "markdown",
   "id": "ab89f61c",
   "metadata": {},
   "source": [
    "## 데이터 타입"
   ]
  },
  {
   "cell_type": "markdown",
   "id": "28ffdca9",
   "metadata": {},
   "source": [
    "### 변수"
   ]
  },
  {
   "cell_type": "markdown",
   "id": "a6ee0602",
   "metadata": {},
   "source": [
    "- 숫자(Number)\n",
    " - int (정수, integer)\n",
    " - float (부동소수점, 실수, floating point number)\n",
    " - complex (복소수, complex number)    \n",
    "<br><br>\n",
    "- 문자열 (String)  \n",
    "<br><br>\n",
    "- 참/거짓 (Boolean)\n",
    "<br><br>\n",
    "- None"
   ]
  },
  {
   "cell_type": "markdown",
   "id": "bd56e0c7",
   "metadata": {},
   "source": [
    "### 숫자 - int"
   ]
  },
  {
   "cell_type": "markdown",
   "id": "2267e41c",
   "metadata": {},
   "source": [
    "- 모든 정수의 타입은 int\n",
    " - Python3 부터는 long 타입은 없고, 모두 int로 표기 됨\n",
    " - 여타 프로그래밍 언어, Python 2에서의 long은 OS기준 32/64비트\n",
    "<br><br>\n",
    "- 매우 큰 수를 나타낼 때 오버플로가 발생하지 않음\n",
    " - 오버플로(overflow) : 데이터 타입별로 사용할 수 있는 메모리의 크기를 넘어서는 상황\n",
    " - Arbitrary precision arithmetic(임의 정밀도 산술)을 통해  \n",
    "   고정된 형태의 메모리가 아닌 가용 메모리들을 활용하여 모든 수 표현에 활용"
   ]
  },
  {
   "cell_type": "code",
   "execution_count": 14,
   "id": "a011238c",
   "metadata": {},
   "outputs": [
    {
     "data": {
      "text/plain": [
       "9223372036854775807"
      ]
     },
     "execution_count": 14,
     "metadata": {},
     "output_type": "execute_result"
    }
   ],
   "source": [
    "import sys\n",
    "sys.maxsize"
   ]
  },
  {
   "cell_type": "code",
   "execution_count": 16,
   "id": "ed1d5a77",
   "metadata": {},
   "outputs": [
    {
     "data": {
      "text/plain": [
       "9223372036854775807"
      ]
     },
     "execution_count": 16,
     "metadata": {},
     "output_type": "execute_result"
    }
   ],
   "source": [
    "2 ** 63 - 1"
   ]
  },
  {
   "cell_type": "code",
   "execution_count": 17,
   "id": "3bde3daa",
   "metadata": {},
   "outputs": [
    {
     "data": {
      "text/plain": [
       "4455508415646675013373597242420117818453694838130159772560668808816707086990958982033203334310070688731662890013605553436739351074980172000127431349940128178077122187317837794167991459381249"
      ]
     },
     "execution_count": 17,
     "metadata": {},
     "output_type": "execute_result"
    }
   ],
   "source": [
    "sys.maxsize ** 10"
   ]
  },
  {
   "cell_type": "code",
   "execution_count": 18,
   "id": "027b0e56",
   "metadata": {},
   "outputs": [
    {
     "name": "stdout",
     "output_type": "stream",
     "text": [
      "<class 'int'>\n"
     ]
    }
   ],
   "source": [
    "print(type(sys.maxsize ** 10))"
   ]
  },
  {
   "cell_type": "markdown",
   "id": "f847c04b",
   "metadata": {},
   "source": [
    "- 진수 표현\n",
    " - 2진수 : 0b\n",
    " - 8진수 : 0o\n",
    " - 16진수 : 0x "
   ]
  },
  {
   "cell_type": "code",
   "execution_count": 19,
   "id": "df37917b",
   "metadata": {},
   "outputs": [
    {
     "data": {
      "text/plain": [
       "2"
      ]
     },
     "execution_count": 19,
     "metadata": {},
     "output_type": "execute_result"
    }
   ],
   "source": [
    "0b10"
   ]
  },
  {
   "cell_type": "code",
   "execution_count": 20,
   "id": "d7dcd176",
   "metadata": {},
   "outputs": [
    {
     "data": {
      "text/plain": [
       "24"
      ]
     },
     "execution_count": 20,
     "metadata": {},
     "output_type": "execute_result"
    }
   ],
   "source": [
    "0o30"
   ]
  },
  {
   "cell_type": "code",
   "execution_count": 21,
   "id": "aa11986e",
   "metadata": {},
   "outputs": [
    {
     "data": {
      "text/plain": [
       "16"
      ]
     },
     "execution_count": 21,
     "metadata": {},
     "output_type": "execute_result"
    }
   ],
   "source": [
    "0x10"
   ]
  },
  {
   "cell_type": "markdown",
   "id": "c59adc3b",
   "metadata": {},
   "source": [
    "### 숫자 - float"
   ]
  },
  {
   "cell_type": "markdown",
   "id": "19cd21b0",
   "metadata": {},
   "source": [
    "- 정수가 아닌 모든 실수는 float 타입\n",
    "- 부동소수점\n",
    " - 실수를 컴퓨터가 표현하는 방법 - 2진수(비트)로 숫자를 표현\n",
    " - 이 과정에서 floating point rounding error가 발행하여, 예상치 못한 결과가 발생"
   ]
  },
  {
   "cell_type": "code",
   "execution_count": 22,
   "id": "a0263197",
   "metadata": {},
   "outputs": [
    {
     "data": {
      "text/plain": [
       "5.5"
      ]
     },
     "execution_count": 22,
     "metadata": {},
     "output_type": "execute_result"
    }
   ],
   "source": [
    "11 / 2"
   ]
  },
  {
   "cell_type": "code",
   "execution_count": 23,
   "id": "b423f51c",
   "metadata": {},
   "outputs": [
    {
     "name": "stdout",
     "output_type": "stream",
     "text": [
      "<class 'float'>\n"
     ]
    }
   ],
   "source": [
    "print(type(10/3))"
   ]
  },
  {
   "cell_type": "code",
   "execution_count": 24,
   "id": "4defd39c",
   "metadata": {},
   "outputs": [
    {
     "data": {
      "text/plain": [
       "3.333333333333333e+99"
      ]
     },
     "execution_count": 24,
     "metadata": {},
     "output_type": "execute_result"
    }
   ],
   "source": [
    "10 ** 100 / 3"
   ]
  },
  {
   "cell_type": "code",
   "execution_count": 25,
   "id": "10448dfd",
   "metadata": {},
   "outputs": [
    {
     "data": {
      "text/plain": [
       "-1e-100"
      ]
     },
     "execution_count": 25,
     "metadata": {},
     "output_type": "execute_result"
    }
   ],
   "source": [
    "1 / -10 ** 100"
   ]
  },
  {
   "cell_type": "code",
   "execution_count": 26,
   "id": "f59430ed",
   "metadata": {},
   "outputs": [
    {
     "data": {
      "text/plain": [
       "0.1"
      ]
     },
     "execution_count": 26,
     "metadata": {},
     "output_type": "execute_result"
    }
   ],
   "source": [
    "1e-1"
   ]
  },
  {
   "cell_type": "code",
   "execution_count": 27,
   "id": "2653efab",
   "metadata": {},
   "outputs": [
    {
     "name": "stdout",
     "output_type": "stream",
     "text": [
      "<class 'float'>\n"
     ]
    }
   ],
   "source": [
    "print(type(1e-1))"
   ]
  },
  {
   "cell_type": "markdown",
   "id": "7b5b42b7",
   "metadata": {},
   "source": [
    "#### Floating point rounding error"
   ]
  },
  {
   "cell_type": "markdown",
   "id": "1147a62a",
   "metadata": {},
   "source": [
    "- 부동소수점에서 실수 연산 과정에서 발생 가능\n",
    " - 값 비교하는 과정에서 정수가 아닌 실수인 경우 주의할 것\n",
    " - 매우 작은 수보다 작은지를 확인하거나 math 모듈 활용"
   ]
  },
  {
   "cell_type": "code",
   "execution_count": 29,
   "id": "f21ccc51",
   "metadata": {},
   "outputs": [
    {
     "data": {
      "text/plain": [
       "False"
      ]
     },
     "execution_count": 29,
     "metadata": {},
     "output_type": "execute_result"
    }
   ],
   "source": [
    "# 왼쪽의 계산 결과와 오른쪽 값은 같은 값일까요?\n",
    "3.14 - 3.02 == 0.12"
   ]
  },
  {
   "cell_type": "code",
   "execution_count": 30,
   "id": "6e954949",
   "metadata": {},
   "outputs": [
    {
     "data": {
      "text/plain": [
       "0.1200000000000001"
      ]
     },
     "execution_count": 30,
     "metadata": {},
     "output_type": "execute_result"
    }
   ],
   "source": [
    "3.14 - 3.02"
   ]
  },
  {
   "cell_type": "code",
   "execution_count": null,
   "id": "be2fe269",
   "metadata": {},
   "outputs": [],
   "source": [
    "a = 3.14\n",
    "b = 3.14"
   ]
  },
  {
   "cell_type": "code",
   "execution_count": 48,
   "id": "65d40056",
   "metadata": {},
   "outputs": [
    {
     "data": {
      "text/plain": [
       "True"
      ]
     },
     "execution_count": 48,
     "metadata": {},
     "output_type": "execute_result"
    }
   ],
   "source": [
    "# 1. 임의의 작은 수\n",
    "abs(a -b) <= 1e-10"
   ]
  },
  {
   "cell_type": "code",
   "execution_count": 49,
   "id": "26c52f87",
   "metadata": {},
   "outputs": [
    {
     "name": "stdout",
     "output_type": "stream",
     "text": [
      "True\n",
      "2.220446049250313e-16\n"
     ]
    }
   ],
   "source": [
    "# 2. system상의 machine epslion\n",
    "import sys\n",
    "print(abs(a-b) <= sys.float_info.epsilon)\n",
    "print(sys.float_info.epsilon)"
   ]
  },
  {
   "cell_type": "code",
   "execution_count": 50,
   "id": "f51ad3d0",
   "metadata": {},
   "outputs": [
    {
     "data": {
      "text/plain": [
       "True"
      ]
     },
     "execution_count": 50,
     "metadata": {},
     "output_type": "execute_result"
    }
   ],
   "source": [
    "# 3. Python 3.5 이상\n",
    "import math\n",
    "math.isclose(a, b)"
   ]
  },
  {
   "cell_type": "markdown",
   "id": "5def4a35",
   "metadata": {},
   "source": [
    "### 숫자 - complex"
   ]
  },
  {
   "cell_type": "markdown",
   "id": "ae8bcf73",
   "metadata": {},
   "source": [
    "- 실수부와 허수부로 구성된 복소수는 모두 complex 타입\n",
    " - 허수부를 j로 표현"
   ]
  },
  {
   "cell_type": "code",
   "execution_count": 52,
   "id": "f895fd00",
   "metadata": {},
   "outputs": [],
   "source": [
    "a = 3 + 4j"
   ]
  },
  {
   "cell_type": "code",
   "execution_count": 53,
   "id": "952669d2",
   "metadata": {},
   "outputs": [
    {
     "name": "stdout",
     "output_type": "stream",
     "text": [
      "<class 'complex'>\n"
     ]
    }
   ],
   "source": [
    "print(type(a))"
   ]
  },
  {
   "cell_type": "code",
   "execution_count": 54,
   "id": "8fe963c2",
   "metadata": {},
   "outputs": [
    {
     "data": {
      "text/plain": [
       "3.0"
      ]
     },
     "execution_count": 54,
     "metadata": {},
     "output_type": "execute_result"
    }
   ],
   "source": [
    "a.real"
   ]
  },
  {
   "cell_type": "code",
   "execution_count": 55,
   "id": "13510a53",
   "metadata": {},
   "outputs": [
    {
     "data": {
      "text/plain": [
       "4.0"
      ]
     },
     "execution_count": 55,
     "metadata": {},
     "output_type": "execute_result"
    }
   ],
   "source": [
    "a.imag"
   ]
  },
  {
   "cell_type": "markdown",
   "id": "80c1e499",
   "metadata": {},
   "source": [
    "### 문자열(String)"
   ]
  },
  {
   "cell_type": "markdown",
   "id": "f0506745",
   "metadata": {},
   "source": [
    "- 모든 문자는 str 타입\n",
    "- 문자열은 작은 따옴표('')나 큰 따옴표(\"\")를 활용하여 표기\n",
    " - 문자열을 묶을 때 동일한 문장부호를 활용\n",
    " - PEP8에서는 소스코드 내에서 하나의 문장부호를 선택하여 유지하도록 함"
   ]
  },
  {
   "cell_type": "code",
   "execution_count": 56,
   "id": "c1ac9142",
   "metadata": {},
   "outputs": [
    {
     "name": "stdout",
     "output_type": "stream",
     "text": [
      "hello\n"
     ]
    }
   ],
   "source": [
    "print('hello')"
   ]
  },
  {
   "cell_type": "code",
   "execution_count": 57,
   "id": "5b5d5765",
   "metadata": {},
   "outputs": [
    {
     "name": "stdout",
     "output_type": "stream",
     "text": [
      "<class 'str'>\n"
     ]
    }
   ],
   "source": [
    "print(type('hello'))"
   ]
  },
  {
   "cell_type": "code",
   "execution_count": 58,
   "id": "00cb5b02",
   "metadata": {},
   "outputs": [
    {
     "name": "stdout",
     "output_type": "stream",
     "text": [
      "철수 \"안녕\" \n"
     ]
    }
   ],
   "source": [
    "print('철수 \"안녕\" ')"
   ]
  },
  {
   "cell_type": "code",
   "execution_count": 59,
   "id": "ffa3a838",
   "metadata": {},
   "outputs": [
    {
     "name": "stdout",
     "output_type": "stream",
     "text": [
      "철수 '안녕' \n"
     ]
    }
   ],
   "source": [
    "print(\"철수 '안녕' \")"
   ]
  },
  {
   "cell_type": "markdown",
   "id": "0ec8f7da",
   "metadata": {},
   "source": [
    "####  이스케이프 스퀀스(escape sequence)"
   ]
  },
  {
   "cell_type": "markdown",
   "id": "f53aaafe",
   "metadata": {},
   "source": [
    "- 문자열 내에서 특정 문자나 조작을 위해서 역슬래시(\\)를 활용하여 구분"
   ]
  },
  {
   "cell_type": "markdown",
   "id": "18526e03",
   "metadata": {},
   "source": [
    "![](img/escape.png)"
   ]
  },
  {
   "cell_type": "code",
   "execution_count": 61,
   "id": "7b64761b",
   "metadata": {},
   "outputs": [
    {
     "name": "stdout",
     "output_type": "stream",
     "text": [
      "철수 '안녕'\n"
     ]
    }
   ],
   "source": [
    "print('철수 \\'안녕\\'')"
   ]
  },
  {
   "cell_type": "code",
   "execution_count": 63,
   "id": "7db51b61",
   "metadata": {},
   "outputs": [
    {
     "name": "stdout",
     "output_type": "stream",
     "text": [
      "이 다음은 엔터.\n",
      "그리고 탭\t탭\n"
     ]
    }
   ],
   "source": [
    "print('이 다음은 엔터.\\n그리고 탭\\t탭')"
   ]
  },
  {
   "cell_type": "markdown",
   "id": "3b8b71bf",
   "metadata": {},
   "source": [
    "#### String Interpolation"
   ]
  },
  {
   "cell_type": "markdown",
   "id": "d680d746",
   "metadata": {},
   "source": [
    "- 변수의 값을 문자열의 자리 표시자(placeholder)로 대체하는 방법(과정)\n",
    " - % - formatting\n",
    " - str.format()\n",
    " - f - strings(python3.6+)"
   ]
  },
  {
   "cell_type": "code",
   "execution_count": 64,
   "id": "a6731f1f",
   "metadata": {},
   "outputs": [],
   "source": [
    "name = 'Kim'\n",
    "score = 4.5"
   ]
  },
  {
   "cell_type": "code",
   "execution_count": 66,
   "id": "2606b817",
   "metadata": {},
   "outputs": [
    {
     "name": "stdout",
     "output_type": "stream",
     "text": [
      "Hello, Kim\n",
      "내 성적은 4\n",
      "내 성적은 4.500000\n"
     ]
    }
   ],
   "source": [
    "print('Hello, %s' % name)\n",
    "print('내 성적은 %d' % score)\n",
    "print('내 성적은 %f' % score)"
   ]
  },
  {
   "cell_type": "code",
   "execution_count": 68,
   "id": "221af093",
   "metadata": {},
   "outputs": [
    {
     "name": "stdout",
     "output_type": "stream",
     "text": [
      "Hello, Kim! 성적은 4.5\n"
     ]
    }
   ],
   "source": [
    "print('Hello, {}! 성적은 {}'.format(name, score))"
   ]
  },
  {
   "cell_type": "code",
   "execution_count": 69,
   "id": "69d7bcda",
   "metadata": {},
   "outputs": [
    {
     "name": "stdout",
     "output_type": "stream",
     "text": [
      "Hello, Kim! 성적은 4.5\n"
     ]
    }
   ],
   "source": [
    "print(f'Hello, {name}! 성적은 {score}')"
   ]
  },
  {
   "cell_type": "markdown",
   "id": "e11cf1a2",
   "metadata": {},
   "source": [
    "#### f - string 사용 예"
   ]
  },
  {
   "cell_type": "code",
   "execution_count": 71,
   "id": "69a520ef",
   "metadata": {},
   "outputs": [
    {
     "name": "stdout",
     "output_type": "stream",
     "text": [
      "2022-04-13 15:32:31.289879\n"
     ]
    }
   ],
   "source": [
    "import datetime\n",
    "today = datetime.datetime.now()\n",
    "print(today)"
   ]
  },
  {
   "cell_type": "code",
   "execution_count": 72,
   "id": "9bd30525",
   "metadata": {},
   "outputs": [
    {
     "data": {
      "text/plain": [
       "'오늘은  22년  04월  13일'"
      ]
     },
     "execution_count": 72,
     "metadata": {},
     "output_type": "execute_result"
    }
   ],
   "source": [
    "f'오늘은 {today: %y}년 {today: %m}월 {today : %d}일'"
   ]
  },
  {
   "cell_type": "code",
   "execution_count": 75,
   "id": "569d17c6",
   "metadata": {},
   "outputs": [
    {
     "data": {
      "text/plain": [
       "'원주율은  3.14. 반지름이 2일때 원의 넓이는 12.566368'"
      ]
     },
     "execution_count": 75,
     "metadata": {},
     "output_type": "execute_result"
    }
   ],
   "source": [
    "pi = 3.141592\n",
    "f'원주율은 {pi : .3}. 반지름이 2일때 원의 넓이는 {pi * 2 * 2}'"
   ]
  },
  {
   "cell_type": "markdown",
   "id": "8bd30c88",
   "metadata": {},
   "source": [
    "### 참 / 거짓 Boolean"
   ]
  },
  {
   "cell_type": "markdown",
   "id": "4e9f7162",
   "metadata": {},
   "source": [
    "- True / False 값을 가진 타입은 bool\n",
    "- 비교 / 논리 연산을 수행함에 있어서 활용됨\n",
    "- 다음은 모두 False로 변환\n",
    " - 0, 0.0, ( ), [ ], { }, ' ', None"
   ]
  },
  {
   "cell_type": "markdown",
   "id": "46e8fdb9",
   "metadata": {},
   "source": [
    "### None"
   ]
  },
  {
   "cell_type": "markdown",
   "id": "819762af",
   "metadata": {},
   "source": [
    "- 값이 없음을 표현하기 위한 타입인 None Type"
   ]
  },
  {
   "cell_type": "code",
   "execution_count": 76,
   "id": "67d40fe8",
   "metadata": {},
   "outputs": [
    {
     "name": "stdout",
     "output_type": "stream",
     "text": [
      "<class 'NoneType'>\n"
     ]
    }
   ],
   "source": [
    "print(type(None))"
   ]
  },
  {
   "cell_type": "code",
   "execution_count": 77,
   "id": "4ecf57a2",
   "metadata": {},
   "outputs": [
    {
     "name": "stdout",
     "output_type": "stream",
     "text": [
      "None\n"
     ]
    }
   ],
   "source": [
    "a = None\n",
    "print(a)"
   ]
  },
  {
   "cell_type": "markdown",
   "id": "ce95537d",
   "metadata": {},
   "source": [
    "  "
   ]
  },
  {
   "cell_type": "markdown",
   "id": "ec519c2f",
   "metadata": {},
   "source": [
    "## 타입 변환"
   ]
  },
  {
   "cell_type": "markdown",
   "id": "6472e2f4",
   "metadata": {},
   "source": [
    "### 자료형 반환 / 타입 변환(Type conversion, Typecasting)"
   ]
  },
  {
   "cell_type": "markdown",
   "id": "14c4065b",
   "metadata": {},
   "source": [
    "- 파이썬에서 데이터 타입은 서로 변환할 수 있음\n",
    "<br><br>\n",
    " - 암시적 타입 변환(Implicit)\n",
    "   - 사용자가 의도하지 않고, 파이썬 내부적으로 타입 변환하는 경우\n",
    "   <br><br>\n",
    " - 명시적 타입 변환(Explicit)\n",
    "   - 사용자가 특정 함수를 활용하여 의도적으로 타입 변환하는 경우"
   ]
  },
  {
   "cell_type": "markdown",
   "id": "d52f9329",
   "metadata": {},
   "source": [
    "### 암시적 타입 변환"
   ]
  },
  {
   "cell_type": "markdown",
   "id": "23e58a3b",
   "metadata": {},
   "source": [
    "- 사용자가 의도하지 않고, 파이썬 내부적으로 타입 변환하는 경우\n",
    " - bool\n",
    " - Numbers(int, float, complex)"
   ]
  },
  {
   "cell_type": "code",
   "execution_count": 78,
   "id": "7f8e1bfc",
   "metadata": {},
   "outputs": [
    {
     "data": {
      "text/plain": [
       "4"
      ]
     },
     "execution_count": 78,
     "metadata": {},
     "output_type": "execute_result"
    }
   ],
   "source": [
    "True + 3"
   ]
  },
  {
   "cell_type": "code",
   "execution_count": 79,
   "id": "c1a0ca47",
   "metadata": {},
   "outputs": [
    {
     "data": {
      "text/plain": [
       "8.0"
      ]
     },
     "execution_count": 79,
     "metadata": {},
     "output_type": "execute_result"
    }
   ],
   "source": [
    "3 + 5.0"
   ]
  },
  {
   "cell_type": "code",
   "execution_count": 80,
   "id": "80c40ef2",
   "metadata": {
    "scrolled": true
   },
   "outputs": [
    {
     "data": {
      "text/plain": [
       "(8+4j)"
      ]
     },
     "execution_count": 80,
     "metadata": {},
     "output_type": "execute_result"
    }
   ],
   "source": [
    "3 + 4j + 5"
   ]
  },
  {
   "cell_type": "markdown",
   "id": "27e0449f",
   "metadata": {},
   "source": [
    "### 명시적 타입 변환"
   ]
  },
  {
   "cell_type": "markdown",
   "id": "abbb4020",
   "metadata": {},
   "source": [
    "- int\n",
    " - str*, float => int\n",
    " \n",
    "- float\n",
    " - str*, int => float\n",
    "- str\n",
    " - int, float, list, tuple, dict => str\n",
    " \n",
    "<br>\n",
    "* 형식(타입)에 맞는 문자열만 가능"
   ]
  },
  {
   "cell_type": "code",
   "execution_count": 81,
   "id": "ffc67a21",
   "metadata": {},
   "outputs": [
    {
     "ename": "TypeError",
     "evalue": "can only concatenate str (not \"int\") to str",
     "output_type": "error",
     "traceback": [
      "\u001b[1;31m---------------------------------------------------------------------------\u001b[0m",
      "\u001b[1;31mTypeError\u001b[0m                                 Traceback (most recent call last)",
      "\u001b[1;32mC:\\Users\\MULTIC~1\\AppData\\Local\\Temp/ipykernel_2464/2485391616.py\u001b[0m in \u001b[0;36m<module>\u001b[1;34m\u001b[0m\n\u001b[0;32m      1\u001b[0m \u001b[1;31m# 문자열은 암시적 타입 변환이 되지 않음\u001b[0m\u001b[1;33m\u001b[0m\u001b[1;33m\u001b[0m\u001b[0m\n\u001b[1;32m----> 2\u001b[1;33m \u001b[1;34m'3'\u001b[0m \u001b[1;33m+\u001b[0m \u001b[1;36m4\u001b[0m\u001b[1;33m\u001b[0m\u001b[1;33m\u001b[0m\u001b[0m\n\u001b[0m",
      "\u001b[1;31mTypeError\u001b[0m: can only concatenate str (not \"int\") to str"
     ]
    }
   ],
   "source": [
    "# 문자열은 암시적 타입 변환이 되지 않음\n",
    "'3' + 4"
   ]
  },
  {
   "cell_type": "code",
   "execution_count": 82,
   "id": "343221f9",
   "metadata": {},
   "outputs": [
    {
     "data": {
      "text/plain": [
       "7"
      ]
     },
     "execution_count": 82,
     "metadata": {},
     "output_type": "execute_result"
    }
   ],
   "source": [
    "# 명시적 타입 변환이 필요함\n",
    "int('3') + 4"
   ]
  },
  {
   "cell_type": "code",
   "execution_count": 83,
   "id": "900d4025",
   "metadata": {},
   "outputs": [
    {
     "ename": "ValueError",
     "evalue": "invalid literal for int() with base 10: '3.5'",
     "output_type": "error",
     "traceback": [
      "\u001b[1;31m---------------------------------------------------------------------------\u001b[0m",
      "\u001b[1;31mValueError\u001b[0m                                Traceback (most recent call last)",
      "\u001b[1;32mC:\\Users\\MULTIC~1\\AppData\\Local\\Temp/ipykernel_2464/1212154375.py\u001b[0m in \u001b[0;36m<module>\u001b[1;34m\u001b[0m\n\u001b[0;32m      1\u001b[0m \u001b[1;31m# 정수 형식이 아닌 경우 타입 변환할 수 없음\u001b[0m\u001b[1;33m\u001b[0m\u001b[1;33m\u001b[0m\u001b[0m\n\u001b[1;32m----> 2\u001b[1;33m \u001b[0mint\u001b[0m\u001b[1;33m(\u001b[0m\u001b[1;34m'3.5'\u001b[0m\u001b[1;33m)\u001b[0m \u001b[1;33m+\u001b[0m \u001b[1;36m5\u001b[0m\u001b[1;33m\u001b[0m\u001b[1;33m\u001b[0m\u001b[0m\n\u001b[0m",
      "\u001b[1;31mValueError\u001b[0m: invalid literal for int() with base 10: '3.5'"
     ]
    }
   ],
   "source": [
    "# 정수 형식이 아닌 경우 타입 변환할 수 없음\n",
    "int('3.5') + 5"
   ]
  },
  {
   "cell_type": "code",
   "execution_count": 84,
   "id": "8beb383e",
   "metadata": {},
   "outputs": [
    {
     "ename": "TypeError",
     "evalue": "can only concatenate str (not \"float\") to str",
     "output_type": "error",
     "traceback": [
      "\u001b[1;31m---------------------------------------------------------------------------\u001b[0m",
      "\u001b[1;31mTypeError\u001b[0m                                 Traceback (most recent call last)",
      "\u001b[1;32mC:\\Users\\MULTIC~1\\AppData\\Local\\Temp/ipykernel_2464/881585987.py\u001b[0m in \u001b[0;36m<module>\u001b[1;34m\u001b[0m\n\u001b[0;32m      1\u001b[0m \u001b[1;31m# 문자열은 암시적 타입 변환이 되지 않음\u001b[0m\u001b[1;33m\u001b[0m\u001b[1;33m\u001b[0m\u001b[0m\n\u001b[1;32m----> 2\u001b[1;33m \u001b[1;34m'3.5'\u001b[0m \u001b[1;33m+\u001b[0m \u001b[1;36m3.5\u001b[0m\u001b[1;33m\u001b[0m\u001b[1;33m\u001b[0m\u001b[0m\n\u001b[0m",
      "\u001b[1;31mTypeError\u001b[0m: can only concatenate str (not \"float\") to str"
     ]
    }
   ],
   "source": [
    "# 문자열은 암시적 타입 변환이 되지 않음\n",
    "'3.5' + 3.5"
   ]
  },
  {
   "cell_type": "code",
   "execution_count": 85,
   "id": "039778ec",
   "metadata": {},
   "outputs": [
    {
     "data": {
      "text/plain": [
       "3.0"
      ]
     },
     "execution_count": 85,
     "metadata": {},
     "output_type": "execute_result"
    }
   ],
   "source": [
    "# 정수 형식인 경우에도 float로 타입 변환\n",
    "float('3')"
   ]
  },
  {
   "cell_type": "code",
   "execution_count": 86,
   "id": "359a2055",
   "metadata": {},
   "outputs": [
    {
     "ename": "ValueError",
     "evalue": "could not convert string to float: '3/4'",
     "output_type": "error",
     "traceback": [
      "\u001b[1;31m---------------------------------------------------------------------------\u001b[0m",
      "\u001b[1;31mValueError\u001b[0m                                Traceback (most recent call last)",
      "\u001b[1;32mC:\\Users\\MULTIC~1\\AppData\\Local\\Temp/ipykernel_2464/2238541927.py\u001b[0m in \u001b[0;36m<module>\u001b[1;34m\u001b[0m\n\u001b[0;32m      1\u001b[0m \u001b[1;31m# float 형식이 아닌 경우 타입 변환할 수 없음\u001b[0m\u001b[1;33m\u001b[0m\u001b[1;33m\u001b[0m\u001b[0m\n\u001b[1;32m----> 2\u001b[1;33m \u001b[0mfloat\u001b[0m\u001b[1;33m(\u001b[0m\u001b[1;34m'3/4'\u001b[0m\u001b[1;33m)\u001b[0m \u001b[1;33m+\u001b[0m \u001b[1;36m5.3\u001b[0m\u001b[1;33m\u001b[0m\u001b[1;33m\u001b[0m\u001b[0m\n\u001b[0m",
      "\u001b[1;31mValueError\u001b[0m: could not convert string to float: '3/4'"
     ]
    }
   ],
   "source": [
    "# float 형식이 아닌 경우 타입 변환할 수 없음\n",
    "float('3/4') + 5.3"
   ]
  },
  {
   "cell_type": "markdown",
   "id": "3abeb250",
   "metadata": {},
   "source": [
    "  "
   ]
  },
  {
   "cell_type": "markdown",
   "id": "bec7a538",
   "metadata": {},
   "source": [
    "## 변수와 식별자"
   ]
  },
  {
   "cell_type": "markdown",
   "id": "8d5ffdf5",
   "metadata": {},
   "source": [
    "> =로 저장하고, 식별자 규칙에 의해 이름을 짓는다"
   ]
  },
  {
   "cell_type": "markdown",
   "id": "7ada6199",
   "metadata": {},
   "source": [
    "### 변수"
   ]
  },
  {
   "cell_type": "markdown",
   "id": "40d1e644",
   "metadata": {},
   "source": [
    "- 변수는 할당 연산자(=)를 통해 값을 할당(assignment)\n",
    "<br><br>\n",
    "- type( )\n",
    " - 변수에 할당된 값의 타입 확인\n",
    "<br><br>\n",
    "- id( )\n",
    " - 변수에 할당된 값(객체)의 고유한 아이덴티티(identity)값이며, 메모리 주소를 확인"
   ]
  },
  {
   "cell_type": "code",
   "execution_count": 88,
   "id": "f355d362",
   "metadata": {},
   "outputs": [],
   "source": [
    "x = 'Hello'"
   ]
  },
  {
   "cell_type": "code",
   "execution_count": 89,
   "id": "31c2d0a8",
   "metadata": {},
   "outputs": [
    {
     "data": {
      "text/plain": [
       "str"
      ]
     },
     "execution_count": 89,
     "metadata": {},
     "output_type": "execute_result"
    }
   ],
   "source": [
    "type(x)"
   ]
  },
  {
   "cell_type": "code",
   "execution_count": 90,
   "id": "96644606",
   "metadata": {},
   "outputs": [
    {
     "data": {
      "text/plain": [
       "1565840269872"
      ]
     },
     "execution_count": 90,
     "metadata": {},
     "output_type": "execute_result"
    }
   ],
   "source": [
    "id(x)"
   ]
  },
  {
   "cell_type": "markdown",
   "id": "105cf11f",
   "metadata": {},
   "source": [
    "### 할당 연산자(=)"
   ]
  },
  {
   "cell_type": "markdown",
   "id": "51237f59",
   "metadata": {},
   "source": [
    "- 같은 값을 동시에 할당할 수 있음"
   ]
  },
  {
   "cell_type": "code",
   "execution_count": 92,
   "id": "06845ba9",
   "metadata": {},
   "outputs": [
    {
     "name": "stdout",
     "output_type": "stream",
     "text": [
      "1004 1004\n"
     ]
    }
   ],
   "source": [
    "x = y = 1004\n",
    "print(x, y)"
   ]
  },
  {
   "cell_type": "markdown",
   "id": "0e200ec3",
   "metadata": {},
   "source": [
    "- 다른 값을 동시에 할당할 수 있음(multiple assignment)"
   ]
  },
  {
   "cell_type": "code",
   "execution_count": 93,
   "id": "01cdb224",
   "metadata": {},
   "outputs": [
    {
     "name": "stdout",
     "output_type": "stream",
     "text": [
      "1 2\n"
     ]
    }
   ],
   "source": [
    "x, y = 1, 2\n",
    "print(x, y)"
   ]
  },
  {
   "cell_type": "code",
   "execution_count": 94,
   "id": "61e95c6b",
   "metadata": {},
   "outputs": [
    {
     "ename": "TypeError",
     "evalue": "cannot unpack non-iterable int object",
     "output_type": "error",
     "traceback": [
      "\u001b[1;31m---------------------------------------------------------------------------\u001b[0m",
      "\u001b[1;31mTypeError\u001b[0m                                 Traceback (most recent call last)",
      "\u001b[1;32mC:\\Users\\MULTIC~1\\AppData\\Local\\Temp/ipykernel_2464/4010015849.py\u001b[0m in \u001b[0;36m<module>\u001b[1;34m\u001b[0m\n\u001b[0;32m      1\u001b[0m \u001b[1;31m# 갯수가 맞지 않는 경우\u001b[0m\u001b[1;33m\u001b[0m\u001b[1;33m\u001b[0m\u001b[0m\n\u001b[1;32m----> 2\u001b[1;33m \u001b[0mx\u001b[0m\u001b[1;33m,\u001b[0m \u001b[0my\u001b[0m \u001b[1;33m=\u001b[0m \u001b[1;36m1\u001b[0m\u001b[1;33m\u001b[0m\u001b[1;33m\u001b[0m\u001b[0m\n\u001b[0m\u001b[0;32m      3\u001b[0m \u001b[0mx\u001b[0m\u001b[1;33m,\u001b[0m \u001b[0my\u001b[0m \u001b[1;33m=\u001b[0m \u001b[1;36m1\u001b[0m\u001b[1;33m,\u001b[0m \u001b[1;36m2\u001b[0m\u001b[1;33m,\u001b[0m \u001b[1;36m3\u001b[0m\u001b[1;33m\u001b[0m\u001b[1;33m\u001b[0m\u001b[0m\n",
      "\u001b[1;31mTypeError\u001b[0m: cannot unpack non-iterable int object"
     ]
    }
   ],
   "source": [
    "# 갯수가 맞지 않는 경우\n",
    "x, y = 1\n",
    "x, y = 1, 2, 3"
   ]
  },
  {
   "cell_type": "markdown",
   "id": "d4e08fc2",
   "metadata": {},
   "source": [
    "#### 값 swap"
   ]
  },
  {
   "cell_type": "markdown",
   "id": "02aa0f36",
   "metadata": {},
   "source": [
    "- x = 10, y = 20일 때, 각각 값을 바꿔서 저장하는 코드를 작성하시오"
   ]
  },
  {
   "cell_type": "code",
   "execution_count": 95,
   "id": "570bfaf0",
   "metadata": {},
   "outputs": [],
   "source": [
    "x, y = 10, 20"
   ]
  },
  {
   "cell_type": "code",
   "execution_count": 96,
   "id": "3b561b43",
   "metadata": {},
   "outputs": [
    {
     "name": "stdout",
     "output_type": "stream",
     "text": [
      "20 10\n"
     ]
    }
   ],
   "source": [
    "temp = x\n",
    "x = y\n",
    "y = temp\n",
    "print(x, y)"
   ]
  },
  {
   "cell_type": "code",
   "execution_count": 97,
   "id": "b2e2d9d8",
   "metadata": {},
   "outputs": [],
   "source": [
    "x, y = 10, 20"
   ]
  },
  {
   "cell_type": "code",
   "execution_count": 98,
   "id": "2c7f1925",
   "metadata": {},
   "outputs": [
    {
     "name": "stdout",
     "output_type": "stream",
     "text": [
      "20 10\n"
     ]
    }
   ],
   "source": [
    "y,x = x, y\n",
    "print(x, y)"
   ]
  },
  {
   "cell_type": "markdown",
   "id": "096b5530",
   "metadata": {},
   "source": [
    "  "
   ]
  },
  {
   "cell_type": "markdown",
   "id": "57cf1da8",
   "metadata": {},
   "source": [
    "### 식별자(Identifiers)"
   ]
  },
  {
   "cell_type": "markdown",
   "id": "0b8d371f",
   "metadata": {},
   "source": [
    "- 변수(박스)의 이름을 어떻게 지을 수 있을까?\n",
    "- 변수, 함수, 모듈, 클래스 등을 식별하는데 사용하는 이름(name)\n",
    "- 규칙\n",
    " - 식별자의 이름은 영문 알파벳, 언더스코어(_), 숫자로 구성\n",
    " - 첫 글자에 숫자가 올 수 없음\n",
    " - 길이 제한이 없고, 대소문자를 구별\n",
    " - 다음 키워드(keywords)는 예약어(reserved words)로 사용할 수 없음"
   ]
  },
  {
   "cell_type": "markdown",
   "id": "c4cc2b10",
   "metadata": {},
   "source": [
    "![](img/reserved-words.png)"
   ]
  },
  {
   "cell_type": "markdown",
   "id": "f9802078",
   "metadata": {},
   "source": [
    "- 키워드 / 예약어"
   ]
  },
  {
   "cell_type": "code",
   "execution_count": 101,
   "id": "77f0420b",
   "metadata": {},
   "outputs": [
    {
     "name": "stdout",
     "output_type": "stream",
     "text": [
      "['False', 'None', 'True', '__peg_parser__', 'and', 'as', 'assert', 'async', 'await', 'break', 'class', 'continue', 'def', 'del', 'elif', 'else', 'except', 'finally', 'for', 'from', 'global', 'if', 'import', 'in', 'is', 'lambda', 'nonlocal', 'not', 'or', 'pass', 'raise', 'return', 'try', 'while', 'with', 'yield']\n"
     ]
    }
   ],
   "source": [
    "import keyword\n",
    "print(keyword.kwlist)"
   ]
  },
  {
   "cell_type": "markdown",
   "id": "035cc948",
   "metadata": {},
   "source": [
    "- 내장함수나 모듈 등의 이름으로도 만들면 안됨\n",
    " - 기존의 이름에 다른 값을 할당하게 되므로 더 이상 동작하지 않음"
   ]
  },
  {
   "cell_type": "code",
   "execution_count": 102,
   "id": "9bce66be",
   "metadata": {},
   "outputs": [
    {
     "name": "stdout",
     "output_type": "stream",
     "text": [
      "5\n"
     ]
    },
    {
     "ename": "TypeError",
     "evalue": "'str' object is not callable",
     "output_type": "error",
     "traceback": [
      "\u001b[1;31m---------------------------------------------------------------------------\u001b[0m",
      "\u001b[1;31mTypeError\u001b[0m                                 Traceback (most recent call last)",
      "\u001b[1;32mC:\\Users\\MULTIC~1\\AppData\\Local\\Temp/ipykernel_2464/2523893784.py\u001b[0m in \u001b[0;36m<module>\u001b[1;34m\u001b[0m\n\u001b[0;32m      1\u001b[0m \u001b[0mprint\u001b[0m\u001b[1;33m(\u001b[0m\u001b[1;36m5\u001b[0m\u001b[1;33m)\u001b[0m\u001b[1;33m\u001b[0m\u001b[1;33m\u001b[0m\u001b[0m\n\u001b[0;32m      2\u001b[0m \u001b[0mprint\u001b[0m \u001b[1;33m=\u001b[0m \u001b[1;34m'hi'\u001b[0m\u001b[1;33m\u001b[0m\u001b[1;33m\u001b[0m\u001b[0m\n\u001b[1;32m----> 3\u001b[1;33m \u001b[0mprint\u001b[0m\u001b[1;33m(\u001b[0m\u001b[1;36m5\u001b[0m\u001b[1;33m)\u001b[0m\u001b[1;33m\u001b[0m\u001b[1;33m\u001b[0m\u001b[0m\n\u001b[0m",
      "\u001b[1;31mTypeError\u001b[0m: 'str' object is not callable"
     ]
    }
   ],
   "source": [
    "print(5)\n",
    "print = 'hi'\n",
    "print(5)"
   ]
  },
  {
   "cell_type": "markdown",
   "id": "aed1ac65",
   "metadata": {},
   "source": [
    "  "
   ]
  },
  {
   "cell_type": "markdown",
   "id": "802449dd",
   "metadata": {},
   "source": [
    "## 연산자"
   ]
  },
  {
   "cell_type": "markdown",
   "id": "b3a42d4a",
   "metadata": {},
   "source": [
    "- 산술 연산자\n",
    "- 비교 연산자\n",
    "- 논리 연산자\n",
    "- 복합 연산자\n",
    "- 기타 연산자\n",
    " - contaenation, containment test, identity, indexing / slicing"
   ]
  },
  {
   "cell_type": "markdown",
   "id": "a6ecd074",
   "metadata": {},
   "source": [
    "### 산술 연산자"
   ]
  },
  {
   "cell_type": "markdown",
   "id": "cc72847f",
   "metadata": {},
   "source": [
    "- 기본적인 사칙연산 및 수식 계산"
   ]
  },
  {
   "cell_type": "markdown",
   "id": "b3eb6eb9",
   "metadata": {},
   "source": [
    "![](img/operations.png)"
   ]
  },
  {
   "cell_type": "code",
   "execution_count": 1,
   "id": "b6561bb9",
   "metadata": {},
   "outputs": [
    {
     "name": "stdout",
     "output_type": "stream",
     "text": [
      "2.5\n",
      "2.0\n",
      "2\n",
      "2\n",
      "1\n"
     ]
    }
   ],
   "source": [
    "print(5 / 2)\n",
    "print(4 / 2) # 나눗셈은 항상 결과가 flaot\n",
    "print(5 // 2)\n",
    "print(int(5 / 2))\n",
    "print(5 % 2)"
   ]
  },
  {
   "cell_type": "code",
   "execution_count": 2,
   "id": "8af1adee",
   "metadata": {},
   "outputs": [
    {
     "name": "stdout",
     "output_type": "stream",
     "text": [
      "(2, 1)\n",
      "2 1\n"
     ]
    }
   ],
   "source": [
    "print(divmod(5, 2))\n",
    "quotient, remainder = divmod(5, 2)\n",
    "print(quotient, remainder)"
   ]
  },
  {
   "cell_type": "markdown",
   "id": "328eeea8",
   "metadata": {},
   "source": [
    "### 비교 연산자"
   ]
  },
  {
   "cell_type": "markdown",
   "id": "97d889ac",
   "metadata": {},
   "source": [
    "- 값을 비교하며, Ture / False 값을 리턴함"
   ]
  },
  {
   "cell_type": "markdown",
   "id": "b6605114",
   "metadata": {},
   "source": [
    "![](img/operations2.png)"
   ]
  },
  {
   "cell_type": "code",
   "execution_count": 3,
   "id": "345cf3bf",
   "metadata": {},
   "outputs": [
    {
     "data": {
      "text/plain": [
       "False"
      ]
     },
     "execution_count": 3,
     "metadata": {},
     "output_type": "execute_result"
    }
   ],
   "source": [
    "3 > 6"
   ]
  },
  {
   "cell_type": "code",
   "execution_count": 4,
   "id": "8c02d8a1",
   "metadata": {},
   "outputs": [
    {
     "data": {
      "text/plain": [
       "True"
      ]
     },
     "execution_count": 4,
     "metadata": {},
     "output_type": "execute_result"
    }
   ],
   "source": [
    "3.0 == 3"
   ]
  },
  {
   "cell_type": "code",
   "execution_count": 5,
   "id": "53eae144",
   "metadata": {},
   "outputs": [
    {
     "data": {
      "text/plain": [
       "True"
      ]
     },
     "execution_count": 5,
     "metadata": {},
     "output_type": "execute_result"
    }
   ],
   "source": [
    "3 >= 0"
   ]
  },
  {
   "cell_type": "code",
   "execution_count": 6,
   "id": "a5686a80",
   "metadata": {},
   "outputs": [
    {
     "data": {
      "text/plain": [
       "True"
      ]
     },
     "execution_count": 6,
     "metadata": {},
     "output_type": "execute_result"
    }
   ],
   "source": [
    "'3' != 3"
   ]
  },
  {
   "cell_type": "code",
   "execution_count": 7,
   "id": "cc5aba75",
   "metadata": {},
   "outputs": [
    {
     "data": {
      "text/plain": [
       "False"
      ]
     },
     "execution_count": 7,
     "metadata": {},
     "output_type": "execute_result"
    }
   ],
   "source": [
    "'Hi' == 'hi'"
   ]
  },
  {
   "cell_type": "code",
   "execution_count": 8,
   "id": "83d4fbe3",
   "metadata": {},
   "outputs": [
    {
     "data": {
      "text/plain": [
       "False"
      ]
     },
     "execution_count": 8,
     "metadata": {},
     "output_type": "execute_result"
    }
   ],
   "source": [
    "# 특정 변수가 비어 있는지 확인하기 위해서는\n",
    "# x == None이 아닌 x is None을 쓰는 것을 권장한다\n",
    "x = 3\n",
    "x is None"
   ]
  },
  {
   "cell_type": "markdown",
   "id": "64069b9d",
   "metadata": {},
   "source": [
    "  "
   ]
  },
  {
   "cell_type": "markdown",
   "id": "d3156972",
   "metadata": {},
   "source": [
    "### 논리 연산자"
   ]
  },
  {
   "cell_type": "markdown",
   "id": "ccabdd38",
   "metadata": {},
   "source": [
    "![](img/operations3.png)"
   ]
  },
  {
   "cell_type": "code",
   "execution_count": 9,
   "id": "51cd3be5",
   "metadata": {},
   "outputs": [
    {
     "name": "stdout",
     "output_type": "stream",
     "text": [
      "True\n",
      "False\n",
      "False\n",
      "False\n"
     ]
    }
   ],
   "source": [
    "print(True and True)\n",
    "print(True and False)\n",
    "print(False and True)\n",
    "print(False and False)"
   ]
  },
  {
   "cell_type": "code",
   "execution_count": 10,
   "id": "e6ef5f9f",
   "metadata": {},
   "outputs": [
    {
     "name": "stdout",
     "output_type": "stream",
     "text": [
      "True\n",
      "True\n",
      "True\n",
      "False\n"
     ]
    }
   ],
   "source": [
    "print(True or True)\n",
    "print(True or False)\n",
    "print(False or True)\n",
    "print(False or False)"
   ]
  },
  {
   "cell_type": "code",
   "execution_count": 11,
   "id": "2ce04291",
   "metadata": {},
   "outputs": [
    {
     "name": "stdout",
     "output_type": "stream",
     "text": [
      "False\n",
      "True\n",
      "False\n"
     ]
    }
   ],
   "source": [
    "print(not True)\n",
    "print(not 0)\n",
    "print(not 'hi')"
   ]
  },
  {
   "cell_type": "markdown",
   "id": "6d7226e1",
   "metadata": {},
   "source": [
    "- 일반적으로 비교 연산자와 함께 사용됨"
   ]
  },
  {
   "cell_type": "code",
   "execution_count": 12,
   "id": "64ca8f89",
   "metadata": {},
   "outputs": [
    {
     "data": {
      "text/plain": [
       "True"
      ]
     },
     "execution_count": 12,
     "metadata": {},
     "output_type": "execute_result"
    }
   ],
   "source": [
    "num = 100\n",
    "num >= 100 and num % 3 == 1"
   ]
  },
  {
   "cell_type": "markdown",
   "id": "7a809e50",
   "metadata": {},
   "source": [
    "- 결과가 확실한 경우 두번째 값은 확인하지 않음\n",
    " - and 연산에서 첫번째 값이 False인 경우 무조건 False => 첫번째 값 변환\n",
    " - or 연산에서 첫번째 값이 True인 경우 무조선 True => 첫번째 값 반환"
   ]
  },
  {
   "cell_type": "code",
   "execution_count": 13,
   "id": "1d702c4f",
   "metadata": {},
   "outputs": [
    {
     "name": "stdout",
     "output_type": "stream",
     "text": [
      "4\n"
     ]
    }
   ],
   "source": [
    "a = 5 and 4\n",
    "print(a)"
   ]
  },
  {
   "cell_type": "code",
   "execution_count": 17,
   "id": "e04279f3",
   "metadata": {},
   "outputs": [
    {
     "name": "stdout",
     "output_type": "stream",
     "text": [
      "5\n"
     ]
    }
   ],
   "source": [
    "b = 5 or 3\n",
    "print(b)"
   ]
  },
  {
   "cell_type": "code",
   "execution_count": 15,
   "id": "18b7c1ce",
   "metadata": {},
   "outputs": [
    {
     "name": "stdout",
     "output_type": "stream",
     "text": [
      "0\n"
     ]
    }
   ],
   "source": [
    "c = 0 and 5\n",
    "print(c)"
   ]
  },
  {
   "cell_type": "code",
   "execution_count": 16,
   "id": "40eb28aa",
   "metadata": {},
   "outputs": [
    {
     "name": "stdout",
     "output_type": "stream",
     "text": [
      "5\n"
     ]
    }
   ],
   "source": [
    "d = 5 or 0\n",
    "print(d)"
   ]
  },
  {
   "cell_type": "code",
   "execution_count": 18,
   "id": "894ca27b",
   "metadata": {},
   "outputs": [
    {
     "name": "stdout",
     "output_type": "stream",
     "text": [
      "5\n",
      "0\n",
      "0\n",
      "0\n"
     ]
    }
   ],
   "source": [
    "print(3 and 5)\n",
    "print(3 and 0)\n",
    "print(0 and 3)\n",
    "print(0 and 0)"
   ]
  },
  {
   "cell_type": "code",
   "execution_count": 19,
   "id": "f239af26",
   "metadata": {},
   "outputs": [
    {
     "name": "stdout",
     "output_type": "stream",
     "text": [
      "5\n",
      "3\n",
      "3\n",
      "0\n"
     ]
    }
   ],
   "source": [
    "print(5 or 3)\n",
    "print(3 or 0)\n",
    "print(0 or 3)\n",
    "print(0 or 0)"
   ]
  },
  {
   "cell_type": "markdown",
   "id": "81ae6a84",
   "metadata": {},
   "source": [
    "  "
   ]
  },
  {
   "cell_type": "markdown",
   "id": "7cfb4a64",
   "metadata": {},
   "source": [
    "### 복합 연산자"
   ]
  },
  {
   "cell_type": "markdown",
   "id": "bc4fe81f",
   "metadata": {},
   "source": [
    "- 복합 연산자는 연산과 대입이 함께 이루어짐"
   ]
  },
  {
   "cell_type": "markdown",
   "id": "12b296c0",
   "metadata": {},
   "source": [
    "![](img/operations4.png)"
   ]
  },
  {
   "cell_type": "markdown",
   "id": "5277bd80",
   "metadata": {},
   "source": [
    "- 복합 연산자는 연산과 대입이 함께 이루어짐\n",
    " - 예시) 반복문을 통해서 개수를 카운트하는 경우"
   ]
  },
  {
   "cell_type": "code",
   "execution_count": 21,
   "id": "e9816ff0",
   "metadata": {},
   "outputs": [
    {
     "name": "stdout",
     "output_type": "stream",
     "text": [
      "101\n"
     ]
    }
   ],
   "source": [
    "cnt = 100\n",
    "cnt += 1\n",
    "print(cnt)"
   ]
  },
  {
   "cell_type": "code",
   "execution_count": 22,
   "id": "aefd7b3d",
   "metadata": {},
   "outputs": [
    {
     "name": "stdout",
     "output_type": "stream",
     "text": [
      "0\n",
      "1\n",
      "2\n"
     ]
    }
   ],
   "source": [
    "cnt = 0\n",
    "while cnt < 3:\n",
    "    print(cnt)\n",
    "    cnt += 1"
   ]
  },
  {
   "cell_type": "markdown",
   "id": "8cdbc9b3",
   "metadata": {},
   "source": [
    "#### Concatenation"
   ]
  },
  {
   "cell_type": "markdown",
   "id": "89fe59e0",
   "metadata": {},
   "source": [
    "- +는 숫자가 아닌 자료형에서도 사용 가능함\n",
    " - 컨테이너, OOP에서 연산자의 다양한 활용을 확인"
   ]
  },
  {
   "cell_type": "code",
   "execution_count": 23,
   "id": "a72df0d7",
   "metadata": {},
   "outputs": [
    {
     "data": {
      "text/plain": [
       "'hello, world !'"
      ]
     },
     "execution_count": 23,
     "metadata": {},
     "output_type": "execute_result"
    }
   ],
   "source": [
    "'hello, ' + 'world !'"
   ]
  },
  {
   "cell_type": "markdown",
   "id": "cca34aa7",
   "metadata": {},
   "source": [
    "#### Containment Test"
   ]
  },
  {
   "cell_type": "markdown",
   "id": "c755059e",
   "metadata": {},
   "source": [
    "- 특정 요소가 속해 있는지 여부를 확인"
   ]
  },
  {
   "cell_type": "code",
   "execution_count": 24,
   "id": "382cc60d",
   "metadata": {},
   "outputs": [
    {
     "data": {
      "text/plain": [
       "True"
      ]
     },
     "execution_count": 24,
     "metadata": {},
     "output_type": "execute_result"
    }
   ],
   "source": [
    "'a' in 'apple'"
   ]
  },
  {
   "cell_type": "markdown",
   "id": "92a3dfef",
   "metadata": {},
   "source": [
    "#### Identity"
   ]
  },
  {
   "cell_type": "markdown",
   "id": "d828d0e8",
   "metadata": {},
   "source": [
    "- is 연산자를 통해 동일한 객체(object)인지 확인 가능함\n",
    " - OOP에서 추가 학습"
   ]
  },
  {
   "cell_type": "code",
   "execution_count": 26,
   "id": "74a44414",
   "metadata": {},
   "outputs": [
    {
     "name": "stdout",
     "output_type": "stream",
     "text": [
      "True\n",
      "2037776410992 2037776411056\n"
     ]
    }
   ],
   "source": [
    "# 파이썬에서 -5부터 256까지 숫자의 id는 동일\n",
    "a = 3\n",
    "b = 3\n",
    "print(a is b)\n",
    "print(id(a), id(d))"
   ]
  },
  {
   "cell_type": "code",
   "execution_count": 27,
   "id": "a3dcf781",
   "metadata": {},
   "outputs": [
    {
     "name": "stdout",
     "output_type": "stream",
     "text": [
      "False\n",
      "2037856527664 2037856527568\n"
     ]
    }
   ],
   "source": [
    "c = 257\n",
    "d = 257\n",
    "print(c is d)\n",
    "print(id(c), id(d))"
   ]
  },
  {
   "cell_type": "code",
   "execution_count": 28,
   "id": "6dfbe7aa",
   "metadata": {},
   "outputs": [
    {
     "data": {
      "text/plain": [
       "False"
      ]
     },
     "execution_count": 28,
     "metadata": {},
     "output_type": "execute_result"
    }
   ],
   "source": [
    "# 특정 변수가 비어 있는지 확인하기 위해서는 \n",
    "# x == None이 아닌 x is None을 쓰는 것을 권장\n",
    "x = 3\n",
    "x is None"
   ]
  },
  {
   "cell_type": "markdown",
   "id": "b3ceb964",
   "metadata": {},
   "source": [
    "#### Indexing / Slicing"
   ]
  },
  {
   "cell_type": "markdown",
   "id": "9d3b54f4",
   "metadata": {},
   "source": [
    "- [ ]를 통해 값을 접근하고, [ : ]를 통해 슬라이싱 가능함\n",
    " - 컨테이너에서 추가 학습"
   ]
  },
  {
   "cell_type": "code",
   "execution_count": 29,
   "id": "4e4fdf93",
   "metadata": {},
   "outputs": [
    {
     "data": {
      "text/plain": [
       "'h'"
      ]
     },
     "execution_count": 29,
     "metadata": {},
     "output_type": "execute_result"
    }
   ],
   "source": [
    "'hello, world!'[0]"
   ]
  },
  {
   "cell_type": "code",
   "execution_count": 30,
   "id": "26b05a70",
   "metadata": {},
   "outputs": [
    {
     "data": {
      "text/plain": [
       "'ello'"
      ]
     },
     "execution_count": 30,
     "metadata": {},
     "output_type": "execute_result"
    }
   ],
   "source": [
    "'hello, world!'[1:5]"
   ]
  },
  {
   "cell_type": "markdown",
   "id": "df8718f3",
   "metadata": {},
   "source": [
    "#### 연산자 우선 순위"
   ]
  },
  {
   "cell_type": "markdown",
   "id": "b4fb7c1a",
   "metadata": {},
   "source": [
    "- 다음은 주요 연산자의 우선 순위이며, 작성시 유의할 것\n",
    " - ( )\n",
    " - Slicing\n",
    " - Indexing\n",
    " - **\n",
    " - 단항 연산자( +, - ) : 부호\n",
    " - 산술 연산자( *, /, % )\n",
    " - 산술 연산자( +, - )\n",
    " - 비교 연산자 in, is\n",
    " - not\n",
    " - and\n",
    " - or"
   ]
  },
  {
   "cell_type": "markdown",
   "id": "6b972795",
   "metadata": {},
   "source": [
    "- 실습문제"
   ]
  },
  {
   "cell_type": "code",
   "execution_count": 31,
   "id": "00bb7467",
   "metadata": {},
   "outputs": [
    {
     "data": {
      "text/plain": [
       "False"
      ]
     },
     "execution_count": 31,
     "metadata": {},
     "output_type": "execute_result"
    }
   ],
   "source": [
    "'apple'[0] in 'world' and -3**3*0 > 4 % 2"
   ]
  },
  {
   "cell_type": "markdown",
   "id": "df729261",
   "metadata": {},
   "source": [
    "  "
   ]
  },
  {
   "cell_type": "markdown",
   "id": "1adc2bd4",
   "metadata": {},
   "source": [
    "### 표현식 / 문장"
   ]
  },
  {
   "cell_type": "markdown",
   "id": "afc0c9ad",
   "metadata": {},
   "source": [
    "### 표현식, 식(expression)"
   ]
  },
  {
   "cell_type": "markdown",
   "id": "f0953e9d",
   "metadata": {},
   "source": [
    "- 표현식은 평가(evaluate)되고, 값으로 변경\n",
    "- 하나의 값으로 환원(reduce)될 수 있는 문장\n",
    "- 식별자, 값, 연산자로 구성"
   ]
  },
  {
   "cell_type": "code",
   "execution_count": 32,
   "id": "ad1da247",
   "metadata": {},
   "outputs": [],
   "source": [
    "# 표현식에 대해 알아봅시다"
   ]
  },
  {
   "cell_type": "code",
   "execution_count": 33,
   "id": "3c25a464",
   "metadata": {},
   "outputs": [
    {
     "data": {
      "text/plain": [
       "'hello'"
      ]
     },
     "execution_count": 33,
     "metadata": {},
     "output_type": "execute_result"
    }
   ],
   "source": [
    "# 하나의 값(Value)도 표현식(Expression)이 될 수 있습니다.\n",
    "'hello'"
   ]
  },
  {
   "cell_type": "code",
   "execution_count": 34,
   "id": "516509df",
   "metadata": {},
   "outputs": [],
   "source": [
    "# 표현식은 하나의 값으로 평가(evaluate)될 수 있어야 합니다.\n",
    "# 그러면 할당문(assignment statement)은 표현식일까요?\n",
    "radius = 10"
   ]
  },
  {
   "cell_type": "code",
   "execution_count": 35,
   "id": "21f410c8",
   "metadata": {},
   "outputs": [
    {
     "data": {
      "text/plain": [
       "78.5"
      ]
     },
     "execution_count": 35,
     "metadata": {},
     "output_type": "execute_result"
    }
   ],
   "source": [
    "# 식별자가 값이 할당되어 있는 경우 수식의 일부가 될 수 있습니다.\n",
    "3.14 * (radius - 5) ** 2"
   ]
  },
  {
   "cell_type": "code",
   "execution_count": 36,
   "id": "3c55c6b8",
   "metadata": {},
   "outputs": [
    {
     "ename": "SyntaxError",
     "evalue": "invalid syntax (Temp/ipykernel_1636/774505932.py, line 3)",
     "output_type": "error",
     "traceback": [
      "\u001b[1;36m  File \u001b[1;32m\"C:\\Users\\MULTIC~1\\AppData\\Local\\Temp/ipykernel_1636/774505932.py\"\u001b[1;36m, line \u001b[1;32m3\u001b[0m\n\u001b[1;33m    4 +\u001b[0m\n\u001b[1;37m       ^\u001b[0m\n\u001b[1;31mSyntaxError\u001b[0m\u001b[1;31m:\u001b[0m invalid syntax\n"
     ]
    }
   ],
   "source": [
    "# 표현식을 만드는 문법(syntax)은 일반적인 (중위표기) 수식의 규칙과 유사합니다.\n",
    "# 아래와 같은 문장은 표현식이 될 수 없습니다.\n",
    "4 +"
   ]
  },
  {
   "cell_type": "markdown",
   "id": "8fef676c",
   "metadata": {},
   "source": [
    "### 문, 문장(Statement)"
   ]
  },
  {
   "cell_type": "markdown",
   "id": "c88f31be",
   "metadata": {},
   "source": [
    "- 파이썬이 실행 가능한 최소한의 코드 단위\n",
    "- 모든 표현식(expression)은 문장(statement)\n",
    " - 표현식이 아닌 문장이 존재함 - 예) del 5"
   ]
  },
  {
   "cell_type": "code",
   "execution_count": 37,
   "id": "aba61311",
   "metadata": {},
   "outputs": [
    {
     "data": {
      "text/plain": [
       "'hello'"
      ]
     },
     "execution_count": 37,
     "metadata": {},
     "output_type": "execute_result"
    }
   ],
   "source": [
    "# 하나의 값(Value)도 문장이 될 수 있습니다.\n",
    "'hello'"
   ]
  },
  {
   "cell_type": "code",
   "execution_count": 38,
   "id": "82062314",
   "metadata": {},
   "outputs": [
    {
     "data": {
      "text/plain": [
       "101"
      ]
     },
     "execution_count": 38,
     "metadata": {},
     "output_type": "execute_result"
    }
   ],
   "source": [
    "# 표현식(Expression)도 문장이 될 수 있습니다.\n",
    "5 * 21 - 4"
   ]
  },
  {
   "cell_type": "code",
   "execution_count": 39,
   "id": "91b12660",
   "metadata": {},
   "outputs": [],
   "source": [
    "# 실행 가능(excutable) 해야 하기 때문에 아래의 코드는 문장이 될 수 없습니다."
   ]
  },
  {
   "cell_type": "code",
   "execution_count": 41,
   "id": "2ca513b2",
   "metadata": {},
   "outputs": [
    {
     "ename": "SyntaxError",
     "evalue": "EOL while scanning string literal (Temp/ipykernel_1636/1994775210.py, line 1)",
     "output_type": "error",
     "traceback": [
      "\u001b[1;36m  File \u001b[1;32m\"C:\\Users\\MULTIC~1\\AppData\\Local\\Temp/ipykernel_1636/1994775210.py\"\u001b[1;36m, line \u001b[1;32m1\u001b[0m\n\u001b[1;33m    name = '\u001b[0m\n\u001b[1;37m            ^\u001b[0m\n\u001b[1;31mSyntaxError\u001b[0m\u001b[1;31m:\u001b[0m EOL while scanning string literal\n"
     ]
    }
   ],
   "source": [
    "name = '"
   ]
  },
  {
   "cell_type": "markdown",
   "id": "e512b9bd",
   "metadata": {},
   "source": [
    "### 상관관계"
   ]
  },
  {
   "cell_type": "markdown",
   "id": "2077a1c7",
   "metadata": {},
   "source": [
    "![](img/correlation.png)"
   ]
  },
  {
   "cell_type": "markdown",
   "id": "f814403c",
   "metadata": {},
   "source": [
    "![](img/correlation2.png)"
   ]
  }
 ],
 "metadata": {
  "kernelspec": {
   "display_name": "Python 3 (ipykernel)",
   "language": "python",
   "name": "python3"
  },
  "language_info": {
   "codemirror_mode": {
    "name": "ipython",
    "version": 3
   },
   "file_extension": ".py",
   "mimetype": "text/x-python",
   "name": "python",
   "nbconvert_exporter": "python",
   "pygments_lexer": "ipython3",
   "version": "3.9.7"
  }
 },
 "nbformat": 4,
 "nbformat_minor": 5
}
